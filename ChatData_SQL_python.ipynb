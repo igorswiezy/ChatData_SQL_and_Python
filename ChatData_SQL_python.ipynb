{
  "cells": [
    {
      "cell_type": "markdown",
      "metadata": {
        "id": "3AZrMUEzDuYk"
      },
      "source": [
        "# ChatData"
      ]
    },
    {
      "cell_type": "code",
      "execution_count": null,
      "metadata": {
        "id": "MK2qxQylDuYq"
      },
      "outputs": [],
      "source": [
        "import numpy as np\n",
        "import pandas as pd\n",
        "import sqlite3"
      ]
    },
    {
      "cell_type": "code",
      "source": [
        "pip install sqlalchemy==1.3.2"
      ],
      "metadata": {
        "id": "rBX2S1_JEUy5"
      },
      "execution_count": null,
      "outputs": []
    },
    {
      "cell_type": "code",
      "execution_count": null,
      "metadata": {
        "id": "9OA50qZ1DuYr"
      },
      "outputs": [],
      "source": [
        "con = sqlite3.connect('chatdata.db')\n",
        "\n",
        "%load_ext sql\n",
        "\n",
        "%sql sqlite:///chatdata.db"
      ]
    },
    {
      "cell_type": "code",
      "execution_count": null,
      "metadata": {
        "colab": {
          "base_uri": "https://localhost:8080/"
        },
        "id": "wdk7tHtBDuYt",
        "outputId": "e0e16570-66d1-4ac1-8cdb-d3def36bb371"
      },
      "outputs": [
        {
          "output_type": "stream",
          "name": "stdout",
          "text": [
            " * sqlite:///chatdata.db\n",
            "Done.\n"
          ]
        },
        {
          "output_type": "execute_result",
          "data": {
            "text/plain": [
              "[]"
            ]
          },
          "metadata": {},
          "execution_count": 6
        }
      ],
      "source": [
        "%%sql\n",
        "DROP TABLE IF EXISTS 'queries'"
      ]
    },
    {
      "cell_type": "code",
      "source": [
        "from google.colab import drive\n",
        "drive.mount('/content/drive')"
      ],
      "metadata": {
        "colab": {
          "base_uri": "https://localhost:8080/"
        },
        "id": "_tGESg0z2Cw7",
        "outputId": "a3efaa85-ac28-4d67-877f-443e7138b480"
      },
      "execution_count": null,
      "outputs": [
        {
          "output_type": "stream",
          "name": "stdout",
          "text": [
            "Mounted at /content/drive\n"
          ]
        }
      ]
    },
    {
      "cell_type": "code",
      "execution_count": null,
      "metadata": {
        "colab": {
          "base_uri": "https://localhost:8080/",
          "height": 204
        },
        "id": "aPrLHWfkDuYv",
        "outputId": "ba08be05-7103-48d5-ecdd-7f594187abf0"
      },
      "outputs": [
        {
          "output_type": "execute_result",
          "data": {
            "text/plain": [
              "       Id  PostId  Score                                               Text  \\\n",
              "0  723182  385124      0  @BenBolker I don't understand. The fit cannot ...   \n",
              "1  723183  385124      3  You can't add *less* than (`-min(y)`), but you...   \n",
              "2  723186  385137      0  nice. If you felt like doing the work it would...   \n",
              "3  723187  385137      0  i.e. `emdbook::curve3d(-sum(dnbinom(y,mu=mu,si...   \n",
              "4  723188  385134      0  Don't you mean \"so variance should be $\\sigma^...   \n",
              "\n",
              "          CreationDate  UserId  \n",
              "0  2019-01-01 00:06:39   78575  \n",
              "1  2019-01-01 00:09:22    2126  \n",
              "2  2019-01-01 00:32:11    2126  \n",
              "3  2019-01-01 00:40:36    2126  \n",
              "4  2019-01-01 00:41:28  112141  "
            ],
            "text/html": [
              "\n",
              "\n",
              "  <div id=\"df-fe060a05-f6f2-42fd-843c-22ea8d02262b\">\n",
              "    <div class=\"colab-df-container\">\n",
              "      <div>\n",
              "<style scoped>\n",
              "    .dataframe tbody tr th:only-of-type {\n",
              "        vertical-align: middle;\n",
              "    }\n",
              "\n",
              "    .dataframe tbody tr th {\n",
              "        vertical-align: top;\n",
              "    }\n",
              "\n",
              "    .dataframe thead th {\n",
              "        text-align: right;\n",
              "    }\n",
              "</style>\n",
              "<table border=\"1\" class=\"dataframe\">\n",
              "  <thead>\n",
              "    <tr style=\"text-align: right;\">\n",
              "      <th></th>\n",
              "      <th>Id</th>\n",
              "      <th>PostId</th>\n",
              "      <th>Score</th>\n",
              "      <th>Text</th>\n",
              "      <th>CreationDate</th>\n",
              "      <th>UserId</th>\n",
              "    </tr>\n",
              "  </thead>\n",
              "  <tbody>\n",
              "    <tr>\n",
              "      <th>0</th>\n",
              "      <td>723182</td>\n",
              "      <td>385124</td>\n",
              "      <td>0</td>\n",
              "      <td>@BenBolker I don't understand. The fit cannot ...</td>\n",
              "      <td>2019-01-01 00:06:39</td>\n",
              "      <td>78575</td>\n",
              "    </tr>\n",
              "    <tr>\n",
              "      <th>1</th>\n",
              "      <td>723183</td>\n",
              "      <td>385124</td>\n",
              "      <td>3</td>\n",
              "      <td>You can't add *less* than (`-min(y)`), but you...</td>\n",
              "      <td>2019-01-01 00:09:22</td>\n",
              "      <td>2126</td>\n",
              "    </tr>\n",
              "    <tr>\n",
              "      <th>2</th>\n",
              "      <td>723186</td>\n",
              "      <td>385137</td>\n",
              "      <td>0</td>\n",
              "      <td>nice. If you felt like doing the work it would...</td>\n",
              "      <td>2019-01-01 00:32:11</td>\n",
              "      <td>2126</td>\n",
              "    </tr>\n",
              "    <tr>\n",
              "      <th>3</th>\n",
              "      <td>723187</td>\n",
              "      <td>385137</td>\n",
              "      <td>0</td>\n",
              "      <td>i.e. `emdbook::curve3d(-sum(dnbinom(y,mu=mu,si...</td>\n",
              "      <td>2019-01-01 00:40:36</td>\n",
              "      <td>2126</td>\n",
              "    </tr>\n",
              "    <tr>\n",
              "      <th>4</th>\n",
              "      <td>723188</td>\n",
              "      <td>385134</td>\n",
              "      <td>0</td>\n",
              "      <td>Don't you mean \"so variance should be $\\sigma^...</td>\n",
              "      <td>2019-01-01 00:41:28</td>\n",
              "      <td>112141</td>\n",
              "    </tr>\n",
              "  </tbody>\n",
              "</table>\n",
              "</div>\n",
              "      <button class=\"colab-df-convert\" onclick=\"convertToInteractive('df-fe060a05-f6f2-42fd-843c-22ea8d02262b')\"\n",
              "              title=\"Convert this dataframe to an interactive table.\"\n",
              "              style=\"display:none;\">\n",
              "\n",
              "  <svg xmlns=\"http://www.w3.org/2000/svg\" height=\"24px\"viewBox=\"0 0 24 24\"\n",
              "       width=\"24px\">\n",
              "    <path d=\"M0 0h24v24H0V0z\" fill=\"none\"/>\n",
              "    <path d=\"M18.56 5.44l.94 2.06.94-2.06 2.06-.94-2.06-.94-.94-2.06-.94 2.06-2.06.94zm-11 1L8.5 8.5l.94-2.06 2.06-.94-2.06-.94L8.5 2.5l-.94 2.06-2.06.94zm10 10l.94 2.06.94-2.06 2.06-.94-2.06-.94-.94-2.06-.94 2.06-2.06.94z\"/><path d=\"M17.41 7.96l-1.37-1.37c-.4-.4-.92-.59-1.43-.59-.52 0-1.04.2-1.43.59L10.3 9.45l-7.72 7.72c-.78.78-.78 2.05 0 2.83L4 21.41c.39.39.9.59 1.41.59.51 0 1.02-.2 1.41-.59l7.78-7.78 2.81-2.81c.8-.78.8-2.07 0-2.86zM5.41 20L4 18.59l7.72-7.72 1.47 1.35L5.41 20z\"/>\n",
              "  </svg>\n",
              "      </button>\n",
              "\n",
              "\n",
              "\n",
              "    <div id=\"df-e9085134-68c2-432c-a6ff-5dc0c312903a\">\n",
              "      <button class=\"colab-df-quickchart\" onclick=\"quickchart('df-e9085134-68c2-432c-a6ff-5dc0c312903a')\"\n",
              "              title=\"Suggest charts.\"\n",
              "              style=\"display:none;\">\n",
              "\n",
              "<svg xmlns=\"http://www.w3.org/2000/svg\" height=\"24px\"viewBox=\"0 0 24 24\"\n",
              "     width=\"24px\">\n",
              "    <g>\n",
              "        <path d=\"M19 3H5c-1.1 0-2 .9-2 2v14c0 1.1.9 2 2 2h14c1.1 0 2-.9 2-2V5c0-1.1-.9-2-2-2zM9 17H7v-7h2v7zm4 0h-2V7h2v10zm4 0h-2v-4h2v4z\"/>\n",
              "    </g>\n",
              "</svg>\n",
              "      </button>\n",
              "    </div>\n",
              "\n",
              "<style>\n",
              "  .colab-df-quickchart {\n",
              "    background-color: #E8F0FE;\n",
              "    border: none;\n",
              "    border-radius: 50%;\n",
              "    cursor: pointer;\n",
              "    display: none;\n",
              "    fill: #1967D2;\n",
              "    height: 32px;\n",
              "    padding: 0 0 0 0;\n",
              "    width: 32px;\n",
              "  }\n",
              "\n",
              "  .colab-df-quickchart:hover {\n",
              "    background-color: #E2EBFA;\n",
              "    box-shadow: 0px 1px 2px rgba(60, 64, 67, 0.3), 0px 1px 3px 1px rgba(60, 64, 67, 0.15);\n",
              "    fill: #174EA6;\n",
              "  }\n",
              "\n",
              "  [theme=dark] .colab-df-quickchart {\n",
              "    background-color: #3B4455;\n",
              "    fill: #D2E3FC;\n",
              "  }\n",
              "\n",
              "  [theme=dark] .colab-df-quickchart:hover {\n",
              "    background-color: #434B5C;\n",
              "    box-shadow: 0px 1px 3px 1px rgba(0, 0, 0, 0.15);\n",
              "    filter: drop-shadow(0px 1px 2px rgba(0, 0, 0, 0.3));\n",
              "    fill: #FFFFFF;\n",
              "  }\n",
              "</style>\n",
              "\n",
              "    <script>\n",
              "      async function quickchart(key) {\n",
              "        const containerElement = document.querySelector('#' + key);\n",
              "        const charts = await google.colab.kernel.invokeFunction(\n",
              "            'suggestCharts', [key], {});\n",
              "      }\n",
              "    </script>\n",
              "\n",
              "      <script>\n",
              "\n",
              "function displayQuickchartButton(domScope) {\n",
              "  let quickchartButtonEl =\n",
              "    domScope.querySelector('#df-e9085134-68c2-432c-a6ff-5dc0c312903a button.colab-df-quickchart');\n",
              "  quickchartButtonEl.style.display =\n",
              "    google.colab.kernel.accessAllowed ? 'block' : 'none';\n",
              "}\n",
              "\n",
              "        displayQuickchartButton(document);\n",
              "      </script>\n",
              "      <style>\n",
              "    .colab-df-container {\n",
              "      display:flex;\n",
              "      flex-wrap:wrap;\n",
              "      gap: 12px;\n",
              "    }\n",
              "\n",
              "    .colab-df-convert {\n",
              "      background-color: #E8F0FE;\n",
              "      border: none;\n",
              "      border-radius: 50%;\n",
              "      cursor: pointer;\n",
              "      display: none;\n",
              "      fill: #1967D2;\n",
              "      height: 32px;\n",
              "      padding: 0 0 0 0;\n",
              "      width: 32px;\n",
              "    }\n",
              "\n",
              "    .colab-df-convert:hover {\n",
              "      background-color: #E2EBFA;\n",
              "      box-shadow: 0px 1px 2px rgba(60, 64, 67, 0.3), 0px 1px 3px 1px rgba(60, 64, 67, 0.15);\n",
              "      fill: #174EA6;\n",
              "    }\n",
              "\n",
              "    [theme=dark] .colab-df-convert {\n",
              "      background-color: #3B4455;\n",
              "      fill: #D2E3FC;\n",
              "    }\n",
              "\n",
              "    [theme=dark] .colab-df-convert:hover {\n",
              "      background-color: #434B5C;\n",
              "      box-shadow: 0px 1px 3px 1px rgba(0, 0, 0, 0.15);\n",
              "      filter: drop-shadow(0px 1px 2px rgba(0, 0, 0, 0.3));\n",
              "      fill: #FFFFFF;\n",
              "    }\n",
              "  </style>\n",
              "\n",
              "      <script>\n",
              "        const buttonEl =\n",
              "          document.querySelector('#df-fe060a05-f6f2-42fd-843c-22ea8d02262b button.colab-df-convert');\n",
              "        buttonEl.style.display =\n",
              "          google.colab.kernel.accessAllowed ? 'block' : 'none';\n",
              "\n",
              "        async function convertToInteractive(key) {\n",
              "          const element = document.querySelector('#df-fe060a05-f6f2-42fd-843c-22ea8d02262b');\n",
              "          const dataTable =\n",
              "            await google.colab.kernel.invokeFunction('convertToInteractive',\n",
              "                                                     [key], {});\n",
              "          if (!dataTable) return;\n",
              "\n",
              "          const docLinkHtml = 'Like what you see? Visit the ' +\n",
              "            '<a target=\"_blank\" href=https://colab.research.google.com/notebooks/data_table.ipynb>data table notebook</a>'\n",
              "            + ' to learn more about interactive tables.';\n",
              "          element.innerHTML = '';\n",
              "          dataTable['output_type'] = 'display_data';\n",
              "          await google.colab.output.renderOutput(dataTable, element);\n",
              "          const docLink = document.createElement('div');\n",
              "          docLink.innerHTML = docLinkHtml;\n",
              "          element.appendChild(docLink);\n",
              "        }\n",
              "      </script>\n",
              "    </div>\n",
              "  </div>\n"
            ]
          },
          "metadata": {},
          "execution_count": 8
        }
      ],
      "source": [
        "comments = pd.read_csv('/content/drive/MyDrive/Colab Notebooks/comments.csv')\n",
        "comments.head()"
      ]
    },
    {
      "cell_type": "code",
      "execution_count": null,
      "metadata": {
        "colab": {
          "base_uri": "https://localhost:8080/",
          "height": 204
        },
        "id": "3_n4qNGsDuYv",
        "outputId": "94bbb5d3-b743-4360-dd18-bdf83d4dd4f7"
      },
      "outputs": [
        {
          "output_type": "execute_result",
          "data": {
            "text/plain": [
              "       Id  PostId  Score                                               Text  \\\n",
              "0  723182  385124      0  @BenBolker I don't understand. The fit cannot ...   \n",
              "1  723183  385124      3  You can't add *less* than (`-min(y)`), but you...   \n",
              "2  723186  385137      0  nice. If you felt like doing the work it would...   \n",
              "3  723187  385137      0  i.e. `emdbook::curve3d(-sum(dnbinom(y,mu=mu,si...   \n",
              "4  723188  385134      0  Don't you mean \"so variance should be $\\sigma^...   \n",
              "\n",
              "          CreationDate  UserId  \n",
              "0  2019-01-01 00:06:39   78575  \n",
              "1  2019-01-01 00:09:22    2126  \n",
              "2  2019-01-01 00:32:11    2126  \n",
              "3  2019-01-01 00:40:36    2126  \n",
              "4  2019-01-01 00:41:28  112141  "
            ],
            "text/html": [
              "\n",
              "\n",
              "  <div id=\"df-dc076de5-d3ca-4da7-9a0f-a3412e4415d2\">\n",
              "    <div class=\"colab-df-container\">\n",
              "      <div>\n",
              "<style scoped>\n",
              "    .dataframe tbody tr th:only-of-type {\n",
              "        vertical-align: middle;\n",
              "    }\n",
              "\n",
              "    .dataframe tbody tr th {\n",
              "        vertical-align: top;\n",
              "    }\n",
              "\n",
              "    .dataframe thead th {\n",
              "        text-align: right;\n",
              "    }\n",
              "</style>\n",
              "<table border=\"1\" class=\"dataframe\">\n",
              "  <thead>\n",
              "    <tr style=\"text-align: right;\">\n",
              "      <th></th>\n",
              "      <th>Id</th>\n",
              "      <th>PostId</th>\n",
              "      <th>Score</th>\n",
              "      <th>Text</th>\n",
              "      <th>CreationDate</th>\n",
              "      <th>UserId</th>\n",
              "    </tr>\n",
              "  </thead>\n",
              "  <tbody>\n",
              "    <tr>\n",
              "      <th>0</th>\n",
              "      <td>723182</td>\n",
              "      <td>385124</td>\n",
              "      <td>0</td>\n",
              "      <td>@BenBolker I don't understand. The fit cannot ...</td>\n",
              "      <td>2019-01-01 00:06:39</td>\n",
              "      <td>78575</td>\n",
              "    </tr>\n",
              "    <tr>\n",
              "      <th>1</th>\n",
              "      <td>723183</td>\n",
              "      <td>385124</td>\n",
              "      <td>3</td>\n",
              "      <td>You can't add *less* than (`-min(y)`), but you...</td>\n",
              "      <td>2019-01-01 00:09:22</td>\n",
              "      <td>2126</td>\n",
              "    </tr>\n",
              "    <tr>\n",
              "      <th>2</th>\n",
              "      <td>723186</td>\n",
              "      <td>385137</td>\n",
              "      <td>0</td>\n",
              "      <td>nice. If you felt like doing the work it would...</td>\n",
              "      <td>2019-01-01 00:32:11</td>\n",
              "      <td>2126</td>\n",
              "    </tr>\n",
              "    <tr>\n",
              "      <th>3</th>\n",
              "      <td>723187</td>\n",
              "      <td>385137</td>\n",
              "      <td>0</td>\n",
              "      <td>i.e. `emdbook::curve3d(-sum(dnbinom(y,mu=mu,si...</td>\n",
              "      <td>2019-01-01 00:40:36</td>\n",
              "      <td>2126</td>\n",
              "    </tr>\n",
              "    <tr>\n",
              "      <th>4</th>\n",
              "      <td>723188</td>\n",
              "      <td>385134</td>\n",
              "      <td>0</td>\n",
              "      <td>Don't you mean \"so variance should be $\\sigma^...</td>\n",
              "      <td>2019-01-01 00:41:28</td>\n",
              "      <td>112141</td>\n",
              "    </tr>\n",
              "  </tbody>\n",
              "</table>\n",
              "</div>\n",
              "      <button class=\"colab-df-convert\" onclick=\"convertToInteractive('df-dc076de5-d3ca-4da7-9a0f-a3412e4415d2')\"\n",
              "              title=\"Convert this dataframe to an interactive table.\"\n",
              "              style=\"display:none;\">\n",
              "\n",
              "  <svg xmlns=\"http://www.w3.org/2000/svg\" height=\"24px\"viewBox=\"0 0 24 24\"\n",
              "       width=\"24px\">\n",
              "    <path d=\"M0 0h24v24H0V0z\" fill=\"none\"/>\n",
              "    <path d=\"M18.56 5.44l.94 2.06.94-2.06 2.06-.94-2.06-.94-.94-2.06-.94 2.06-2.06.94zm-11 1L8.5 8.5l.94-2.06 2.06-.94-2.06-.94L8.5 2.5l-.94 2.06-2.06.94zm10 10l.94 2.06.94-2.06 2.06-.94-2.06-.94-.94-2.06-.94 2.06-2.06.94z\"/><path d=\"M17.41 7.96l-1.37-1.37c-.4-.4-.92-.59-1.43-.59-.52 0-1.04.2-1.43.59L10.3 9.45l-7.72 7.72c-.78.78-.78 2.05 0 2.83L4 21.41c.39.39.9.59 1.41.59.51 0 1.02-.2 1.41-.59l7.78-7.78 2.81-2.81c.8-.78.8-2.07 0-2.86zM5.41 20L4 18.59l7.72-7.72 1.47 1.35L5.41 20z\"/>\n",
              "  </svg>\n",
              "      </button>\n",
              "\n",
              "\n",
              "\n",
              "    <div id=\"df-cc81c559-0fb4-4597-993e-23682aeec27a\">\n",
              "      <button class=\"colab-df-quickchart\" onclick=\"quickchart('df-cc81c559-0fb4-4597-993e-23682aeec27a')\"\n",
              "              title=\"Suggest charts.\"\n",
              "              style=\"display:none;\">\n",
              "\n",
              "<svg xmlns=\"http://www.w3.org/2000/svg\" height=\"24px\"viewBox=\"0 0 24 24\"\n",
              "     width=\"24px\">\n",
              "    <g>\n",
              "        <path d=\"M19 3H5c-1.1 0-2 .9-2 2v14c0 1.1.9 2 2 2h14c1.1 0 2-.9 2-2V5c0-1.1-.9-2-2-2zM9 17H7v-7h2v7zm4 0h-2V7h2v10zm4 0h-2v-4h2v4z\"/>\n",
              "    </g>\n",
              "</svg>\n",
              "      </button>\n",
              "    </div>\n",
              "\n",
              "<style>\n",
              "  .colab-df-quickchart {\n",
              "    background-color: #E8F0FE;\n",
              "    border: none;\n",
              "    border-radius: 50%;\n",
              "    cursor: pointer;\n",
              "    display: none;\n",
              "    fill: #1967D2;\n",
              "    height: 32px;\n",
              "    padding: 0 0 0 0;\n",
              "    width: 32px;\n",
              "  }\n",
              "\n",
              "  .colab-df-quickchart:hover {\n",
              "    background-color: #E2EBFA;\n",
              "    box-shadow: 0px 1px 2px rgba(60, 64, 67, 0.3), 0px 1px 3px 1px rgba(60, 64, 67, 0.15);\n",
              "    fill: #174EA6;\n",
              "  }\n",
              "\n",
              "  [theme=dark] .colab-df-quickchart {\n",
              "    background-color: #3B4455;\n",
              "    fill: #D2E3FC;\n",
              "  }\n",
              "\n",
              "  [theme=dark] .colab-df-quickchart:hover {\n",
              "    background-color: #434B5C;\n",
              "    box-shadow: 0px 1px 3px 1px rgba(0, 0, 0, 0.15);\n",
              "    filter: drop-shadow(0px 1px 2px rgba(0, 0, 0, 0.3));\n",
              "    fill: #FFFFFF;\n",
              "  }\n",
              "</style>\n",
              "\n",
              "    <script>\n",
              "      async function quickchart(key) {\n",
              "        const containerElement = document.querySelector('#' + key);\n",
              "        const charts = await google.colab.kernel.invokeFunction(\n",
              "            'suggestCharts', [key], {});\n",
              "      }\n",
              "    </script>\n",
              "\n",
              "      <script>\n",
              "\n",
              "function displayQuickchartButton(domScope) {\n",
              "  let quickchartButtonEl =\n",
              "    domScope.querySelector('#df-cc81c559-0fb4-4597-993e-23682aeec27a button.colab-df-quickchart');\n",
              "  quickchartButtonEl.style.display =\n",
              "    google.colab.kernel.accessAllowed ? 'block' : 'none';\n",
              "}\n",
              "\n",
              "        displayQuickchartButton(document);\n",
              "      </script>\n",
              "      <style>\n",
              "    .colab-df-container {\n",
              "      display:flex;\n",
              "      flex-wrap:wrap;\n",
              "      gap: 12px;\n",
              "    }\n",
              "\n",
              "    .colab-df-convert {\n",
              "      background-color: #E8F0FE;\n",
              "      border: none;\n",
              "      border-radius: 50%;\n",
              "      cursor: pointer;\n",
              "      display: none;\n",
              "      fill: #1967D2;\n",
              "      height: 32px;\n",
              "      padding: 0 0 0 0;\n",
              "      width: 32px;\n",
              "    }\n",
              "\n",
              "    .colab-df-convert:hover {\n",
              "      background-color: #E2EBFA;\n",
              "      box-shadow: 0px 1px 2px rgba(60, 64, 67, 0.3), 0px 1px 3px 1px rgba(60, 64, 67, 0.15);\n",
              "      fill: #174EA6;\n",
              "    }\n",
              "\n",
              "    [theme=dark] .colab-df-convert {\n",
              "      background-color: #3B4455;\n",
              "      fill: #D2E3FC;\n",
              "    }\n",
              "\n",
              "    [theme=dark] .colab-df-convert:hover {\n",
              "      background-color: #434B5C;\n",
              "      box-shadow: 0px 1px 3px 1px rgba(0, 0, 0, 0.15);\n",
              "      filter: drop-shadow(0px 1px 2px rgba(0, 0, 0, 0.3));\n",
              "      fill: #FFFFFF;\n",
              "    }\n",
              "  </style>\n",
              "\n",
              "      <script>\n",
              "        const buttonEl =\n",
              "          document.querySelector('#df-dc076de5-d3ca-4da7-9a0f-a3412e4415d2 button.colab-df-convert');\n",
              "        buttonEl.style.display =\n",
              "          google.colab.kernel.accessAllowed ? 'block' : 'none';\n",
              "\n",
              "        async function convertToInteractive(key) {\n",
              "          const element = document.querySelector('#df-dc076de5-d3ca-4da7-9a0f-a3412e4415d2');\n",
              "          const dataTable =\n",
              "            await google.colab.kernel.invokeFunction('convertToInteractive',\n",
              "                                                     [key], {});\n",
              "          if (!dataTable) return;\n",
              "\n",
              "          const docLinkHtml = 'Like what you see? Visit the ' +\n",
              "            '<a target=\"_blank\" href=https://colab.research.google.com/notebooks/data_table.ipynb>data table notebook</a>'\n",
              "            + ' to learn more about interactive tables.';\n",
              "          element.innerHTML = '';\n",
              "          dataTable['output_type'] = 'display_data';\n",
              "          await google.colab.output.renderOutput(dataTable, element);\n",
              "          const docLink = document.createElement('div');\n",
              "          docLink.innerHTML = docLinkHtml;\n",
              "          element.appendChild(docLink);\n",
              "        }\n",
              "      </script>\n",
              "    </div>\n",
              "  </div>\n"
            ]
          },
          "metadata": {},
          "execution_count": 9
        }
      ],
      "source": [
        "comments.to_sql('comments', con, if_exists='replace', index=False)\n",
        "\n",
        "sql = 'SELECT * FROM comments'\n",
        "comments = pd.read_sql(sql, con)\n",
        "comments.head()"
      ]
    },
    {
      "cell_type": "code",
      "execution_count": null,
      "metadata": {
        "colab": {
          "base_uri": "https://localhost:8080/",
          "height": 333
        },
        "id": "EXfNyHB2DuYw",
        "outputId": "f84b581e-7f54-4c4e-f2cd-27e7200c96f4"
      },
      "outputs": [
        {
          "output_type": "execute_result",
          "data": {
            "text/plain": [
              "       Id  Reputation         CreationDate DisplayName       LastAccessDate  \\\n",
              "0  157607          31  2017-04-17 14:50:42  user157607  2019-07-23 16:44:08   \n",
              "1  157656         101  2017-04-17 20:08:20  user102859  2019-06-26 13:42:13   \n",
              "2  157704         133  2017-04-18 05:10:47      jupiar  2019-11-25 13:32:27   \n",
              "3  157709         155  2017-04-18 06:39:18      farmer  2019-02-17 19:44:24   \n",
              "4  157755         101  2017-04-18 12:56:17      Miki P  2019-08-12 17:02:21   \n",
              "\n",
              "  WebsiteUrl         Location  \\\n",
              "0        NaN              NaN   \n",
              "1        NaN              NaN   \n",
              "2        NaN  Shanghai, China   \n",
              "3        NaN              NaN   \n",
              "4        NaN              NaN   \n",
              "\n",
              "                                             AboutMe  Views  UpVotes  \\\n",
              "0                                                NaN      0        0   \n",
              "1                                                NaN      3        0   \n",
              "2  <p>Originally from the U.K, I have an Undergra...      1        1   \n",
              "3                                                NaN     16        0   \n",
              "4                                                NaN      1        9   \n",
              "\n",
              "   DownVotes                                    ProfileImageUrl  AccountId  \n",
              "0          0  https://www.gravatar.com/avatar/2efb161849efa4...   10705183  \n",
              "1          0      https://i.stack.imgur.com/eY4ka.jpg?s=128&g=1   10567606  \n",
              "2          0  https://www.gravatar.com/avatar/720e20205122c5...    9501631  \n",
              "3          0  https://www.gravatar.com/avatar/0f8c4bde3d8f25...   10709837  \n",
              "4          0  https://www.gravatar.com/avatar/af088558cd81c5...    7969290  "
            ],
            "text/html": [
              "\n",
              "\n",
              "  <div id=\"df-5be5e1c6-b189-4d89-8e9a-17ce28114db4\">\n",
              "    <div class=\"colab-df-container\">\n",
              "      <div>\n",
              "<style scoped>\n",
              "    .dataframe tbody tr th:only-of-type {\n",
              "        vertical-align: middle;\n",
              "    }\n",
              "\n",
              "    .dataframe tbody tr th {\n",
              "        vertical-align: top;\n",
              "    }\n",
              "\n",
              "    .dataframe thead th {\n",
              "        text-align: right;\n",
              "    }\n",
              "</style>\n",
              "<table border=\"1\" class=\"dataframe\">\n",
              "  <thead>\n",
              "    <tr style=\"text-align: right;\">\n",
              "      <th></th>\n",
              "      <th>Id</th>\n",
              "      <th>Reputation</th>\n",
              "      <th>CreationDate</th>\n",
              "      <th>DisplayName</th>\n",
              "      <th>LastAccessDate</th>\n",
              "      <th>WebsiteUrl</th>\n",
              "      <th>Location</th>\n",
              "      <th>AboutMe</th>\n",
              "      <th>Views</th>\n",
              "      <th>UpVotes</th>\n",
              "      <th>DownVotes</th>\n",
              "      <th>ProfileImageUrl</th>\n",
              "      <th>AccountId</th>\n",
              "    </tr>\n",
              "  </thead>\n",
              "  <tbody>\n",
              "    <tr>\n",
              "      <th>0</th>\n",
              "      <td>157607</td>\n",
              "      <td>31</td>\n",
              "      <td>2017-04-17 14:50:42</td>\n",
              "      <td>user157607</td>\n",
              "      <td>2019-07-23 16:44:08</td>\n",
              "      <td>NaN</td>\n",
              "      <td>NaN</td>\n",
              "      <td>NaN</td>\n",
              "      <td>0</td>\n",
              "      <td>0</td>\n",
              "      <td>0</td>\n",
              "      <td>https://www.gravatar.com/avatar/2efb161849efa4...</td>\n",
              "      <td>10705183</td>\n",
              "    </tr>\n",
              "    <tr>\n",
              "      <th>1</th>\n",
              "      <td>157656</td>\n",
              "      <td>101</td>\n",
              "      <td>2017-04-17 20:08:20</td>\n",
              "      <td>user102859</td>\n",
              "      <td>2019-06-26 13:42:13</td>\n",
              "      <td>NaN</td>\n",
              "      <td>NaN</td>\n",
              "      <td>NaN</td>\n",
              "      <td>3</td>\n",
              "      <td>0</td>\n",
              "      <td>0</td>\n",
              "      <td>https://i.stack.imgur.com/eY4ka.jpg?s=128&amp;g=1</td>\n",
              "      <td>10567606</td>\n",
              "    </tr>\n",
              "    <tr>\n",
              "      <th>2</th>\n",
              "      <td>157704</td>\n",
              "      <td>133</td>\n",
              "      <td>2017-04-18 05:10:47</td>\n",
              "      <td>jupiar</td>\n",
              "      <td>2019-11-25 13:32:27</td>\n",
              "      <td>NaN</td>\n",
              "      <td>Shanghai, China</td>\n",
              "      <td>&lt;p&gt;Originally from the U.K, I have an Undergra...</td>\n",
              "      <td>1</td>\n",
              "      <td>1</td>\n",
              "      <td>0</td>\n",
              "      <td>https://www.gravatar.com/avatar/720e20205122c5...</td>\n",
              "      <td>9501631</td>\n",
              "    </tr>\n",
              "    <tr>\n",
              "      <th>3</th>\n",
              "      <td>157709</td>\n",
              "      <td>155</td>\n",
              "      <td>2017-04-18 06:39:18</td>\n",
              "      <td>farmer</td>\n",
              "      <td>2019-02-17 19:44:24</td>\n",
              "      <td>NaN</td>\n",
              "      <td>NaN</td>\n",
              "      <td>NaN</td>\n",
              "      <td>16</td>\n",
              "      <td>0</td>\n",
              "      <td>0</td>\n",
              "      <td>https://www.gravatar.com/avatar/0f8c4bde3d8f25...</td>\n",
              "      <td>10709837</td>\n",
              "    </tr>\n",
              "    <tr>\n",
              "      <th>4</th>\n",
              "      <td>157755</td>\n",
              "      <td>101</td>\n",
              "      <td>2017-04-18 12:56:17</td>\n",
              "      <td>Miki P</td>\n",
              "      <td>2019-08-12 17:02:21</td>\n",
              "      <td>NaN</td>\n",
              "      <td>NaN</td>\n",
              "      <td>NaN</td>\n",
              "      <td>1</td>\n",
              "      <td>9</td>\n",
              "      <td>0</td>\n",
              "      <td>https://www.gravatar.com/avatar/af088558cd81c5...</td>\n",
              "      <td>7969290</td>\n",
              "    </tr>\n",
              "  </tbody>\n",
              "</table>\n",
              "</div>\n",
              "      <button class=\"colab-df-convert\" onclick=\"convertToInteractive('df-5be5e1c6-b189-4d89-8e9a-17ce28114db4')\"\n",
              "              title=\"Convert this dataframe to an interactive table.\"\n",
              "              style=\"display:none;\">\n",
              "\n",
              "  <svg xmlns=\"http://www.w3.org/2000/svg\" height=\"24px\"viewBox=\"0 0 24 24\"\n",
              "       width=\"24px\">\n",
              "    <path d=\"M0 0h24v24H0V0z\" fill=\"none\"/>\n",
              "    <path d=\"M18.56 5.44l.94 2.06.94-2.06 2.06-.94-2.06-.94-.94-2.06-.94 2.06-2.06.94zm-11 1L8.5 8.5l.94-2.06 2.06-.94-2.06-.94L8.5 2.5l-.94 2.06-2.06.94zm10 10l.94 2.06.94-2.06 2.06-.94-2.06-.94-.94-2.06-.94 2.06-2.06.94z\"/><path d=\"M17.41 7.96l-1.37-1.37c-.4-.4-.92-.59-1.43-.59-.52 0-1.04.2-1.43.59L10.3 9.45l-7.72 7.72c-.78.78-.78 2.05 0 2.83L4 21.41c.39.39.9.59 1.41.59.51 0 1.02-.2 1.41-.59l7.78-7.78 2.81-2.81c.8-.78.8-2.07 0-2.86zM5.41 20L4 18.59l7.72-7.72 1.47 1.35L5.41 20z\"/>\n",
              "  </svg>\n",
              "      </button>\n",
              "\n",
              "\n",
              "\n",
              "    <div id=\"df-11a937a4-85a2-4643-82b8-01471690b3c0\">\n",
              "      <button class=\"colab-df-quickchart\" onclick=\"quickchart('df-11a937a4-85a2-4643-82b8-01471690b3c0')\"\n",
              "              title=\"Suggest charts.\"\n",
              "              style=\"display:none;\">\n",
              "\n",
              "<svg xmlns=\"http://www.w3.org/2000/svg\" height=\"24px\"viewBox=\"0 0 24 24\"\n",
              "     width=\"24px\">\n",
              "    <g>\n",
              "        <path d=\"M19 3H5c-1.1 0-2 .9-2 2v14c0 1.1.9 2 2 2h14c1.1 0 2-.9 2-2V5c0-1.1-.9-2-2-2zM9 17H7v-7h2v7zm4 0h-2V7h2v10zm4 0h-2v-4h2v4z\"/>\n",
              "    </g>\n",
              "</svg>\n",
              "      </button>\n",
              "    </div>\n",
              "\n",
              "<style>\n",
              "  .colab-df-quickchart {\n",
              "    background-color: #E8F0FE;\n",
              "    border: none;\n",
              "    border-radius: 50%;\n",
              "    cursor: pointer;\n",
              "    display: none;\n",
              "    fill: #1967D2;\n",
              "    height: 32px;\n",
              "    padding: 0 0 0 0;\n",
              "    width: 32px;\n",
              "  }\n",
              "\n",
              "  .colab-df-quickchart:hover {\n",
              "    background-color: #E2EBFA;\n",
              "    box-shadow: 0px 1px 2px rgba(60, 64, 67, 0.3), 0px 1px 3px 1px rgba(60, 64, 67, 0.15);\n",
              "    fill: #174EA6;\n",
              "  }\n",
              "\n",
              "  [theme=dark] .colab-df-quickchart {\n",
              "    background-color: #3B4455;\n",
              "    fill: #D2E3FC;\n",
              "  }\n",
              "\n",
              "  [theme=dark] .colab-df-quickchart:hover {\n",
              "    background-color: #434B5C;\n",
              "    box-shadow: 0px 1px 3px 1px rgba(0, 0, 0, 0.15);\n",
              "    filter: drop-shadow(0px 1px 2px rgba(0, 0, 0, 0.3));\n",
              "    fill: #FFFFFF;\n",
              "  }\n",
              "</style>\n",
              "\n",
              "    <script>\n",
              "      async function quickchart(key) {\n",
              "        const containerElement = document.querySelector('#' + key);\n",
              "        const charts = await google.colab.kernel.invokeFunction(\n",
              "            'suggestCharts', [key], {});\n",
              "      }\n",
              "    </script>\n",
              "\n",
              "      <script>\n",
              "\n",
              "function displayQuickchartButton(domScope) {\n",
              "  let quickchartButtonEl =\n",
              "    domScope.querySelector('#df-11a937a4-85a2-4643-82b8-01471690b3c0 button.colab-df-quickchart');\n",
              "  quickchartButtonEl.style.display =\n",
              "    google.colab.kernel.accessAllowed ? 'block' : 'none';\n",
              "}\n",
              "\n",
              "        displayQuickchartButton(document);\n",
              "      </script>\n",
              "      <style>\n",
              "    .colab-df-container {\n",
              "      display:flex;\n",
              "      flex-wrap:wrap;\n",
              "      gap: 12px;\n",
              "    }\n",
              "\n",
              "    .colab-df-convert {\n",
              "      background-color: #E8F0FE;\n",
              "      border: none;\n",
              "      border-radius: 50%;\n",
              "      cursor: pointer;\n",
              "      display: none;\n",
              "      fill: #1967D2;\n",
              "      height: 32px;\n",
              "      padding: 0 0 0 0;\n",
              "      width: 32px;\n",
              "    }\n",
              "\n",
              "    .colab-df-convert:hover {\n",
              "      background-color: #E2EBFA;\n",
              "      box-shadow: 0px 1px 2px rgba(60, 64, 67, 0.3), 0px 1px 3px 1px rgba(60, 64, 67, 0.15);\n",
              "      fill: #174EA6;\n",
              "    }\n",
              "\n",
              "    [theme=dark] .colab-df-convert {\n",
              "      background-color: #3B4455;\n",
              "      fill: #D2E3FC;\n",
              "    }\n",
              "\n",
              "    [theme=dark] .colab-df-convert:hover {\n",
              "      background-color: #434B5C;\n",
              "      box-shadow: 0px 1px 3px 1px rgba(0, 0, 0, 0.15);\n",
              "      filter: drop-shadow(0px 1px 2px rgba(0, 0, 0, 0.3));\n",
              "      fill: #FFFFFF;\n",
              "    }\n",
              "  </style>\n",
              "\n",
              "      <script>\n",
              "        const buttonEl =\n",
              "          document.querySelector('#df-5be5e1c6-b189-4d89-8e9a-17ce28114db4 button.colab-df-convert');\n",
              "        buttonEl.style.display =\n",
              "          google.colab.kernel.accessAllowed ? 'block' : 'none';\n",
              "\n",
              "        async function convertToInteractive(key) {\n",
              "          const element = document.querySelector('#df-5be5e1c6-b189-4d89-8e9a-17ce28114db4');\n",
              "          const dataTable =\n",
              "            await google.colab.kernel.invokeFunction('convertToInteractive',\n",
              "                                                     [key], {});\n",
              "          if (!dataTable) return;\n",
              "\n",
              "          const docLinkHtml = 'Like what you see? Visit the ' +\n",
              "            '<a target=\"_blank\" href=https://colab.research.google.com/notebooks/data_table.ipynb>data table notebook</a>'\n",
              "            + ' to learn more about interactive tables.';\n",
              "          element.innerHTML = '';\n",
              "          dataTable['output_type'] = 'display_data';\n",
              "          await google.colab.output.renderOutput(dataTable, element);\n",
              "          const docLink = document.createElement('div');\n",
              "          docLink.innerHTML = docLinkHtml;\n",
              "          element.appendChild(docLink);\n",
              "        }\n",
              "      </script>\n",
              "    </div>\n",
              "  </div>\n"
            ]
          },
          "metadata": {},
          "execution_count": 10
        }
      ],
      "source": [
        "users = pd.read_csv('/content/drive/MyDrive/Colab Notebooks/users.csv')\n",
        "users.head()"
      ]
    },
    {
      "cell_type": "code",
      "execution_count": null,
      "metadata": {
        "colab": {
          "base_uri": "https://localhost:8080/",
          "height": 333
        },
        "id": "89_pPd_2DuYx",
        "outputId": "09b6e184-f864-4c7b-9e10-92e68149e46b"
      },
      "outputs": [
        {
          "output_type": "execute_result",
          "data": {
            "text/plain": [
              "       Id  Reputation         CreationDate DisplayName       LastAccessDate  \\\n",
              "0  157607          31  2017-04-17 14:50:42  user157607  2019-07-23 16:44:08   \n",
              "1  157656         101  2017-04-17 20:08:20  user102859  2019-06-26 13:42:13   \n",
              "2  157704         133  2017-04-18 05:10:47      jupiar  2019-11-25 13:32:27   \n",
              "3  157709         155  2017-04-18 06:39:18      farmer  2019-02-17 19:44:24   \n",
              "4  157755         101  2017-04-18 12:56:17      Miki P  2019-08-12 17:02:21   \n",
              "\n",
              "  WebsiteUrl         Location  \\\n",
              "0       None             None   \n",
              "1       None             None   \n",
              "2       None  Shanghai, China   \n",
              "3       None             None   \n",
              "4       None             None   \n",
              "\n",
              "                                             AboutMe  Views  UpVotes  \\\n",
              "0                                               None      0        0   \n",
              "1                                               None      3        0   \n",
              "2  <p>Originally from the U.K, I have an Undergra...      1        1   \n",
              "3                                               None     16        0   \n",
              "4                                               None      1        9   \n",
              "\n",
              "   DownVotes                                    ProfileImageUrl  AccountId  \n",
              "0          0  https://www.gravatar.com/avatar/2efb161849efa4...   10705183  \n",
              "1          0      https://i.stack.imgur.com/eY4ka.jpg?s=128&g=1   10567606  \n",
              "2          0  https://www.gravatar.com/avatar/720e20205122c5...    9501631  \n",
              "3          0  https://www.gravatar.com/avatar/0f8c4bde3d8f25...   10709837  \n",
              "4          0  https://www.gravatar.com/avatar/af088558cd81c5...    7969290  "
            ],
            "text/html": [
              "\n",
              "\n",
              "  <div id=\"df-79082557-cfa9-4a6e-80fd-5f1aade030e5\">\n",
              "    <div class=\"colab-df-container\">\n",
              "      <div>\n",
              "<style scoped>\n",
              "    .dataframe tbody tr th:only-of-type {\n",
              "        vertical-align: middle;\n",
              "    }\n",
              "\n",
              "    .dataframe tbody tr th {\n",
              "        vertical-align: top;\n",
              "    }\n",
              "\n",
              "    .dataframe thead th {\n",
              "        text-align: right;\n",
              "    }\n",
              "</style>\n",
              "<table border=\"1\" class=\"dataframe\">\n",
              "  <thead>\n",
              "    <tr style=\"text-align: right;\">\n",
              "      <th></th>\n",
              "      <th>Id</th>\n",
              "      <th>Reputation</th>\n",
              "      <th>CreationDate</th>\n",
              "      <th>DisplayName</th>\n",
              "      <th>LastAccessDate</th>\n",
              "      <th>WebsiteUrl</th>\n",
              "      <th>Location</th>\n",
              "      <th>AboutMe</th>\n",
              "      <th>Views</th>\n",
              "      <th>UpVotes</th>\n",
              "      <th>DownVotes</th>\n",
              "      <th>ProfileImageUrl</th>\n",
              "      <th>AccountId</th>\n",
              "    </tr>\n",
              "  </thead>\n",
              "  <tbody>\n",
              "    <tr>\n",
              "      <th>0</th>\n",
              "      <td>157607</td>\n",
              "      <td>31</td>\n",
              "      <td>2017-04-17 14:50:42</td>\n",
              "      <td>user157607</td>\n",
              "      <td>2019-07-23 16:44:08</td>\n",
              "      <td>None</td>\n",
              "      <td>None</td>\n",
              "      <td>None</td>\n",
              "      <td>0</td>\n",
              "      <td>0</td>\n",
              "      <td>0</td>\n",
              "      <td>https://www.gravatar.com/avatar/2efb161849efa4...</td>\n",
              "      <td>10705183</td>\n",
              "    </tr>\n",
              "    <tr>\n",
              "      <th>1</th>\n",
              "      <td>157656</td>\n",
              "      <td>101</td>\n",
              "      <td>2017-04-17 20:08:20</td>\n",
              "      <td>user102859</td>\n",
              "      <td>2019-06-26 13:42:13</td>\n",
              "      <td>None</td>\n",
              "      <td>None</td>\n",
              "      <td>None</td>\n",
              "      <td>3</td>\n",
              "      <td>0</td>\n",
              "      <td>0</td>\n",
              "      <td>https://i.stack.imgur.com/eY4ka.jpg?s=128&amp;g=1</td>\n",
              "      <td>10567606</td>\n",
              "    </tr>\n",
              "    <tr>\n",
              "      <th>2</th>\n",
              "      <td>157704</td>\n",
              "      <td>133</td>\n",
              "      <td>2017-04-18 05:10:47</td>\n",
              "      <td>jupiar</td>\n",
              "      <td>2019-11-25 13:32:27</td>\n",
              "      <td>None</td>\n",
              "      <td>Shanghai, China</td>\n",
              "      <td>&lt;p&gt;Originally from the U.K, I have an Undergra...</td>\n",
              "      <td>1</td>\n",
              "      <td>1</td>\n",
              "      <td>0</td>\n",
              "      <td>https://www.gravatar.com/avatar/720e20205122c5...</td>\n",
              "      <td>9501631</td>\n",
              "    </tr>\n",
              "    <tr>\n",
              "      <th>3</th>\n",
              "      <td>157709</td>\n",
              "      <td>155</td>\n",
              "      <td>2017-04-18 06:39:18</td>\n",
              "      <td>farmer</td>\n",
              "      <td>2019-02-17 19:44:24</td>\n",
              "      <td>None</td>\n",
              "      <td>None</td>\n",
              "      <td>None</td>\n",
              "      <td>16</td>\n",
              "      <td>0</td>\n",
              "      <td>0</td>\n",
              "      <td>https://www.gravatar.com/avatar/0f8c4bde3d8f25...</td>\n",
              "      <td>10709837</td>\n",
              "    </tr>\n",
              "    <tr>\n",
              "      <th>4</th>\n",
              "      <td>157755</td>\n",
              "      <td>101</td>\n",
              "      <td>2017-04-18 12:56:17</td>\n",
              "      <td>Miki P</td>\n",
              "      <td>2019-08-12 17:02:21</td>\n",
              "      <td>None</td>\n",
              "      <td>None</td>\n",
              "      <td>None</td>\n",
              "      <td>1</td>\n",
              "      <td>9</td>\n",
              "      <td>0</td>\n",
              "      <td>https://www.gravatar.com/avatar/af088558cd81c5...</td>\n",
              "      <td>7969290</td>\n",
              "    </tr>\n",
              "  </tbody>\n",
              "</table>\n",
              "</div>\n",
              "      <button class=\"colab-df-convert\" onclick=\"convertToInteractive('df-79082557-cfa9-4a6e-80fd-5f1aade030e5')\"\n",
              "              title=\"Convert this dataframe to an interactive table.\"\n",
              "              style=\"display:none;\">\n",
              "\n",
              "  <svg xmlns=\"http://www.w3.org/2000/svg\" height=\"24px\"viewBox=\"0 0 24 24\"\n",
              "       width=\"24px\">\n",
              "    <path d=\"M0 0h24v24H0V0z\" fill=\"none\"/>\n",
              "    <path d=\"M18.56 5.44l.94 2.06.94-2.06 2.06-.94-2.06-.94-.94-2.06-.94 2.06-2.06.94zm-11 1L8.5 8.5l.94-2.06 2.06-.94-2.06-.94L8.5 2.5l-.94 2.06-2.06.94zm10 10l.94 2.06.94-2.06 2.06-.94-2.06-.94-.94-2.06-.94 2.06-2.06.94z\"/><path d=\"M17.41 7.96l-1.37-1.37c-.4-.4-.92-.59-1.43-.59-.52 0-1.04.2-1.43.59L10.3 9.45l-7.72 7.72c-.78.78-.78 2.05 0 2.83L4 21.41c.39.39.9.59 1.41.59.51 0 1.02-.2 1.41-.59l7.78-7.78 2.81-2.81c.8-.78.8-2.07 0-2.86zM5.41 20L4 18.59l7.72-7.72 1.47 1.35L5.41 20z\"/>\n",
              "  </svg>\n",
              "      </button>\n",
              "\n",
              "\n",
              "\n",
              "    <div id=\"df-6dbdcb3d-1d46-45a1-9df9-51592d94defe\">\n",
              "      <button class=\"colab-df-quickchart\" onclick=\"quickchart('df-6dbdcb3d-1d46-45a1-9df9-51592d94defe')\"\n",
              "              title=\"Suggest charts.\"\n",
              "              style=\"display:none;\">\n",
              "\n",
              "<svg xmlns=\"http://www.w3.org/2000/svg\" height=\"24px\"viewBox=\"0 0 24 24\"\n",
              "     width=\"24px\">\n",
              "    <g>\n",
              "        <path d=\"M19 3H5c-1.1 0-2 .9-2 2v14c0 1.1.9 2 2 2h14c1.1 0 2-.9 2-2V5c0-1.1-.9-2-2-2zM9 17H7v-7h2v7zm4 0h-2V7h2v10zm4 0h-2v-4h2v4z\"/>\n",
              "    </g>\n",
              "</svg>\n",
              "      </button>\n",
              "    </div>\n",
              "\n",
              "<style>\n",
              "  .colab-df-quickchart {\n",
              "    background-color: #E8F0FE;\n",
              "    border: none;\n",
              "    border-radius: 50%;\n",
              "    cursor: pointer;\n",
              "    display: none;\n",
              "    fill: #1967D2;\n",
              "    height: 32px;\n",
              "    padding: 0 0 0 0;\n",
              "    width: 32px;\n",
              "  }\n",
              "\n",
              "  .colab-df-quickchart:hover {\n",
              "    background-color: #E2EBFA;\n",
              "    box-shadow: 0px 1px 2px rgba(60, 64, 67, 0.3), 0px 1px 3px 1px rgba(60, 64, 67, 0.15);\n",
              "    fill: #174EA6;\n",
              "  }\n",
              "\n",
              "  [theme=dark] .colab-df-quickchart {\n",
              "    background-color: #3B4455;\n",
              "    fill: #D2E3FC;\n",
              "  }\n",
              "\n",
              "  [theme=dark] .colab-df-quickchart:hover {\n",
              "    background-color: #434B5C;\n",
              "    box-shadow: 0px 1px 3px 1px rgba(0, 0, 0, 0.15);\n",
              "    filter: drop-shadow(0px 1px 2px rgba(0, 0, 0, 0.3));\n",
              "    fill: #FFFFFF;\n",
              "  }\n",
              "</style>\n",
              "\n",
              "    <script>\n",
              "      async function quickchart(key) {\n",
              "        const containerElement = document.querySelector('#' + key);\n",
              "        const charts = await google.colab.kernel.invokeFunction(\n",
              "            'suggestCharts', [key], {});\n",
              "      }\n",
              "    </script>\n",
              "\n",
              "      <script>\n",
              "\n",
              "function displayQuickchartButton(domScope) {\n",
              "  let quickchartButtonEl =\n",
              "    domScope.querySelector('#df-6dbdcb3d-1d46-45a1-9df9-51592d94defe button.colab-df-quickchart');\n",
              "  quickchartButtonEl.style.display =\n",
              "    google.colab.kernel.accessAllowed ? 'block' : 'none';\n",
              "}\n",
              "\n",
              "        displayQuickchartButton(document);\n",
              "      </script>\n",
              "      <style>\n",
              "    .colab-df-container {\n",
              "      display:flex;\n",
              "      flex-wrap:wrap;\n",
              "      gap: 12px;\n",
              "    }\n",
              "\n",
              "    .colab-df-convert {\n",
              "      background-color: #E8F0FE;\n",
              "      border: none;\n",
              "      border-radius: 50%;\n",
              "      cursor: pointer;\n",
              "      display: none;\n",
              "      fill: #1967D2;\n",
              "      height: 32px;\n",
              "      padding: 0 0 0 0;\n",
              "      width: 32px;\n",
              "    }\n",
              "\n",
              "    .colab-df-convert:hover {\n",
              "      background-color: #E2EBFA;\n",
              "      box-shadow: 0px 1px 2px rgba(60, 64, 67, 0.3), 0px 1px 3px 1px rgba(60, 64, 67, 0.15);\n",
              "      fill: #174EA6;\n",
              "    }\n",
              "\n",
              "    [theme=dark] .colab-df-convert {\n",
              "      background-color: #3B4455;\n",
              "      fill: #D2E3FC;\n",
              "    }\n",
              "\n",
              "    [theme=dark] .colab-df-convert:hover {\n",
              "      background-color: #434B5C;\n",
              "      box-shadow: 0px 1px 3px 1px rgba(0, 0, 0, 0.15);\n",
              "      filter: drop-shadow(0px 1px 2px rgba(0, 0, 0, 0.3));\n",
              "      fill: #FFFFFF;\n",
              "    }\n",
              "  </style>\n",
              "\n",
              "      <script>\n",
              "        const buttonEl =\n",
              "          document.querySelector('#df-79082557-cfa9-4a6e-80fd-5f1aade030e5 button.colab-df-convert');\n",
              "        buttonEl.style.display =\n",
              "          google.colab.kernel.accessAllowed ? 'block' : 'none';\n",
              "\n",
              "        async function convertToInteractive(key) {\n",
              "          const element = document.querySelector('#df-79082557-cfa9-4a6e-80fd-5f1aade030e5');\n",
              "          const dataTable =\n",
              "            await google.colab.kernel.invokeFunction('convertToInteractive',\n",
              "                                                     [key], {});\n",
              "          if (!dataTable) return;\n",
              "\n",
              "          const docLinkHtml = 'Like what you see? Visit the ' +\n",
              "            '<a target=\"_blank\" href=https://colab.research.google.com/notebooks/data_table.ipynb>data table notebook</a>'\n",
              "            + ' to learn more about interactive tables.';\n",
              "          element.innerHTML = '';\n",
              "          dataTable['output_type'] = 'display_data';\n",
              "          await google.colab.output.renderOutput(dataTable, element);\n",
              "          const docLink = document.createElement('div');\n",
              "          docLink.innerHTML = docLinkHtml;\n",
              "          element.appendChild(docLink);\n",
              "        }\n",
              "      </script>\n",
              "    </div>\n",
              "  </div>\n"
            ]
          },
          "metadata": {},
          "execution_count": 11
        }
      ],
      "source": [
        "# load users into sqlite\n",
        "users.to_sql('users', con, if_exists='replace', index=False)\n",
        "\n",
        "# read back in to prove that it worked\n",
        "sql = 'SELECT * FROM users'\n",
        "users = pd.read_sql(sql, con)\n",
        "users.head()"
      ]
    },
    {
      "cell_type": "code",
      "execution_count": null,
      "metadata": {
        "colab": {
          "base_uri": "https://localhost:8080/",
          "height": 586
        },
        "id": "x4d8a4YzDuYx",
        "outputId": "19685bab-8d28-46bf-a6f9-e3faa6853540"
      },
      "outputs": [
        {
          "output_type": "execute_result",
          "data": {
            "text/plain": [
              "       Id  PostTypeId  AcceptedAnswerId  ParentId         CreationDate  Score  \\\n",
              "0  423497           1            423511         0  2019-08-24 09:39:31      2   \n",
              "1  423498           1                 0         0  2019-08-24 09:47:42      1   \n",
              "2  423499           1                 0         0  2019-08-24 09:48:26      1   \n",
              "3  423500           2                 0    215865  2019-08-24 09:57:01      0   \n",
              "4  423502           2                 0    423286  2019-08-24 10:44:52      3   \n",
              "\n",
              "   ViewCount                                               Body  OwnerUserId  \\\n",
              "0         68  <p>From wikipedia <a href=\"https://en.wikipedi...        64552   \n",
              "1         24  <p>I am currently doing local sensitivity anal...        87231   \n",
              "2         56  <p>I'm an honours student in psychology doing ...       257207   \n",
              "3          0  <p>Maybe you can look this <a href=\"https://me...       106606   \n",
              "4          0  <blockquote>\\n  <p>Q1) Is my approach valid?</...       220643   \n",
              "\n",
              "  OwnerDisplayName  ...  LastEditorDisplayName         LastEditDate  \\\n",
              "0              NaN  ...                    NaN                  NaN   \n",
              "1              NaN  ...                    NaN  2019-09-06 12:52:32   \n",
              "2              NaN  ...                    NaN                  NaN   \n",
              "3              NaN  ...                    NaN                  NaN   \n",
              "4              NaN  ...                    NaN  2019-08-24 12:13:46   \n",
              "\n",
              "      LastActivityDate                                              Title  \\\n",
              "0  2019-08-24 11:38:54  When are biased estimators with lower MSE pref...   \n",
              "1  2019-09-06 12:52:32  How to interpret the result from local sensiti...   \n",
              "2  2019-08-25 08:54:17      Power Analysis in G-Power - Mixed Model Anova   \n",
              "3  2019-08-24 09:57:01                                                NaN   \n",
              "4  2019-08-24 12:13:46                                                NaN   \n",
              "\n",
              "                                 Tags AnswerCount  CommentCount  \\\n",
              "0     <bias><unbiased-estimator><mse>           1             0   \n",
              "1  <sensitivity-analysis><elasticity>           1             0   \n",
              "2                     <anova><gpower>           2             0   \n",
              "3                                 NaN           0             0   \n",
              "4                                 NaN           0             1   \n",
              "\n",
              "   FavoriteCount           ClosedDate CommunityOwnedDate  \n",
              "0              1  2019-08-25 10:25:24                NaN  \n",
              "1              0                  NaN                NaN  \n",
              "2              0                  NaN                NaN  \n",
              "3              0                  NaN                NaN  \n",
              "4              0                  NaN                NaN  \n",
              "\n",
              "[5 rows x 21 columns]"
            ],
            "text/html": [
              "\n",
              "\n",
              "  <div id=\"df-e4ed5784-d5cf-4167-b339-0707aaf86e1b\">\n",
              "    <div class=\"colab-df-container\">\n",
              "      <div>\n",
              "<style scoped>\n",
              "    .dataframe tbody tr th:only-of-type {\n",
              "        vertical-align: middle;\n",
              "    }\n",
              "\n",
              "    .dataframe tbody tr th {\n",
              "        vertical-align: top;\n",
              "    }\n",
              "\n",
              "    .dataframe thead th {\n",
              "        text-align: right;\n",
              "    }\n",
              "</style>\n",
              "<table border=\"1\" class=\"dataframe\">\n",
              "  <thead>\n",
              "    <tr style=\"text-align: right;\">\n",
              "      <th></th>\n",
              "      <th>Id</th>\n",
              "      <th>PostTypeId</th>\n",
              "      <th>AcceptedAnswerId</th>\n",
              "      <th>ParentId</th>\n",
              "      <th>CreationDate</th>\n",
              "      <th>Score</th>\n",
              "      <th>ViewCount</th>\n",
              "      <th>Body</th>\n",
              "      <th>OwnerUserId</th>\n",
              "      <th>OwnerDisplayName</th>\n",
              "      <th>...</th>\n",
              "      <th>LastEditorDisplayName</th>\n",
              "      <th>LastEditDate</th>\n",
              "      <th>LastActivityDate</th>\n",
              "      <th>Title</th>\n",
              "      <th>Tags</th>\n",
              "      <th>AnswerCount</th>\n",
              "      <th>CommentCount</th>\n",
              "      <th>FavoriteCount</th>\n",
              "      <th>ClosedDate</th>\n",
              "      <th>CommunityOwnedDate</th>\n",
              "    </tr>\n",
              "  </thead>\n",
              "  <tbody>\n",
              "    <tr>\n",
              "      <th>0</th>\n",
              "      <td>423497</td>\n",
              "      <td>1</td>\n",
              "      <td>423511</td>\n",
              "      <td>0</td>\n",
              "      <td>2019-08-24 09:39:31</td>\n",
              "      <td>2</td>\n",
              "      <td>68</td>\n",
              "      <td>&lt;p&gt;From wikipedia &lt;a href=\"https://en.wikipedi...</td>\n",
              "      <td>64552</td>\n",
              "      <td>NaN</td>\n",
              "      <td>...</td>\n",
              "      <td>NaN</td>\n",
              "      <td>NaN</td>\n",
              "      <td>2019-08-24 11:38:54</td>\n",
              "      <td>When are biased estimators with lower MSE pref...</td>\n",
              "      <td>&lt;bias&gt;&lt;unbiased-estimator&gt;&lt;mse&gt;</td>\n",
              "      <td>1</td>\n",
              "      <td>0</td>\n",
              "      <td>1</td>\n",
              "      <td>2019-08-25 10:25:24</td>\n",
              "      <td>NaN</td>\n",
              "    </tr>\n",
              "    <tr>\n",
              "      <th>1</th>\n",
              "      <td>423498</td>\n",
              "      <td>1</td>\n",
              "      <td>0</td>\n",
              "      <td>0</td>\n",
              "      <td>2019-08-24 09:47:42</td>\n",
              "      <td>1</td>\n",
              "      <td>24</td>\n",
              "      <td>&lt;p&gt;I am currently doing local sensitivity anal...</td>\n",
              "      <td>87231</td>\n",
              "      <td>NaN</td>\n",
              "      <td>...</td>\n",
              "      <td>NaN</td>\n",
              "      <td>2019-09-06 12:52:32</td>\n",
              "      <td>2019-09-06 12:52:32</td>\n",
              "      <td>How to interpret the result from local sensiti...</td>\n",
              "      <td>&lt;sensitivity-analysis&gt;&lt;elasticity&gt;</td>\n",
              "      <td>1</td>\n",
              "      <td>0</td>\n",
              "      <td>0</td>\n",
              "      <td>NaN</td>\n",
              "      <td>NaN</td>\n",
              "    </tr>\n",
              "    <tr>\n",
              "      <th>2</th>\n",
              "      <td>423499</td>\n",
              "      <td>1</td>\n",
              "      <td>0</td>\n",
              "      <td>0</td>\n",
              "      <td>2019-08-24 09:48:26</td>\n",
              "      <td>1</td>\n",
              "      <td>56</td>\n",
              "      <td>&lt;p&gt;I'm an honours student in psychology doing ...</td>\n",
              "      <td>257207</td>\n",
              "      <td>NaN</td>\n",
              "      <td>...</td>\n",
              "      <td>NaN</td>\n",
              "      <td>NaN</td>\n",
              "      <td>2019-08-25 08:54:17</td>\n",
              "      <td>Power Analysis in G-Power - Mixed Model Anova</td>\n",
              "      <td>&lt;anova&gt;&lt;gpower&gt;</td>\n",
              "      <td>2</td>\n",
              "      <td>0</td>\n",
              "      <td>0</td>\n",
              "      <td>NaN</td>\n",
              "      <td>NaN</td>\n",
              "    </tr>\n",
              "    <tr>\n",
              "      <th>3</th>\n",
              "      <td>423500</td>\n",
              "      <td>2</td>\n",
              "      <td>0</td>\n",
              "      <td>215865</td>\n",
              "      <td>2019-08-24 09:57:01</td>\n",
              "      <td>0</td>\n",
              "      <td>0</td>\n",
              "      <td>&lt;p&gt;Maybe you can look this &lt;a href=\"https://me...</td>\n",
              "      <td>106606</td>\n",
              "      <td>NaN</td>\n",
              "      <td>...</td>\n",
              "      <td>NaN</td>\n",
              "      <td>NaN</td>\n",
              "      <td>2019-08-24 09:57:01</td>\n",
              "      <td>NaN</td>\n",
              "      <td>NaN</td>\n",
              "      <td>0</td>\n",
              "      <td>0</td>\n",
              "      <td>0</td>\n",
              "      <td>NaN</td>\n",
              "      <td>NaN</td>\n",
              "    </tr>\n",
              "    <tr>\n",
              "      <th>4</th>\n",
              "      <td>423502</td>\n",
              "      <td>2</td>\n",
              "      <td>0</td>\n",
              "      <td>423286</td>\n",
              "      <td>2019-08-24 10:44:52</td>\n",
              "      <td>3</td>\n",
              "      <td>0</td>\n",
              "      <td>&lt;blockquote&gt;\\n  &lt;p&gt;Q1) Is my approach valid?&lt;/...</td>\n",
              "      <td>220643</td>\n",
              "      <td>NaN</td>\n",
              "      <td>...</td>\n",
              "      <td>NaN</td>\n",
              "      <td>2019-08-24 12:13:46</td>\n",
              "      <td>2019-08-24 12:13:46</td>\n",
              "      <td>NaN</td>\n",
              "      <td>NaN</td>\n",
              "      <td>0</td>\n",
              "      <td>1</td>\n",
              "      <td>0</td>\n",
              "      <td>NaN</td>\n",
              "      <td>NaN</td>\n",
              "    </tr>\n",
              "  </tbody>\n",
              "</table>\n",
              "<p>5 rows × 21 columns</p>\n",
              "</div>\n",
              "      <button class=\"colab-df-convert\" onclick=\"convertToInteractive('df-e4ed5784-d5cf-4167-b339-0707aaf86e1b')\"\n",
              "              title=\"Convert this dataframe to an interactive table.\"\n",
              "              style=\"display:none;\">\n",
              "\n",
              "  <svg xmlns=\"http://www.w3.org/2000/svg\" height=\"24px\"viewBox=\"0 0 24 24\"\n",
              "       width=\"24px\">\n",
              "    <path d=\"M0 0h24v24H0V0z\" fill=\"none\"/>\n",
              "    <path d=\"M18.56 5.44l.94 2.06.94-2.06 2.06-.94-2.06-.94-.94-2.06-.94 2.06-2.06.94zm-11 1L8.5 8.5l.94-2.06 2.06-.94-2.06-.94L8.5 2.5l-.94 2.06-2.06.94zm10 10l.94 2.06.94-2.06 2.06-.94-2.06-.94-.94-2.06-.94 2.06-2.06.94z\"/><path d=\"M17.41 7.96l-1.37-1.37c-.4-.4-.92-.59-1.43-.59-.52 0-1.04.2-1.43.59L10.3 9.45l-7.72 7.72c-.78.78-.78 2.05 0 2.83L4 21.41c.39.39.9.59 1.41.59.51 0 1.02-.2 1.41-.59l7.78-7.78 2.81-2.81c.8-.78.8-2.07 0-2.86zM5.41 20L4 18.59l7.72-7.72 1.47 1.35L5.41 20z\"/>\n",
              "  </svg>\n",
              "      </button>\n",
              "\n",
              "\n",
              "\n",
              "    <div id=\"df-53edb452-0398-473c-a58e-f7d39f857a4f\">\n",
              "      <button class=\"colab-df-quickchart\" onclick=\"quickchart('df-53edb452-0398-473c-a58e-f7d39f857a4f')\"\n",
              "              title=\"Suggest charts.\"\n",
              "              style=\"display:none;\">\n",
              "\n",
              "<svg xmlns=\"http://www.w3.org/2000/svg\" height=\"24px\"viewBox=\"0 0 24 24\"\n",
              "     width=\"24px\">\n",
              "    <g>\n",
              "        <path d=\"M19 3H5c-1.1 0-2 .9-2 2v14c0 1.1.9 2 2 2h14c1.1 0 2-.9 2-2V5c0-1.1-.9-2-2-2zM9 17H7v-7h2v7zm4 0h-2V7h2v10zm4 0h-2v-4h2v4z\"/>\n",
              "    </g>\n",
              "</svg>\n",
              "      </button>\n",
              "    </div>\n",
              "\n",
              "<style>\n",
              "  .colab-df-quickchart {\n",
              "    background-color: #E8F0FE;\n",
              "    border: none;\n",
              "    border-radius: 50%;\n",
              "    cursor: pointer;\n",
              "    display: none;\n",
              "    fill: #1967D2;\n",
              "    height: 32px;\n",
              "    padding: 0 0 0 0;\n",
              "    width: 32px;\n",
              "  }\n",
              "\n",
              "  .colab-df-quickchart:hover {\n",
              "    background-color: #E2EBFA;\n",
              "    box-shadow: 0px 1px 2px rgba(60, 64, 67, 0.3), 0px 1px 3px 1px rgba(60, 64, 67, 0.15);\n",
              "    fill: #174EA6;\n",
              "  }\n",
              "\n",
              "  [theme=dark] .colab-df-quickchart {\n",
              "    background-color: #3B4455;\n",
              "    fill: #D2E3FC;\n",
              "  }\n",
              "\n",
              "  [theme=dark] .colab-df-quickchart:hover {\n",
              "    background-color: #434B5C;\n",
              "    box-shadow: 0px 1px 3px 1px rgba(0, 0, 0, 0.15);\n",
              "    filter: drop-shadow(0px 1px 2px rgba(0, 0, 0, 0.3));\n",
              "    fill: #FFFFFF;\n",
              "  }\n",
              "</style>\n",
              "\n",
              "    <script>\n",
              "      async function quickchart(key) {\n",
              "        const containerElement = document.querySelector('#' + key);\n",
              "        const charts = await google.colab.kernel.invokeFunction(\n",
              "            'suggestCharts', [key], {});\n",
              "      }\n",
              "    </script>\n",
              "\n",
              "      <script>\n",
              "\n",
              "function displayQuickchartButton(domScope) {\n",
              "  let quickchartButtonEl =\n",
              "    domScope.querySelector('#df-53edb452-0398-473c-a58e-f7d39f857a4f button.colab-df-quickchart');\n",
              "  quickchartButtonEl.style.display =\n",
              "    google.colab.kernel.accessAllowed ? 'block' : 'none';\n",
              "}\n",
              "\n",
              "        displayQuickchartButton(document);\n",
              "      </script>\n",
              "      <style>\n",
              "    .colab-df-container {\n",
              "      display:flex;\n",
              "      flex-wrap:wrap;\n",
              "      gap: 12px;\n",
              "    }\n",
              "\n",
              "    .colab-df-convert {\n",
              "      background-color: #E8F0FE;\n",
              "      border: none;\n",
              "      border-radius: 50%;\n",
              "      cursor: pointer;\n",
              "      display: none;\n",
              "      fill: #1967D2;\n",
              "      height: 32px;\n",
              "      padding: 0 0 0 0;\n",
              "      width: 32px;\n",
              "    }\n",
              "\n",
              "    .colab-df-convert:hover {\n",
              "      background-color: #E2EBFA;\n",
              "      box-shadow: 0px 1px 2px rgba(60, 64, 67, 0.3), 0px 1px 3px 1px rgba(60, 64, 67, 0.15);\n",
              "      fill: #174EA6;\n",
              "    }\n",
              "\n",
              "    [theme=dark] .colab-df-convert {\n",
              "      background-color: #3B4455;\n",
              "      fill: #D2E3FC;\n",
              "    }\n",
              "\n",
              "    [theme=dark] .colab-df-convert:hover {\n",
              "      background-color: #434B5C;\n",
              "      box-shadow: 0px 1px 3px 1px rgba(0, 0, 0, 0.15);\n",
              "      filter: drop-shadow(0px 1px 2px rgba(0, 0, 0, 0.3));\n",
              "      fill: #FFFFFF;\n",
              "    }\n",
              "  </style>\n",
              "\n",
              "      <script>\n",
              "        const buttonEl =\n",
              "          document.querySelector('#df-e4ed5784-d5cf-4167-b339-0707aaf86e1b button.colab-df-convert');\n",
              "        buttonEl.style.display =\n",
              "          google.colab.kernel.accessAllowed ? 'block' : 'none';\n",
              "\n",
              "        async function convertToInteractive(key) {\n",
              "          const element = document.querySelector('#df-e4ed5784-d5cf-4167-b339-0707aaf86e1b');\n",
              "          const dataTable =\n",
              "            await google.colab.kernel.invokeFunction('convertToInteractive',\n",
              "                                                     [key], {});\n",
              "          if (!dataTable) return;\n",
              "\n",
              "          const docLinkHtml = 'Like what you see? Visit the ' +\n",
              "            '<a target=\"_blank\" href=https://colab.research.google.com/notebooks/data_table.ipynb>data table notebook</a>'\n",
              "            + ' to learn more about interactive tables.';\n",
              "          element.innerHTML = '';\n",
              "          dataTable['output_type'] = 'display_data';\n",
              "          await google.colab.output.renderOutput(dataTable, element);\n",
              "          const docLink = document.createElement('div');\n",
              "          docLink.innerHTML = docLinkHtml;\n",
              "          element.appendChild(docLink);\n",
              "        }\n",
              "      </script>\n",
              "    </div>\n",
              "  </div>\n"
            ]
          },
          "metadata": {},
          "execution_count": 12
        }
      ],
      "source": [
        "posts = pd.read_csv('/content/drive/MyDrive/Colab Notebooks/posts.csv')\n",
        "posts.head()"
      ]
    },
    {
      "cell_type": "code",
      "execution_count": null,
      "metadata": {
        "colab": {
          "base_uri": "https://localhost:8080/",
          "height": 586
        },
        "id": "DGIUTdxEDuYx",
        "outputId": "9673b681-08cd-4bb6-b2f8-f329ed982d33"
      },
      "outputs": [
        {
          "output_type": "execute_result",
          "data": {
            "text/plain": [
              "       Id  PostTypeId  AcceptedAnswerId  ParentId         CreationDate  Score  \\\n",
              "0  423497           1            423511         0  2019-08-24 09:39:31      2   \n",
              "1  423498           1                 0         0  2019-08-24 09:47:42      1   \n",
              "2  423499           1                 0         0  2019-08-24 09:48:26      1   \n",
              "3  423500           2                 0    215865  2019-08-24 09:57:01      0   \n",
              "4  423502           2                 0    423286  2019-08-24 10:44:52      3   \n",
              "\n",
              "   ViewCount                                               Body  OwnerUserId  \\\n",
              "0         68  <p>From wikipedia <a href=\"https://en.wikipedi...        64552   \n",
              "1         24  <p>I am currently doing local sensitivity anal...        87231   \n",
              "2         56  <p>I'm an honours student in psychology doing ...       257207   \n",
              "3          0  <p>Maybe you can look this <a href=\"https://me...       106606   \n",
              "4          0  <blockquote>\\n  <p>Q1) Is my approach valid?</...       220643   \n",
              "\n",
              "  OwnerDisplayName  ...  LastEditorDisplayName         LastEditDate  \\\n",
              "0             None  ...                   None                 None   \n",
              "1             None  ...                   None  2019-09-06 12:52:32   \n",
              "2             None  ...                   None                 None   \n",
              "3             None  ...                   None                 None   \n",
              "4             None  ...                   None  2019-08-24 12:13:46   \n",
              "\n",
              "      LastActivityDate                                              Title  \\\n",
              "0  2019-08-24 11:38:54  When are biased estimators with lower MSE pref...   \n",
              "1  2019-09-06 12:52:32  How to interpret the result from local sensiti...   \n",
              "2  2019-08-25 08:54:17      Power Analysis in G-Power - Mixed Model Anova   \n",
              "3  2019-08-24 09:57:01                                               None   \n",
              "4  2019-08-24 12:13:46                                               None   \n",
              "\n",
              "                                 Tags AnswerCount  CommentCount  \\\n",
              "0     <bias><unbiased-estimator><mse>           1             0   \n",
              "1  <sensitivity-analysis><elasticity>           1             0   \n",
              "2                     <anova><gpower>           2             0   \n",
              "3                                None           0             0   \n",
              "4                                None           0             1   \n",
              "\n",
              "   FavoriteCount           ClosedDate CommunityOwnedDate  \n",
              "0              1  2019-08-25 10:25:24               None  \n",
              "1              0                 None               None  \n",
              "2              0                 None               None  \n",
              "3              0                 None               None  \n",
              "4              0                 None               None  \n",
              "\n",
              "[5 rows x 21 columns]"
            ],
            "text/html": [
              "\n",
              "\n",
              "  <div id=\"df-d107dfa1-b9f6-439c-b3ae-6b21978d01a6\">\n",
              "    <div class=\"colab-df-container\">\n",
              "      <div>\n",
              "<style scoped>\n",
              "    .dataframe tbody tr th:only-of-type {\n",
              "        vertical-align: middle;\n",
              "    }\n",
              "\n",
              "    .dataframe tbody tr th {\n",
              "        vertical-align: top;\n",
              "    }\n",
              "\n",
              "    .dataframe thead th {\n",
              "        text-align: right;\n",
              "    }\n",
              "</style>\n",
              "<table border=\"1\" class=\"dataframe\">\n",
              "  <thead>\n",
              "    <tr style=\"text-align: right;\">\n",
              "      <th></th>\n",
              "      <th>Id</th>\n",
              "      <th>PostTypeId</th>\n",
              "      <th>AcceptedAnswerId</th>\n",
              "      <th>ParentId</th>\n",
              "      <th>CreationDate</th>\n",
              "      <th>Score</th>\n",
              "      <th>ViewCount</th>\n",
              "      <th>Body</th>\n",
              "      <th>OwnerUserId</th>\n",
              "      <th>OwnerDisplayName</th>\n",
              "      <th>...</th>\n",
              "      <th>LastEditorDisplayName</th>\n",
              "      <th>LastEditDate</th>\n",
              "      <th>LastActivityDate</th>\n",
              "      <th>Title</th>\n",
              "      <th>Tags</th>\n",
              "      <th>AnswerCount</th>\n",
              "      <th>CommentCount</th>\n",
              "      <th>FavoriteCount</th>\n",
              "      <th>ClosedDate</th>\n",
              "      <th>CommunityOwnedDate</th>\n",
              "    </tr>\n",
              "  </thead>\n",
              "  <tbody>\n",
              "    <tr>\n",
              "      <th>0</th>\n",
              "      <td>423497</td>\n",
              "      <td>1</td>\n",
              "      <td>423511</td>\n",
              "      <td>0</td>\n",
              "      <td>2019-08-24 09:39:31</td>\n",
              "      <td>2</td>\n",
              "      <td>68</td>\n",
              "      <td>&lt;p&gt;From wikipedia &lt;a href=\"https://en.wikipedi...</td>\n",
              "      <td>64552</td>\n",
              "      <td>None</td>\n",
              "      <td>...</td>\n",
              "      <td>None</td>\n",
              "      <td>None</td>\n",
              "      <td>2019-08-24 11:38:54</td>\n",
              "      <td>When are biased estimators with lower MSE pref...</td>\n",
              "      <td>&lt;bias&gt;&lt;unbiased-estimator&gt;&lt;mse&gt;</td>\n",
              "      <td>1</td>\n",
              "      <td>0</td>\n",
              "      <td>1</td>\n",
              "      <td>2019-08-25 10:25:24</td>\n",
              "      <td>None</td>\n",
              "    </tr>\n",
              "    <tr>\n",
              "      <th>1</th>\n",
              "      <td>423498</td>\n",
              "      <td>1</td>\n",
              "      <td>0</td>\n",
              "      <td>0</td>\n",
              "      <td>2019-08-24 09:47:42</td>\n",
              "      <td>1</td>\n",
              "      <td>24</td>\n",
              "      <td>&lt;p&gt;I am currently doing local sensitivity anal...</td>\n",
              "      <td>87231</td>\n",
              "      <td>None</td>\n",
              "      <td>...</td>\n",
              "      <td>None</td>\n",
              "      <td>2019-09-06 12:52:32</td>\n",
              "      <td>2019-09-06 12:52:32</td>\n",
              "      <td>How to interpret the result from local sensiti...</td>\n",
              "      <td>&lt;sensitivity-analysis&gt;&lt;elasticity&gt;</td>\n",
              "      <td>1</td>\n",
              "      <td>0</td>\n",
              "      <td>0</td>\n",
              "      <td>None</td>\n",
              "      <td>None</td>\n",
              "    </tr>\n",
              "    <tr>\n",
              "      <th>2</th>\n",
              "      <td>423499</td>\n",
              "      <td>1</td>\n",
              "      <td>0</td>\n",
              "      <td>0</td>\n",
              "      <td>2019-08-24 09:48:26</td>\n",
              "      <td>1</td>\n",
              "      <td>56</td>\n",
              "      <td>&lt;p&gt;I'm an honours student in psychology doing ...</td>\n",
              "      <td>257207</td>\n",
              "      <td>None</td>\n",
              "      <td>...</td>\n",
              "      <td>None</td>\n",
              "      <td>None</td>\n",
              "      <td>2019-08-25 08:54:17</td>\n",
              "      <td>Power Analysis in G-Power - Mixed Model Anova</td>\n",
              "      <td>&lt;anova&gt;&lt;gpower&gt;</td>\n",
              "      <td>2</td>\n",
              "      <td>0</td>\n",
              "      <td>0</td>\n",
              "      <td>None</td>\n",
              "      <td>None</td>\n",
              "    </tr>\n",
              "    <tr>\n",
              "      <th>3</th>\n",
              "      <td>423500</td>\n",
              "      <td>2</td>\n",
              "      <td>0</td>\n",
              "      <td>215865</td>\n",
              "      <td>2019-08-24 09:57:01</td>\n",
              "      <td>0</td>\n",
              "      <td>0</td>\n",
              "      <td>&lt;p&gt;Maybe you can look this &lt;a href=\"https://me...</td>\n",
              "      <td>106606</td>\n",
              "      <td>None</td>\n",
              "      <td>...</td>\n",
              "      <td>None</td>\n",
              "      <td>None</td>\n",
              "      <td>2019-08-24 09:57:01</td>\n",
              "      <td>None</td>\n",
              "      <td>None</td>\n",
              "      <td>0</td>\n",
              "      <td>0</td>\n",
              "      <td>0</td>\n",
              "      <td>None</td>\n",
              "      <td>None</td>\n",
              "    </tr>\n",
              "    <tr>\n",
              "      <th>4</th>\n",
              "      <td>423502</td>\n",
              "      <td>2</td>\n",
              "      <td>0</td>\n",
              "      <td>423286</td>\n",
              "      <td>2019-08-24 10:44:52</td>\n",
              "      <td>3</td>\n",
              "      <td>0</td>\n",
              "      <td>&lt;blockquote&gt;\\n  &lt;p&gt;Q1) Is my approach valid?&lt;/...</td>\n",
              "      <td>220643</td>\n",
              "      <td>None</td>\n",
              "      <td>...</td>\n",
              "      <td>None</td>\n",
              "      <td>2019-08-24 12:13:46</td>\n",
              "      <td>2019-08-24 12:13:46</td>\n",
              "      <td>None</td>\n",
              "      <td>None</td>\n",
              "      <td>0</td>\n",
              "      <td>1</td>\n",
              "      <td>0</td>\n",
              "      <td>None</td>\n",
              "      <td>None</td>\n",
              "    </tr>\n",
              "  </tbody>\n",
              "</table>\n",
              "<p>5 rows × 21 columns</p>\n",
              "</div>\n",
              "      <button class=\"colab-df-convert\" onclick=\"convertToInteractive('df-d107dfa1-b9f6-439c-b3ae-6b21978d01a6')\"\n",
              "              title=\"Convert this dataframe to an interactive table.\"\n",
              "              style=\"display:none;\">\n",
              "\n",
              "  <svg xmlns=\"http://www.w3.org/2000/svg\" height=\"24px\"viewBox=\"0 0 24 24\"\n",
              "       width=\"24px\">\n",
              "    <path d=\"M0 0h24v24H0V0z\" fill=\"none\"/>\n",
              "    <path d=\"M18.56 5.44l.94 2.06.94-2.06 2.06-.94-2.06-.94-.94-2.06-.94 2.06-2.06.94zm-11 1L8.5 8.5l.94-2.06 2.06-.94-2.06-.94L8.5 2.5l-.94 2.06-2.06.94zm10 10l.94 2.06.94-2.06 2.06-.94-2.06-.94-.94-2.06-.94 2.06-2.06.94z\"/><path d=\"M17.41 7.96l-1.37-1.37c-.4-.4-.92-.59-1.43-.59-.52 0-1.04.2-1.43.59L10.3 9.45l-7.72 7.72c-.78.78-.78 2.05 0 2.83L4 21.41c.39.39.9.59 1.41.59.51 0 1.02-.2 1.41-.59l7.78-7.78 2.81-2.81c.8-.78.8-2.07 0-2.86zM5.41 20L4 18.59l7.72-7.72 1.47 1.35L5.41 20z\"/>\n",
              "  </svg>\n",
              "      </button>\n",
              "\n",
              "\n",
              "\n",
              "    <div id=\"df-4bd4c68a-1ab2-4f4d-ab17-ede8925fd854\">\n",
              "      <button class=\"colab-df-quickchart\" onclick=\"quickchart('df-4bd4c68a-1ab2-4f4d-ab17-ede8925fd854')\"\n",
              "              title=\"Suggest charts.\"\n",
              "              style=\"display:none;\">\n",
              "\n",
              "<svg xmlns=\"http://www.w3.org/2000/svg\" height=\"24px\"viewBox=\"0 0 24 24\"\n",
              "     width=\"24px\">\n",
              "    <g>\n",
              "        <path d=\"M19 3H5c-1.1 0-2 .9-2 2v14c0 1.1.9 2 2 2h14c1.1 0 2-.9 2-2V5c0-1.1-.9-2-2-2zM9 17H7v-7h2v7zm4 0h-2V7h2v10zm4 0h-2v-4h2v4z\"/>\n",
              "    </g>\n",
              "</svg>\n",
              "      </button>\n",
              "    </div>\n",
              "\n",
              "<style>\n",
              "  .colab-df-quickchart {\n",
              "    background-color: #E8F0FE;\n",
              "    border: none;\n",
              "    border-radius: 50%;\n",
              "    cursor: pointer;\n",
              "    display: none;\n",
              "    fill: #1967D2;\n",
              "    height: 32px;\n",
              "    padding: 0 0 0 0;\n",
              "    width: 32px;\n",
              "  }\n",
              "\n",
              "  .colab-df-quickchart:hover {\n",
              "    background-color: #E2EBFA;\n",
              "    box-shadow: 0px 1px 2px rgba(60, 64, 67, 0.3), 0px 1px 3px 1px rgba(60, 64, 67, 0.15);\n",
              "    fill: #174EA6;\n",
              "  }\n",
              "\n",
              "  [theme=dark] .colab-df-quickchart {\n",
              "    background-color: #3B4455;\n",
              "    fill: #D2E3FC;\n",
              "  }\n",
              "\n",
              "  [theme=dark] .colab-df-quickchart:hover {\n",
              "    background-color: #434B5C;\n",
              "    box-shadow: 0px 1px 3px 1px rgba(0, 0, 0, 0.15);\n",
              "    filter: drop-shadow(0px 1px 2px rgba(0, 0, 0, 0.3));\n",
              "    fill: #FFFFFF;\n",
              "  }\n",
              "</style>\n",
              "\n",
              "    <script>\n",
              "      async function quickchart(key) {\n",
              "        const containerElement = document.querySelector('#' + key);\n",
              "        const charts = await google.colab.kernel.invokeFunction(\n",
              "            'suggestCharts', [key], {});\n",
              "      }\n",
              "    </script>\n",
              "\n",
              "      <script>\n",
              "\n",
              "function displayQuickchartButton(domScope) {\n",
              "  let quickchartButtonEl =\n",
              "    domScope.querySelector('#df-4bd4c68a-1ab2-4f4d-ab17-ede8925fd854 button.colab-df-quickchart');\n",
              "  quickchartButtonEl.style.display =\n",
              "    google.colab.kernel.accessAllowed ? 'block' : 'none';\n",
              "}\n",
              "\n",
              "        displayQuickchartButton(document);\n",
              "      </script>\n",
              "      <style>\n",
              "    .colab-df-container {\n",
              "      display:flex;\n",
              "      flex-wrap:wrap;\n",
              "      gap: 12px;\n",
              "    }\n",
              "\n",
              "    .colab-df-convert {\n",
              "      background-color: #E8F0FE;\n",
              "      border: none;\n",
              "      border-radius: 50%;\n",
              "      cursor: pointer;\n",
              "      display: none;\n",
              "      fill: #1967D2;\n",
              "      height: 32px;\n",
              "      padding: 0 0 0 0;\n",
              "      width: 32px;\n",
              "    }\n",
              "\n",
              "    .colab-df-convert:hover {\n",
              "      background-color: #E2EBFA;\n",
              "      box-shadow: 0px 1px 2px rgba(60, 64, 67, 0.3), 0px 1px 3px 1px rgba(60, 64, 67, 0.15);\n",
              "      fill: #174EA6;\n",
              "    }\n",
              "\n",
              "    [theme=dark] .colab-df-convert {\n",
              "      background-color: #3B4455;\n",
              "      fill: #D2E3FC;\n",
              "    }\n",
              "\n",
              "    [theme=dark] .colab-df-convert:hover {\n",
              "      background-color: #434B5C;\n",
              "      box-shadow: 0px 1px 3px 1px rgba(0, 0, 0, 0.15);\n",
              "      filter: drop-shadow(0px 1px 2px rgba(0, 0, 0, 0.3));\n",
              "      fill: #FFFFFF;\n",
              "    }\n",
              "  </style>\n",
              "\n",
              "      <script>\n",
              "        const buttonEl =\n",
              "          document.querySelector('#df-d107dfa1-b9f6-439c-b3ae-6b21978d01a6 button.colab-df-convert');\n",
              "        buttonEl.style.display =\n",
              "          google.colab.kernel.accessAllowed ? 'block' : 'none';\n",
              "\n",
              "        async function convertToInteractive(key) {\n",
              "          const element = document.querySelector('#df-d107dfa1-b9f6-439c-b3ae-6b21978d01a6');\n",
              "          const dataTable =\n",
              "            await google.colab.kernel.invokeFunction('convertToInteractive',\n",
              "                                                     [key], {});\n",
              "          if (!dataTable) return;\n",
              "\n",
              "          const docLinkHtml = 'Like what you see? Visit the ' +\n",
              "            '<a target=\"_blank\" href=https://colab.research.google.com/notebooks/data_table.ipynb>data table notebook</a>'\n",
              "            + ' to learn more about interactive tables.';\n",
              "          element.innerHTML = '';\n",
              "          dataTable['output_type'] = 'display_data';\n",
              "          await google.colab.output.renderOutput(dataTable, element);\n",
              "          const docLink = document.createElement('div');\n",
              "          docLink.innerHTML = docLinkHtml;\n",
              "          element.appendChild(docLink);\n",
              "        }\n",
              "      </script>\n",
              "    </div>\n",
              "  </div>\n"
            ]
          },
          "metadata": {},
          "execution_count": 13
        }
      ],
      "source": [
        "# load posts into sqlite\n",
        "posts.to_sql('posts', con, if_exists='replace', index=False)\n",
        "\n",
        "# read back in to prove that it worked\n",
        "sql = 'SELECT * FROM posts'\n",
        "posts = pd.read_sql(sql, con)\n",
        "posts.head()"
      ]
    },
    {
      "cell_type": "code",
      "execution_count": null,
      "metadata": {
        "colab": {
          "base_uri": "https://localhost:8080/"
        },
        "id": "0oYhC8qKDuYy",
        "outputId": "dfdd7aa5-584e-4894-ae0e-eff5369d5ab6"
      },
      "outputs": [
        {
          "output_type": "stream",
          "name": "stdout",
          "text": [
            "present comments shape (50000, 6)\n",
            "new comments shape (50000, 6)\n"
          ]
        }
      ],
      "source": [
        "print(\"present comments shape\",comments.shape)\n",
        "comments.drop_duplicates(inplace=True)\n",
        "print(\"new comments shape\",comments.shape)"
      ]
    },
    {
      "cell_type": "code",
      "execution_count": null,
      "metadata": {
        "colab": {
          "base_uri": "https://localhost:8080/"
        },
        "id": "egqxuM9lDuYy",
        "outputId": "f41a78ff-215d-471f-d1c0-11a3f1fe7c73"
      },
      "outputs": [
        {
          "output_type": "stream",
          "name": "stdout",
          "text": [
            "present users shape (18412, 13)\n",
            "new users shape (18412, 13)\n"
          ]
        }
      ],
      "source": [
        "print(\"present users shape\",users.shape)\n",
        "users.drop_duplicates(inplace=True)\n",
        "print(\"new users shape\",users.shape)"
      ]
    },
    {
      "cell_type": "code",
      "execution_count": null,
      "metadata": {
        "colab": {
          "base_uri": "https://localhost:8080/"
        },
        "id": "iROwy1gtDuYz",
        "outputId": "6545418c-e652-47fa-b654-b5958da95387"
      },
      "outputs": [
        {
          "output_type": "stream",
          "name": "stdout",
          "text": [
            "present posts shape (42234, 21)\n",
            "new posts shape (42234, 21)\n"
          ]
        }
      ],
      "source": [
        "print(\"present posts shape\",posts.shape)\n",
        "posts.drop_duplicates(inplace=True)\n",
        "print(\"new posts shape\",posts.shape)"
      ]
    },
    {
      "cell_type": "markdown",
      "metadata": {
        "id": "LbX9M3TqDuYz"
      },
      "source": [
        "## Reviewing the Data"
      ]
    },
    {
      "cell_type": "code",
      "execution_count": null,
      "metadata": {
        "id": "o0TVugv2DuY0",
        "colab": {
          "base_uri": "https://localhost:8080/"
        },
        "outputId": "d407360e-0ca2-4c1c-b3c1-e0bf171b2dfe"
      },
      "outputs": [
        {
          "output_type": "execute_result",
          "data": {
            "text/plain": [
              "Index(['Id', 'Reputation', 'CreationDate', 'DisplayName', 'LastAccessDate',\n",
              "       'WebsiteUrl', 'Location', 'AboutMe', 'Views', 'UpVotes', 'DownVotes',\n",
              "       'ProfileImageUrl', 'AccountId'],\n",
              "      dtype='object')"
            ]
          },
          "metadata": {},
          "execution_count": 20
        }
      ],
      "source": [
        "users.columns"
      ]
    },
    {
      "cell_type": "code",
      "execution_count": null,
      "metadata": {
        "id": "CrD1pT2aDuY0",
        "colab": {
          "base_uri": "https://localhost:8080/",
          "height": 333
        },
        "outputId": "d1551c74-1e4d-46ea-e341-fbd7cec05971"
      },
      "outputs": [
        {
          "output_type": "execute_result",
          "data": {
            "text/plain": [
              "       Id  Reputation         CreationDate DisplayName       LastAccessDate  \\\n",
              "0  157607          31  2017-04-17 14:50:42  user157607  2019-07-23 16:44:08   \n",
              "1  157656         101  2017-04-17 20:08:20  user102859  2019-06-26 13:42:13   \n",
              "2  157704         133  2017-04-18 05:10:47      jupiar  2019-11-25 13:32:27   \n",
              "3  157709         155  2017-04-18 06:39:18      farmer  2019-02-17 19:44:24   \n",
              "4  157755         101  2017-04-18 12:56:17      Miki P  2019-08-12 17:02:21   \n",
              "\n",
              "  WebsiteUrl         Location  \\\n",
              "0       None             None   \n",
              "1       None             None   \n",
              "2       None  Shanghai, China   \n",
              "3       None             None   \n",
              "4       None             None   \n",
              "\n",
              "                                             AboutMe  Views  UpVotes  \\\n",
              "0                                               None      0        0   \n",
              "1                                               None      3        0   \n",
              "2  <p>Originally from the U.K, I have an Undergra...      1        1   \n",
              "3                                               None     16        0   \n",
              "4                                               None      1        9   \n",
              "\n",
              "   DownVotes                                    ProfileImageUrl  AccountId  \n",
              "0          0  https://www.gravatar.com/avatar/2efb161849efa4...   10705183  \n",
              "1          0      https://i.stack.imgur.com/eY4ka.jpg?s=128&g=1   10567606  \n",
              "2          0  https://www.gravatar.com/avatar/720e20205122c5...    9501631  \n",
              "3          0  https://www.gravatar.com/avatar/0f8c4bde3d8f25...   10709837  \n",
              "4          0  https://www.gravatar.com/avatar/af088558cd81c5...    7969290  "
            ],
            "text/html": [
              "\n",
              "\n",
              "  <div id=\"df-bda0a44d-bc63-4b09-a213-b620ecf4424c\">\n",
              "    <div class=\"colab-df-container\">\n",
              "      <div>\n",
              "<style scoped>\n",
              "    .dataframe tbody tr th:only-of-type {\n",
              "        vertical-align: middle;\n",
              "    }\n",
              "\n",
              "    .dataframe tbody tr th {\n",
              "        vertical-align: top;\n",
              "    }\n",
              "\n",
              "    .dataframe thead th {\n",
              "        text-align: right;\n",
              "    }\n",
              "</style>\n",
              "<table border=\"1\" class=\"dataframe\">\n",
              "  <thead>\n",
              "    <tr style=\"text-align: right;\">\n",
              "      <th></th>\n",
              "      <th>Id</th>\n",
              "      <th>Reputation</th>\n",
              "      <th>CreationDate</th>\n",
              "      <th>DisplayName</th>\n",
              "      <th>LastAccessDate</th>\n",
              "      <th>WebsiteUrl</th>\n",
              "      <th>Location</th>\n",
              "      <th>AboutMe</th>\n",
              "      <th>Views</th>\n",
              "      <th>UpVotes</th>\n",
              "      <th>DownVotes</th>\n",
              "      <th>ProfileImageUrl</th>\n",
              "      <th>AccountId</th>\n",
              "    </tr>\n",
              "  </thead>\n",
              "  <tbody>\n",
              "    <tr>\n",
              "      <th>0</th>\n",
              "      <td>157607</td>\n",
              "      <td>31</td>\n",
              "      <td>2017-04-17 14:50:42</td>\n",
              "      <td>user157607</td>\n",
              "      <td>2019-07-23 16:44:08</td>\n",
              "      <td>None</td>\n",
              "      <td>None</td>\n",
              "      <td>None</td>\n",
              "      <td>0</td>\n",
              "      <td>0</td>\n",
              "      <td>0</td>\n",
              "      <td>https://www.gravatar.com/avatar/2efb161849efa4...</td>\n",
              "      <td>10705183</td>\n",
              "    </tr>\n",
              "    <tr>\n",
              "      <th>1</th>\n",
              "      <td>157656</td>\n",
              "      <td>101</td>\n",
              "      <td>2017-04-17 20:08:20</td>\n",
              "      <td>user102859</td>\n",
              "      <td>2019-06-26 13:42:13</td>\n",
              "      <td>None</td>\n",
              "      <td>None</td>\n",
              "      <td>None</td>\n",
              "      <td>3</td>\n",
              "      <td>0</td>\n",
              "      <td>0</td>\n",
              "      <td>https://i.stack.imgur.com/eY4ka.jpg?s=128&amp;g=1</td>\n",
              "      <td>10567606</td>\n",
              "    </tr>\n",
              "    <tr>\n",
              "      <th>2</th>\n",
              "      <td>157704</td>\n",
              "      <td>133</td>\n",
              "      <td>2017-04-18 05:10:47</td>\n",
              "      <td>jupiar</td>\n",
              "      <td>2019-11-25 13:32:27</td>\n",
              "      <td>None</td>\n",
              "      <td>Shanghai, China</td>\n",
              "      <td>&lt;p&gt;Originally from the U.K, I have an Undergra...</td>\n",
              "      <td>1</td>\n",
              "      <td>1</td>\n",
              "      <td>0</td>\n",
              "      <td>https://www.gravatar.com/avatar/720e20205122c5...</td>\n",
              "      <td>9501631</td>\n",
              "    </tr>\n",
              "    <tr>\n",
              "      <th>3</th>\n",
              "      <td>157709</td>\n",
              "      <td>155</td>\n",
              "      <td>2017-04-18 06:39:18</td>\n",
              "      <td>farmer</td>\n",
              "      <td>2019-02-17 19:44:24</td>\n",
              "      <td>None</td>\n",
              "      <td>None</td>\n",
              "      <td>None</td>\n",
              "      <td>16</td>\n",
              "      <td>0</td>\n",
              "      <td>0</td>\n",
              "      <td>https://www.gravatar.com/avatar/0f8c4bde3d8f25...</td>\n",
              "      <td>10709837</td>\n",
              "    </tr>\n",
              "    <tr>\n",
              "      <th>4</th>\n",
              "      <td>157755</td>\n",
              "      <td>101</td>\n",
              "      <td>2017-04-18 12:56:17</td>\n",
              "      <td>Miki P</td>\n",
              "      <td>2019-08-12 17:02:21</td>\n",
              "      <td>None</td>\n",
              "      <td>None</td>\n",
              "      <td>None</td>\n",
              "      <td>1</td>\n",
              "      <td>9</td>\n",
              "      <td>0</td>\n",
              "      <td>https://www.gravatar.com/avatar/af088558cd81c5...</td>\n",
              "      <td>7969290</td>\n",
              "    </tr>\n",
              "  </tbody>\n",
              "</table>\n",
              "</div>\n",
              "      <button class=\"colab-df-convert\" onclick=\"convertToInteractive('df-bda0a44d-bc63-4b09-a213-b620ecf4424c')\"\n",
              "              title=\"Convert this dataframe to an interactive table.\"\n",
              "              style=\"display:none;\">\n",
              "\n",
              "  <svg xmlns=\"http://www.w3.org/2000/svg\" height=\"24px\"viewBox=\"0 0 24 24\"\n",
              "       width=\"24px\">\n",
              "    <path d=\"M0 0h24v24H0V0z\" fill=\"none\"/>\n",
              "    <path d=\"M18.56 5.44l.94 2.06.94-2.06 2.06-.94-2.06-.94-.94-2.06-.94 2.06-2.06.94zm-11 1L8.5 8.5l.94-2.06 2.06-.94-2.06-.94L8.5 2.5l-.94 2.06-2.06.94zm10 10l.94 2.06.94-2.06 2.06-.94-2.06-.94-.94-2.06-.94 2.06-2.06.94z\"/><path d=\"M17.41 7.96l-1.37-1.37c-.4-.4-.92-.59-1.43-.59-.52 0-1.04.2-1.43.59L10.3 9.45l-7.72 7.72c-.78.78-.78 2.05 0 2.83L4 21.41c.39.39.9.59 1.41.59.51 0 1.02-.2 1.41-.59l7.78-7.78 2.81-2.81c.8-.78.8-2.07 0-2.86zM5.41 20L4 18.59l7.72-7.72 1.47 1.35L5.41 20z\"/>\n",
              "  </svg>\n",
              "      </button>\n",
              "\n",
              "\n",
              "\n",
              "    <div id=\"df-ed60727a-2c20-4557-a45a-71dd1e398b81\">\n",
              "      <button class=\"colab-df-quickchart\" onclick=\"quickchart('df-ed60727a-2c20-4557-a45a-71dd1e398b81')\"\n",
              "              title=\"Suggest charts.\"\n",
              "              style=\"display:none;\">\n",
              "\n",
              "<svg xmlns=\"http://www.w3.org/2000/svg\" height=\"24px\"viewBox=\"0 0 24 24\"\n",
              "     width=\"24px\">\n",
              "    <g>\n",
              "        <path d=\"M19 3H5c-1.1 0-2 .9-2 2v14c0 1.1.9 2 2 2h14c1.1 0 2-.9 2-2V5c0-1.1-.9-2-2-2zM9 17H7v-7h2v7zm4 0h-2V7h2v10zm4 0h-2v-4h2v4z\"/>\n",
              "    </g>\n",
              "</svg>\n",
              "      </button>\n",
              "    </div>\n",
              "\n",
              "<style>\n",
              "  .colab-df-quickchart {\n",
              "    background-color: #E8F0FE;\n",
              "    border: none;\n",
              "    border-radius: 50%;\n",
              "    cursor: pointer;\n",
              "    display: none;\n",
              "    fill: #1967D2;\n",
              "    height: 32px;\n",
              "    padding: 0 0 0 0;\n",
              "    width: 32px;\n",
              "  }\n",
              "\n",
              "  .colab-df-quickchart:hover {\n",
              "    background-color: #E2EBFA;\n",
              "    box-shadow: 0px 1px 2px rgba(60, 64, 67, 0.3), 0px 1px 3px 1px rgba(60, 64, 67, 0.15);\n",
              "    fill: #174EA6;\n",
              "  }\n",
              "\n",
              "  [theme=dark] .colab-df-quickchart {\n",
              "    background-color: #3B4455;\n",
              "    fill: #D2E3FC;\n",
              "  }\n",
              "\n",
              "  [theme=dark] .colab-df-quickchart:hover {\n",
              "    background-color: #434B5C;\n",
              "    box-shadow: 0px 1px 3px 1px rgba(0, 0, 0, 0.15);\n",
              "    filter: drop-shadow(0px 1px 2px rgba(0, 0, 0, 0.3));\n",
              "    fill: #FFFFFF;\n",
              "  }\n",
              "</style>\n",
              "\n",
              "    <script>\n",
              "      async function quickchart(key) {\n",
              "        const containerElement = document.querySelector('#' + key);\n",
              "        const charts = await google.colab.kernel.invokeFunction(\n",
              "            'suggestCharts', [key], {});\n",
              "      }\n",
              "    </script>\n",
              "\n",
              "      <script>\n",
              "\n",
              "function displayQuickchartButton(domScope) {\n",
              "  let quickchartButtonEl =\n",
              "    domScope.querySelector('#df-ed60727a-2c20-4557-a45a-71dd1e398b81 button.colab-df-quickchart');\n",
              "  quickchartButtonEl.style.display =\n",
              "    google.colab.kernel.accessAllowed ? 'block' : 'none';\n",
              "}\n",
              "\n",
              "        displayQuickchartButton(document);\n",
              "      </script>\n",
              "      <style>\n",
              "    .colab-df-container {\n",
              "      display:flex;\n",
              "      flex-wrap:wrap;\n",
              "      gap: 12px;\n",
              "    }\n",
              "\n",
              "    .colab-df-convert {\n",
              "      background-color: #E8F0FE;\n",
              "      border: none;\n",
              "      border-radius: 50%;\n",
              "      cursor: pointer;\n",
              "      display: none;\n",
              "      fill: #1967D2;\n",
              "      height: 32px;\n",
              "      padding: 0 0 0 0;\n",
              "      width: 32px;\n",
              "    }\n",
              "\n",
              "    .colab-df-convert:hover {\n",
              "      background-color: #E2EBFA;\n",
              "      box-shadow: 0px 1px 2px rgba(60, 64, 67, 0.3), 0px 1px 3px 1px rgba(60, 64, 67, 0.15);\n",
              "      fill: #174EA6;\n",
              "    }\n",
              "\n",
              "    [theme=dark] .colab-df-convert {\n",
              "      background-color: #3B4455;\n",
              "      fill: #D2E3FC;\n",
              "    }\n",
              "\n",
              "    [theme=dark] .colab-df-convert:hover {\n",
              "      background-color: #434B5C;\n",
              "      box-shadow: 0px 1px 3px 1px rgba(0, 0, 0, 0.15);\n",
              "      filter: drop-shadow(0px 1px 2px rgba(0, 0, 0, 0.3));\n",
              "      fill: #FFFFFF;\n",
              "    }\n",
              "  </style>\n",
              "\n",
              "      <script>\n",
              "        const buttonEl =\n",
              "          document.querySelector('#df-bda0a44d-bc63-4b09-a213-b620ecf4424c button.colab-df-convert');\n",
              "        buttonEl.style.display =\n",
              "          google.colab.kernel.accessAllowed ? 'block' : 'none';\n",
              "\n",
              "        async function convertToInteractive(key) {\n",
              "          const element = document.querySelector('#df-bda0a44d-bc63-4b09-a213-b620ecf4424c');\n",
              "          const dataTable =\n",
              "            await google.colab.kernel.invokeFunction('convertToInteractive',\n",
              "                                                     [key], {});\n",
              "          if (!dataTable) return;\n",
              "\n",
              "          const docLinkHtml = 'Like what you see? Visit the ' +\n",
              "            '<a target=\"_blank\" href=https://colab.research.google.com/notebooks/data_table.ipynb>data table notebook</a>'\n",
              "            + ' to learn more about interactive tables.';\n",
              "          element.innerHTML = '';\n",
              "          dataTable['output_type'] = 'display_data';\n",
              "          await google.colab.output.renderOutput(dataTable, element);\n",
              "          const docLink = document.createElement('div');\n",
              "          docLink.innerHTML = docLinkHtml;\n",
              "          element.appendChild(docLink);\n",
              "        }\n",
              "      </script>\n",
              "    </div>\n",
              "  </div>\n"
            ]
          },
          "metadata": {},
          "execution_count": 21
        }
      ],
      "source": [
        "users.head()"
      ]
    },
    {
      "cell_type": "code",
      "execution_count": null,
      "metadata": {
        "id": "gaZFP4jmDuY1",
        "colab": {
          "base_uri": "https://localhost:8080/"
        },
        "outputId": "4aa88e93-ec26-44b8-8ebf-87db288176a0"
      },
      "outputs": [
        {
          "output_type": "execute_result",
          "data": {
            "text/plain": [
              "Index(['Id', 'PostId', 'Score', 'Text', 'CreationDate', 'UserId'], dtype='object')"
            ]
          },
          "metadata": {},
          "execution_count": 22
        }
      ],
      "source": [
        "comments.columns"
      ]
    },
    {
      "cell_type": "code",
      "execution_count": null,
      "metadata": {
        "id": "yairLQoNDuY1",
        "colab": {
          "base_uri": "https://localhost:8080/",
          "height": 204
        },
        "outputId": "16586b37-7412-429f-bf6a-162cebc59558"
      },
      "outputs": [
        {
          "output_type": "execute_result",
          "data": {
            "text/plain": [
              "       Id  PostId  Score                                               Text  \\\n",
              "0  723182  385124      0  @BenBolker I don't understand. The fit cannot ...   \n",
              "1  723183  385124      3  You can't add *less* than (`-min(y)`), but you...   \n",
              "2  723186  385137      0  nice. If you felt like doing the work it would...   \n",
              "3  723187  385137      0  i.e. `emdbook::curve3d(-sum(dnbinom(y,mu=mu,si...   \n",
              "4  723188  385134      0  Don't you mean \"so variance should be $\\sigma^...   \n",
              "\n",
              "          CreationDate  UserId  \n",
              "0  2019-01-01 00:06:39   78575  \n",
              "1  2019-01-01 00:09:22    2126  \n",
              "2  2019-01-01 00:32:11    2126  \n",
              "3  2019-01-01 00:40:36    2126  \n",
              "4  2019-01-01 00:41:28  112141  "
            ],
            "text/html": [
              "\n",
              "\n",
              "  <div id=\"df-e91fe457-debc-4ec1-b440-953d9b8abfea\">\n",
              "    <div class=\"colab-df-container\">\n",
              "      <div>\n",
              "<style scoped>\n",
              "    .dataframe tbody tr th:only-of-type {\n",
              "        vertical-align: middle;\n",
              "    }\n",
              "\n",
              "    .dataframe tbody tr th {\n",
              "        vertical-align: top;\n",
              "    }\n",
              "\n",
              "    .dataframe thead th {\n",
              "        text-align: right;\n",
              "    }\n",
              "</style>\n",
              "<table border=\"1\" class=\"dataframe\">\n",
              "  <thead>\n",
              "    <tr style=\"text-align: right;\">\n",
              "      <th></th>\n",
              "      <th>Id</th>\n",
              "      <th>PostId</th>\n",
              "      <th>Score</th>\n",
              "      <th>Text</th>\n",
              "      <th>CreationDate</th>\n",
              "      <th>UserId</th>\n",
              "    </tr>\n",
              "  </thead>\n",
              "  <tbody>\n",
              "    <tr>\n",
              "      <th>0</th>\n",
              "      <td>723182</td>\n",
              "      <td>385124</td>\n",
              "      <td>0</td>\n",
              "      <td>@BenBolker I don't understand. The fit cannot ...</td>\n",
              "      <td>2019-01-01 00:06:39</td>\n",
              "      <td>78575</td>\n",
              "    </tr>\n",
              "    <tr>\n",
              "      <th>1</th>\n",
              "      <td>723183</td>\n",
              "      <td>385124</td>\n",
              "      <td>3</td>\n",
              "      <td>You can't add *less* than (`-min(y)`), but you...</td>\n",
              "      <td>2019-01-01 00:09:22</td>\n",
              "      <td>2126</td>\n",
              "    </tr>\n",
              "    <tr>\n",
              "      <th>2</th>\n",
              "      <td>723186</td>\n",
              "      <td>385137</td>\n",
              "      <td>0</td>\n",
              "      <td>nice. If you felt like doing the work it would...</td>\n",
              "      <td>2019-01-01 00:32:11</td>\n",
              "      <td>2126</td>\n",
              "    </tr>\n",
              "    <tr>\n",
              "      <th>3</th>\n",
              "      <td>723187</td>\n",
              "      <td>385137</td>\n",
              "      <td>0</td>\n",
              "      <td>i.e. `emdbook::curve3d(-sum(dnbinom(y,mu=mu,si...</td>\n",
              "      <td>2019-01-01 00:40:36</td>\n",
              "      <td>2126</td>\n",
              "    </tr>\n",
              "    <tr>\n",
              "      <th>4</th>\n",
              "      <td>723188</td>\n",
              "      <td>385134</td>\n",
              "      <td>0</td>\n",
              "      <td>Don't you mean \"so variance should be $\\sigma^...</td>\n",
              "      <td>2019-01-01 00:41:28</td>\n",
              "      <td>112141</td>\n",
              "    </tr>\n",
              "  </tbody>\n",
              "</table>\n",
              "</div>\n",
              "      <button class=\"colab-df-convert\" onclick=\"convertToInteractive('df-e91fe457-debc-4ec1-b440-953d9b8abfea')\"\n",
              "              title=\"Convert this dataframe to an interactive table.\"\n",
              "              style=\"display:none;\">\n",
              "\n",
              "  <svg xmlns=\"http://www.w3.org/2000/svg\" height=\"24px\"viewBox=\"0 0 24 24\"\n",
              "       width=\"24px\">\n",
              "    <path d=\"M0 0h24v24H0V0z\" fill=\"none\"/>\n",
              "    <path d=\"M18.56 5.44l.94 2.06.94-2.06 2.06-.94-2.06-.94-.94-2.06-.94 2.06-2.06.94zm-11 1L8.5 8.5l.94-2.06 2.06-.94-2.06-.94L8.5 2.5l-.94 2.06-2.06.94zm10 10l.94 2.06.94-2.06 2.06-.94-2.06-.94-.94-2.06-.94 2.06-2.06.94z\"/><path d=\"M17.41 7.96l-1.37-1.37c-.4-.4-.92-.59-1.43-.59-.52 0-1.04.2-1.43.59L10.3 9.45l-7.72 7.72c-.78.78-.78 2.05 0 2.83L4 21.41c.39.39.9.59 1.41.59.51 0 1.02-.2 1.41-.59l7.78-7.78 2.81-2.81c.8-.78.8-2.07 0-2.86zM5.41 20L4 18.59l7.72-7.72 1.47 1.35L5.41 20z\"/>\n",
              "  </svg>\n",
              "      </button>\n",
              "\n",
              "\n",
              "\n",
              "    <div id=\"df-e0c8c22e-eb60-4fb5-9c4b-1b495881e8f6\">\n",
              "      <button class=\"colab-df-quickchart\" onclick=\"quickchart('df-e0c8c22e-eb60-4fb5-9c4b-1b495881e8f6')\"\n",
              "              title=\"Suggest charts.\"\n",
              "              style=\"display:none;\">\n",
              "\n",
              "<svg xmlns=\"http://www.w3.org/2000/svg\" height=\"24px\"viewBox=\"0 0 24 24\"\n",
              "     width=\"24px\">\n",
              "    <g>\n",
              "        <path d=\"M19 3H5c-1.1 0-2 .9-2 2v14c0 1.1.9 2 2 2h14c1.1 0 2-.9 2-2V5c0-1.1-.9-2-2-2zM9 17H7v-7h2v7zm4 0h-2V7h2v10zm4 0h-2v-4h2v4z\"/>\n",
              "    </g>\n",
              "</svg>\n",
              "      </button>\n",
              "    </div>\n",
              "\n",
              "<style>\n",
              "  .colab-df-quickchart {\n",
              "    background-color: #E8F0FE;\n",
              "    border: none;\n",
              "    border-radius: 50%;\n",
              "    cursor: pointer;\n",
              "    display: none;\n",
              "    fill: #1967D2;\n",
              "    height: 32px;\n",
              "    padding: 0 0 0 0;\n",
              "    width: 32px;\n",
              "  }\n",
              "\n",
              "  .colab-df-quickchart:hover {\n",
              "    background-color: #E2EBFA;\n",
              "    box-shadow: 0px 1px 2px rgba(60, 64, 67, 0.3), 0px 1px 3px 1px rgba(60, 64, 67, 0.15);\n",
              "    fill: #174EA6;\n",
              "  }\n",
              "\n",
              "  [theme=dark] .colab-df-quickchart {\n",
              "    background-color: #3B4455;\n",
              "    fill: #D2E3FC;\n",
              "  }\n",
              "\n",
              "  [theme=dark] .colab-df-quickchart:hover {\n",
              "    background-color: #434B5C;\n",
              "    box-shadow: 0px 1px 3px 1px rgba(0, 0, 0, 0.15);\n",
              "    filter: drop-shadow(0px 1px 2px rgba(0, 0, 0, 0.3));\n",
              "    fill: #FFFFFF;\n",
              "  }\n",
              "</style>\n",
              "\n",
              "    <script>\n",
              "      async function quickchart(key) {\n",
              "        const containerElement = document.querySelector('#' + key);\n",
              "        const charts = await google.colab.kernel.invokeFunction(\n",
              "            'suggestCharts', [key], {});\n",
              "      }\n",
              "    </script>\n",
              "\n",
              "      <script>\n",
              "\n",
              "function displayQuickchartButton(domScope) {\n",
              "  let quickchartButtonEl =\n",
              "    domScope.querySelector('#df-e0c8c22e-eb60-4fb5-9c4b-1b495881e8f6 button.colab-df-quickchart');\n",
              "  quickchartButtonEl.style.display =\n",
              "    google.colab.kernel.accessAllowed ? 'block' : 'none';\n",
              "}\n",
              "\n",
              "        displayQuickchartButton(document);\n",
              "      </script>\n",
              "      <style>\n",
              "    .colab-df-container {\n",
              "      display:flex;\n",
              "      flex-wrap:wrap;\n",
              "      gap: 12px;\n",
              "    }\n",
              "\n",
              "    .colab-df-convert {\n",
              "      background-color: #E8F0FE;\n",
              "      border: none;\n",
              "      border-radius: 50%;\n",
              "      cursor: pointer;\n",
              "      display: none;\n",
              "      fill: #1967D2;\n",
              "      height: 32px;\n",
              "      padding: 0 0 0 0;\n",
              "      width: 32px;\n",
              "    }\n",
              "\n",
              "    .colab-df-convert:hover {\n",
              "      background-color: #E2EBFA;\n",
              "      box-shadow: 0px 1px 2px rgba(60, 64, 67, 0.3), 0px 1px 3px 1px rgba(60, 64, 67, 0.15);\n",
              "      fill: #174EA6;\n",
              "    }\n",
              "\n",
              "    [theme=dark] .colab-df-convert {\n",
              "      background-color: #3B4455;\n",
              "      fill: #D2E3FC;\n",
              "    }\n",
              "\n",
              "    [theme=dark] .colab-df-convert:hover {\n",
              "      background-color: #434B5C;\n",
              "      box-shadow: 0px 1px 3px 1px rgba(0, 0, 0, 0.15);\n",
              "      filter: drop-shadow(0px 1px 2px rgba(0, 0, 0, 0.3));\n",
              "      fill: #FFFFFF;\n",
              "    }\n",
              "  </style>\n",
              "\n",
              "      <script>\n",
              "        const buttonEl =\n",
              "          document.querySelector('#df-e91fe457-debc-4ec1-b440-953d9b8abfea button.colab-df-convert');\n",
              "        buttonEl.style.display =\n",
              "          google.colab.kernel.accessAllowed ? 'block' : 'none';\n",
              "\n",
              "        async function convertToInteractive(key) {\n",
              "          const element = document.querySelector('#df-e91fe457-debc-4ec1-b440-953d9b8abfea');\n",
              "          const dataTable =\n",
              "            await google.colab.kernel.invokeFunction('convertToInteractive',\n",
              "                                                     [key], {});\n",
              "          if (!dataTable) return;\n",
              "\n",
              "          const docLinkHtml = 'Like what you see? Visit the ' +\n",
              "            '<a target=\"_blank\" href=https://colab.research.google.com/notebooks/data_table.ipynb>data table notebook</a>'\n",
              "            + ' to learn more about interactive tables.';\n",
              "          element.innerHTML = '';\n",
              "          dataTable['output_type'] = 'display_data';\n",
              "          await google.colab.output.renderOutput(dataTable, element);\n",
              "          const docLink = document.createElement('div');\n",
              "          docLink.innerHTML = docLinkHtml;\n",
              "          element.appendChild(docLink);\n",
              "        }\n",
              "      </script>\n",
              "    </div>\n",
              "  </div>\n"
            ]
          },
          "metadata": {},
          "execution_count": 23
        }
      ],
      "source": [
        "comments.head()"
      ]
    },
    {
      "cell_type": "code",
      "execution_count": null,
      "metadata": {
        "id": "HwYw23l_DuY1",
        "colab": {
          "base_uri": "https://localhost:8080/"
        },
        "outputId": "8f1dfbef-e715-4e56-da20-067d38db2f02"
      },
      "outputs": [
        {
          "output_type": "execute_result",
          "data": {
            "text/plain": [
              "Index(['Id', 'PostTypeId', 'AcceptedAnswerId', 'ParentId', 'CreationDate',\n",
              "       'Score', 'ViewCount', 'Body', 'OwnerUserId', 'OwnerDisplayName',\n",
              "       'LastEditorUserId', 'LastEditorDisplayName', 'LastEditDate',\n",
              "       'LastActivityDate', 'Title', 'Tags', 'AnswerCount', 'CommentCount',\n",
              "       'FavoriteCount', 'ClosedDate', 'CommunityOwnedDate'],\n",
              "      dtype='object')"
            ]
          },
          "metadata": {},
          "execution_count": 24
        }
      ],
      "source": [
        "posts.columns"
      ]
    },
    {
      "cell_type": "code",
      "execution_count": null,
      "metadata": {
        "id": "Ix_vd1jhDuY2",
        "colab": {
          "base_uri": "https://localhost:8080/",
          "height": 586
        },
        "outputId": "f55a8bd0-5718-4118-fe7b-679e8a57d842"
      },
      "outputs": [
        {
          "output_type": "execute_result",
          "data": {
            "text/plain": [
              "       Id  PostTypeId  AcceptedAnswerId  ParentId         CreationDate  Score  \\\n",
              "0  423497           1            423511         0  2019-08-24 09:39:31      2   \n",
              "1  423498           1                 0         0  2019-08-24 09:47:42      1   \n",
              "2  423499           1                 0         0  2019-08-24 09:48:26      1   \n",
              "3  423500           2                 0    215865  2019-08-24 09:57:01      0   \n",
              "4  423502           2                 0    423286  2019-08-24 10:44:52      3   \n",
              "\n",
              "   ViewCount                                               Body  OwnerUserId  \\\n",
              "0         68  <p>From wikipedia <a href=\"https://en.wikipedi...        64552   \n",
              "1         24  <p>I am currently doing local sensitivity anal...        87231   \n",
              "2         56  <p>I'm an honours student in psychology doing ...       257207   \n",
              "3          0  <p>Maybe you can look this <a href=\"https://me...       106606   \n",
              "4          0  <blockquote>\\n  <p>Q1) Is my approach valid?</...       220643   \n",
              "\n",
              "  OwnerDisplayName  ...  LastEditorDisplayName         LastEditDate  \\\n",
              "0             None  ...                   None                 None   \n",
              "1             None  ...                   None  2019-09-06 12:52:32   \n",
              "2             None  ...                   None                 None   \n",
              "3             None  ...                   None                 None   \n",
              "4             None  ...                   None  2019-08-24 12:13:46   \n",
              "\n",
              "      LastActivityDate                                              Title  \\\n",
              "0  2019-08-24 11:38:54  When are biased estimators with lower MSE pref...   \n",
              "1  2019-09-06 12:52:32  How to interpret the result from local sensiti...   \n",
              "2  2019-08-25 08:54:17      Power Analysis in G-Power - Mixed Model Anova   \n",
              "3  2019-08-24 09:57:01                                               None   \n",
              "4  2019-08-24 12:13:46                                               None   \n",
              "\n",
              "                                 Tags AnswerCount  CommentCount  \\\n",
              "0     <bias><unbiased-estimator><mse>           1             0   \n",
              "1  <sensitivity-analysis><elasticity>           1             0   \n",
              "2                     <anova><gpower>           2             0   \n",
              "3                                None           0             0   \n",
              "4                                None           0             1   \n",
              "\n",
              "   FavoriteCount           ClosedDate CommunityOwnedDate  \n",
              "0              1  2019-08-25 10:25:24               None  \n",
              "1              0                 None               None  \n",
              "2              0                 None               None  \n",
              "3              0                 None               None  \n",
              "4              0                 None               None  \n",
              "\n",
              "[5 rows x 21 columns]"
            ],
            "text/html": [
              "\n",
              "\n",
              "  <div id=\"df-68875315-10b8-4683-b7ab-72da24faf38f\">\n",
              "    <div class=\"colab-df-container\">\n",
              "      <div>\n",
              "<style scoped>\n",
              "    .dataframe tbody tr th:only-of-type {\n",
              "        vertical-align: middle;\n",
              "    }\n",
              "\n",
              "    .dataframe tbody tr th {\n",
              "        vertical-align: top;\n",
              "    }\n",
              "\n",
              "    .dataframe thead th {\n",
              "        text-align: right;\n",
              "    }\n",
              "</style>\n",
              "<table border=\"1\" class=\"dataframe\">\n",
              "  <thead>\n",
              "    <tr style=\"text-align: right;\">\n",
              "      <th></th>\n",
              "      <th>Id</th>\n",
              "      <th>PostTypeId</th>\n",
              "      <th>AcceptedAnswerId</th>\n",
              "      <th>ParentId</th>\n",
              "      <th>CreationDate</th>\n",
              "      <th>Score</th>\n",
              "      <th>ViewCount</th>\n",
              "      <th>Body</th>\n",
              "      <th>OwnerUserId</th>\n",
              "      <th>OwnerDisplayName</th>\n",
              "      <th>...</th>\n",
              "      <th>LastEditorDisplayName</th>\n",
              "      <th>LastEditDate</th>\n",
              "      <th>LastActivityDate</th>\n",
              "      <th>Title</th>\n",
              "      <th>Tags</th>\n",
              "      <th>AnswerCount</th>\n",
              "      <th>CommentCount</th>\n",
              "      <th>FavoriteCount</th>\n",
              "      <th>ClosedDate</th>\n",
              "      <th>CommunityOwnedDate</th>\n",
              "    </tr>\n",
              "  </thead>\n",
              "  <tbody>\n",
              "    <tr>\n",
              "      <th>0</th>\n",
              "      <td>423497</td>\n",
              "      <td>1</td>\n",
              "      <td>423511</td>\n",
              "      <td>0</td>\n",
              "      <td>2019-08-24 09:39:31</td>\n",
              "      <td>2</td>\n",
              "      <td>68</td>\n",
              "      <td>&lt;p&gt;From wikipedia &lt;a href=\"https://en.wikipedi...</td>\n",
              "      <td>64552</td>\n",
              "      <td>None</td>\n",
              "      <td>...</td>\n",
              "      <td>None</td>\n",
              "      <td>None</td>\n",
              "      <td>2019-08-24 11:38:54</td>\n",
              "      <td>When are biased estimators with lower MSE pref...</td>\n",
              "      <td>&lt;bias&gt;&lt;unbiased-estimator&gt;&lt;mse&gt;</td>\n",
              "      <td>1</td>\n",
              "      <td>0</td>\n",
              "      <td>1</td>\n",
              "      <td>2019-08-25 10:25:24</td>\n",
              "      <td>None</td>\n",
              "    </tr>\n",
              "    <tr>\n",
              "      <th>1</th>\n",
              "      <td>423498</td>\n",
              "      <td>1</td>\n",
              "      <td>0</td>\n",
              "      <td>0</td>\n",
              "      <td>2019-08-24 09:47:42</td>\n",
              "      <td>1</td>\n",
              "      <td>24</td>\n",
              "      <td>&lt;p&gt;I am currently doing local sensitivity anal...</td>\n",
              "      <td>87231</td>\n",
              "      <td>None</td>\n",
              "      <td>...</td>\n",
              "      <td>None</td>\n",
              "      <td>2019-09-06 12:52:32</td>\n",
              "      <td>2019-09-06 12:52:32</td>\n",
              "      <td>How to interpret the result from local sensiti...</td>\n",
              "      <td>&lt;sensitivity-analysis&gt;&lt;elasticity&gt;</td>\n",
              "      <td>1</td>\n",
              "      <td>0</td>\n",
              "      <td>0</td>\n",
              "      <td>None</td>\n",
              "      <td>None</td>\n",
              "    </tr>\n",
              "    <tr>\n",
              "      <th>2</th>\n",
              "      <td>423499</td>\n",
              "      <td>1</td>\n",
              "      <td>0</td>\n",
              "      <td>0</td>\n",
              "      <td>2019-08-24 09:48:26</td>\n",
              "      <td>1</td>\n",
              "      <td>56</td>\n",
              "      <td>&lt;p&gt;I'm an honours student in psychology doing ...</td>\n",
              "      <td>257207</td>\n",
              "      <td>None</td>\n",
              "      <td>...</td>\n",
              "      <td>None</td>\n",
              "      <td>None</td>\n",
              "      <td>2019-08-25 08:54:17</td>\n",
              "      <td>Power Analysis in G-Power - Mixed Model Anova</td>\n",
              "      <td>&lt;anova&gt;&lt;gpower&gt;</td>\n",
              "      <td>2</td>\n",
              "      <td>0</td>\n",
              "      <td>0</td>\n",
              "      <td>None</td>\n",
              "      <td>None</td>\n",
              "    </tr>\n",
              "    <tr>\n",
              "      <th>3</th>\n",
              "      <td>423500</td>\n",
              "      <td>2</td>\n",
              "      <td>0</td>\n",
              "      <td>215865</td>\n",
              "      <td>2019-08-24 09:57:01</td>\n",
              "      <td>0</td>\n",
              "      <td>0</td>\n",
              "      <td>&lt;p&gt;Maybe you can look this &lt;a href=\"https://me...</td>\n",
              "      <td>106606</td>\n",
              "      <td>None</td>\n",
              "      <td>...</td>\n",
              "      <td>None</td>\n",
              "      <td>None</td>\n",
              "      <td>2019-08-24 09:57:01</td>\n",
              "      <td>None</td>\n",
              "      <td>None</td>\n",
              "      <td>0</td>\n",
              "      <td>0</td>\n",
              "      <td>0</td>\n",
              "      <td>None</td>\n",
              "      <td>None</td>\n",
              "    </tr>\n",
              "    <tr>\n",
              "      <th>4</th>\n",
              "      <td>423502</td>\n",
              "      <td>2</td>\n",
              "      <td>0</td>\n",
              "      <td>423286</td>\n",
              "      <td>2019-08-24 10:44:52</td>\n",
              "      <td>3</td>\n",
              "      <td>0</td>\n",
              "      <td>&lt;blockquote&gt;\\n  &lt;p&gt;Q1) Is my approach valid?&lt;/...</td>\n",
              "      <td>220643</td>\n",
              "      <td>None</td>\n",
              "      <td>...</td>\n",
              "      <td>None</td>\n",
              "      <td>2019-08-24 12:13:46</td>\n",
              "      <td>2019-08-24 12:13:46</td>\n",
              "      <td>None</td>\n",
              "      <td>None</td>\n",
              "      <td>0</td>\n",
              "      <td>1</td>\n",
              "      <td>0</td>\n",
              "      <td>None</td>\n",
              "      <td>None</td>\n",
              "    </tr>\n",
              "  </tbody>\n",
              "</table>\n",
              "<p>5 rows × 21 columns</p>\n",
              "</div>\n",
              "      <button class=\"colab-df-convert\" onclick=\"convertToInteractive('df-68875315-10b8-4683-b7ab-72da24faf38f')\"\n",
              "              title=\"Convert this dataframe to an interactive table.\"\n",
              "              style=\"display:none;\">\n",
              "\n",
              "  <svg xmlns=\"http://www.w3.org/2000/svg\" height=\"24px\"viewBox=\"0 0 24 24\"\n",
              "       width=\"24px\">\n",
              "    <path d=\"M0 0h24v24H0V0z\" fill=\"none\"/>\n",
              "    <path d=\"M18.56 5.44l.94 2.06.94-2.06 2.06-.94-2.06-.94-.94-2.06-.94 2.06-2.06.94zm-11 1L8.5 8.5l.94-2.06 2.06-.94-2.06-.94L8.5 2.5l-.94 2.06-2.06.94zm10 10l.94 2.06.94-2.06 2.06-.94-2.06-.94-.94-2.06-.94 2.06-2.06.94z\"/><path d=\"M17.41 7.96l-1.37-1.37c-.4-.4-.92-.59-1.43-.59-.52 0-1.04.2-1.43.59L10.3 9.45l-7.72 7.72c-.78.78-.78 2.05 0 2.83L4 21.41c.39.39.9.59 1.41.59.51 0 1.02-.2 1.41-.59l7.78-7.78 2.81-2.81c.8-.78.8-2.07 0-2.86zM5.41 20L4 18.59l7.72-7.72 1.47 1.35L5.41 20z\"/>\n",
              "  </svg>\n",
              "      </button>\n",
              "\n",
              "\n",
              "\n",
              "    <div id=\"df-ca01cb8b-b98d-46ed-b589-f452c333ec0e\">\n",
              "      <button class=\"colab-df-quickchart\" onclick=\"quickchart('df-ca01cb8b-b98d-46ed-b589-f452c333ec0e')\"\n",
              "              title=\"Suggest charts.\"\n",
              "              style=\"display:none;\">\n",
              "\n",
              "<svg xmlns=\"http://www.w3.org/2000/svg\" height=\"24px\"viewBox=\"0 0 24 24\"\n",
              "     width=\"24px\">\n",
              "    <g>\n",
              "        <path d=\"M19 3H5c-1.1 0-2 .9-2 2v14c0 1.1.9 2 2 2h14c1.1 0 2-.9 2-2V5c0-1.1-.9-2-2-2zM9 17H7v-7h2v7zm4 0h-2V7h2v10zm4 0h-2v-4h2v4z\"/>\n",
              "    </g>\n",
              "</svg>\n",
              "      </button>\n",
              "    </div>\n",
              "\n",
              "<style>\n",
              "  .colab-df-quickchart {\n",
              "    background-color: #E8F0FE;\n",
              "    border: none;\n",
              "    border-radius: 50%;\n",
              "    cursor: pointer;\n",
              "    display: none;\n",
              "    fill: #1967D2;\n",
              "    height: 32px;\n",
              "    padding: 0 0 0 0;\n",
              "    width: 32px;\n",
              "  }\n",
              "\n",
              "  .colab-df-quickchart:hover {\n",
              "    background-color: #E2EBFA;\n",
              "    box-shadow: 0px 1px 2px rgba(60, 64, 67, 0.3), 0px 1px 3px 1px rgba(60, 64, 67, 0.15);\n",
              "    fill: #174EA6;\n",
              "  }\n",
              "\n",
              "  [theme=dark] .colab-df-quickchart {\n",
              "    background-color: #3B4455;\n",
              "    fill: #D2E3FC;\n",
              "  }\n",
              "\n",
              "  [theme=dark] .colab-df-quickchart:hover {\n",
              "    background-color: #434B5C;\n",
              "    box-shadow: 0px 1px 3px 1px rgba(0, 0, 0, 0.15);\n",
              "    filter: drop-shadow(0px 1px 2px rgba(0, 0, 0, 0.3));\n",
              "    fill: #FFFFFF;\n",
              "  }\n",
              "</style>\n",
              "\n",
              "    <script>\n",
              "      async function quickchart(key) {\n",
              "        const containerElement = document.querySelector('#' + key);\n",
              "        const charts = await google.colab.kernel.invokeFunction(\n",
              "            'suggestCharts', [key], {});\n",
              "      }\n",
              "    </script>\n",
              "\n",
              "      <script>\n",
              "\n",
              "function displayQuickchartButton(domScope) {\n",
              "  let quickchartButtonEl =\n",
              "    domScope.querySelector('#df-ca01cb8b-b98d-46ed-b589-f452c333ec0e button.colab-df-quickchart');\n",
              "  quickchartButtonEl.style.display =\n",
              "    google.colab.kernel.accessAllowed ? 'block' : 'none';\n",
              "}\n",
              "\n",
              "        displayQuickchartButton(document);\n",
              "      </script>\n",
              "      <style>\n",
              "    .colab-df-container {\n",
              "      display:flex;\n",
              "      flex-wrap:wrap;\n",
              "      gap: 12px;\n",
              "    }\n",
              "\n",
              "    .colab-df-convert {\n",
              "      background-color: #E8F0FE;\n",
              "      border: none;\n",
              "      border-radius: 50%;\n",
              "      cursor: pointer;\n",
              "      display: none;\n",
              "      fill: #1967D2;\n",
              "      height: 32px;\n",
              "      padding: 0 0 0 0;\n",
              "      width: 32px;\n",
              "    }\n",
              "\n",
              "    .colab-df-convert:hover {\n",
              "      background-color: #E2EBFA;\n",
              "      box-shadow: 0px 1px 2px rgba(60, 64, 67, 0.3), 0px 1px 3px 1px rgba(60, 64, 67, 0.15);\n",
              "      fill: #174EA6;\n",
              "    }\n",
              "\n",
              "    [theme=dark] .colab-df-convert {\n",
              "      background-color: #3B4455;\n",
              "      fill: #D2E3FC;\n",
              "    }\n",
              "\n",
              "    [theme=dark] .colab-df-convert:hover {\n",
              "      background-color: #434B5C;\n",
              "      box-shadow: 0px 1px 3px 1px rgba(0, 0, 0, 0.15);\n",
              "      filter: drop-shadow(0px 1px 2px rgba(0, 0, 0, 0.3));\n",
              "      fill: #FFFFFF;\n",
              "    }\n",
              "  </style>\n",
              "\n",
              "      <script>\n",
              "        const buttonEl =\n",
              "          document.querySelector('#df-68875315-10b8-4683-b7ab-72da24faf38f button.colab-df-convert');\n",
              "        buttonEl.style.display =\n",
              "          google.colab.kernel.accessAllowed ? 'block' : 'none';\n",
              "\n",
              "        async function convertToInteractive(key) {\n",
              "          const element = document.querySelector('#df-68875315-10b8-4683-b7ab-72da24faf38f');\n",
              "          const dataTable =\n",
              "            await google.colab.kernel.invokeFunction('convertToInteractive',\n",
              "                                                     [key], {});\n",
              "          if (!dataTable) return;\n",
              "\n",
              "          const docLinkHtml = 'Like what you see? Visit the ' +\n",
              "            '<a target=\"_blank\" href=https://colab.research.google.com/notebooks/data_table.ipynb>data table notebook</a>'\n",
              "            + ' to learn more about interactive tables.';\n",
              "          element.innerHTML = '';\n",
              "          dataTable['output_type'] = 'display_data';\n",
              "          await google.colab.output.renderOutput(dataTable, element);\n",
              "          const docLink = document.createElement('div');\n",
              "          docLink.innerHTML = docLinkHtml;\n",
              "          element.appendChild(docLink);\n",
              "        }\n",
              "      </script>\n",
              "    </div>\n",
              "  </div>\n"
            ]
          },
          "metadata": {},
          "execution_count": 25
        }
      ],
      "source": [
        "posts.head()"
      ]
    },
    {
      "cell_type": "code",
      "execution_count": null,
      "metadata": {
        "id": "7VluSSKWDuY3",
        "colab": {
          "base_uri": "https://localhost:8080/",
          "height": 95
        },
        "outputId": "4dd0d591-4dc4-48bc-da81-b5c44d58169a"
      },
      "outputs": [
        {
          "output_type": "stream",
          "name": "stdout",
          "text": [
            " * sqlite:///chatdata.db\n",
            "Done.\n"
          ]
        },
        {
          "output_type": "execute_result",
          "data": {
            "text/plain": [
              "[(50000,)]"
            ],
            "text/html": [
              "<table>\n",
              "    <tr>\n",
              "        <th>COUNT(*)</th>\n",
              "    </tr>\n",
              "    <tr>\n",
              "        <td>50000</td>\n",
              "    </tr>\n",
              "</table>"
            ]
          },
          "metadata": {},
          "execution_count": 26
        }
      ],
      "source": [
        "%sql SELECT COUNT(*) FROM comments"
      ]
    },
    {
      "cell_type": "code",
      "execution_count": null,
      "metadata": {
        "id": "TwXLJVYjDuY3",
        "colab": {
          "base_uri": "https://localhost:8080/",
          "height": 315
        },
        "outputId": "e49a2a1f-3c8d-422e-ca19-06b66b14e108"
      },
      "outputs": [
        {
          "output_type": "stream",
          "name": "stdout",
          "text": [
            " * sqlite:///chatdata.db\n",
            "Done.\n"
          ]
        },
        {
          "output_type": "execute_result",
          "data": {
            "text/plain": [
              "[(723182, 385124, 0, '@BenBolker I don\\'t understand. The fit cannot be done for the negative $y$. So intuitively I\\'d think that in order to retain the relativity of the  ... (24 characters truncated) ... rror\" or \"flip\" it to the positive axis? Would it be possible to adjust every point individually? Basically e.g. take $abs(y_i)$ instead of minimums.'),\n",
              " (723183, 385124, 3, \"You can't add *less* than (`-min(y)`), but you could add *more*. I'm going to stop answering now sorry, because **judging what the 'best' approach is ... (60 characters truncated) ...  of the analysis, why you need to fit an exponential, your level of computational and statistical sophistication and that of your audience, etc. ...)\"),\n",
              " (723186, 385137, 0, 'nice. If you felt like doing the work it would be nice to generate an image/contour plot of log-likelihood as a function of (mu, theta) and show the lines corresponding to the two `size` values .'),\n",
              " (723187, 385137, 0, 'i.e. `emdbook::curve3d(-sum(dnbinom(y,mu=mu,size=size,log=TRUE)),\\n                 xlim=c(2,5),ylim=c(0.2,0.5),\\n                 varnames=c(\"mu\",\"s ... (57 characters truncated) ... ,col=\"red\")\\nabline(h=fit.what$theta,col=\"blue\")\\n` ... although doesn\\'t look this is actually the answer - mu-hat is independent of theta-hat ... ?'),\n",
              " (723188, 385134, 0, 'Don\\'t you mean \"so variance should be $\\\\sigma^2/(n\\\\mu^2)$\"')]"
            ],
            "text/html": [
              "<table>\n",
              "    <tr>\n",
              "        <th>Id</th>\n",
              "        <th>PostId</th>\n",
              "        <th>Score</th>\n",
              "        <th>Text</th>\n",
              "    </tr>\n",
              "    <tr>\n",
              "        <td>723182</td>\n",
              "        <td>385124</td>\n",
              "        <td>0</td>\n",
              "        <td>@BenBolker I don&#x27;t understand. The fit cannot be done for the negative $y$. So intuitively I&#x27;d think that in order to retain the relativity of the data, one&#x27;d ideally &quot;mirror&quot; or &quot;flip&quot; it to the positive axis? Would it be possible to adjust every point individually? Basically e.g. take $abs(y_i)$ instead of minimums.</td>\n",
              "    </tr>\n",
              "    <tr>\n",
              "        <td>723183</td>\n",
              "        <td>385124</td>\n",
              "        <td>3</td>\n",
              "        <td>You can&#x27;t add *less* than (`-min(y)`), but you could add *more*. I&#x27;m going to stop answering now sorry, because **judging what the &#x27;best&#x27; approach is depends on much more context that we don&#x27;t have** (the goal of the analysis, why you need to fit an exponential, your level of computational and statistical sophistication and that of your audience, etc. ...)</td>\n",
              "    </tr>\n",
              "    <tr>\n",
              "        <td>723186</td>\n",
              "        <td>385137</td>\n",
              "        <td>0</td>\n",
              "        <td>nice. If you felt like doing the work it would be nice to generate an image/contour plot of log-likelihood as a function of (mu, theta) and show the lines corresponding to the two `size` values .</td>\n",
              "    </tr>\n",
              "    <tr>\n",
              "        <td>723187</td>\n",
              "        <td>385137</td>\n",
              "        <td>0</td>\n",
              "        <td>i.e. `emdbook::curve3d(-sum(dnbinom(y,mu=mu,size=size,log=TRUE)),<br>                 xlim=c(2,5),ylim=c(0.2,0.5),<br>                 varnames=c(&quot;mu&quot;,&quot;size&quot;),<br>                 sys3d=&quot;contour&quot;)<br>abline(h=3.2/7,col=&quot;red&quot;)<br>abline(h=fit.what$theta,col=&quot;blue&quot;)<br>` ... although doesn&#x27;t look this is actually the answer - mu-hat is independent of theta-hat ... ?</td>\n",
              "    </tr>\n",
              "    <tr>\n",
              "        <td>723188</td>\n",
              "        <td>385134</td>\n",
              "        <td>0</td>\n",
              "        <td>Don&#x27;t you mean &quot;so variance should be $\\sigma^2/(n\\mu^2)$&quot;</td>\n",
              "    </tr>\n",
              "</table>"
            ]
          },
          "metadata": {},
          "execution_count": 27
        }
      ],
      "source": [
        "%%sql\n",
        "SELECT Id, PostId, Score, Text\n",
        "    FROM comments\n",
        "        LIMIT 5"
      ]
    },
    {
      "cell_type": "code",
      "execution_count": null,
      "metadata": {
        "scrolled": true,
        "id": "GG7MC4YmDuY4",
        "colab": {
          "base_uri": "https://localhost:8080/",
          "height": 204
        },
        "outputId": "6a6c31aa-6bd7-4c38-efd1-1d74db0c241b"
      },
      "outputs": [
        {
          "output_type": "execute_result",
          "data": {
            "text/plain": [
              "       Id  PostId  Score                                               Text\n",
              "0  723182  385124      0  @BenBolker I don't understand. The fit cannot ...\n",
              "1  723183  385124      3  You can't add *less* than (`-min(y)`), but you...\n",
              "2  723186  385137      0  nice. If you felt like doing the work it would...\n",
              "3  723187  385137      0  i.e. `emdbook::curve3d(-sum(dnbinom(y,mu=mu,si...\n",
              "4  723188  385134      0  Don't you mean \"so variance should be $\\sigma^..."
            ],
            "text/html": [
              "\n",
              "\n",
              "  <div id=\"df-7baadd28-11e2-4399-a266-b9036734f4cc\">\n",
              "    <div class=\"colab-df-container\">\n",
              "      <div>\n",
              "<style scoped>\n",
              "    .dataframe tbody tr th:only-of-type {\n",
              "        vertical-align: middle;\n",
              "    }\n",
              "\n",
              "    .dataframe tbody tr th {\n",
              "        vertical-align: top;\n",
              "    }\n",
              "\n",
              "    .dataframe thead th {\n",
              "        text-align: right;\n",
              "    }\n",
              "</style>\n",
              "<table border=\"1\" class=\"dataframe\">\n",
              "  <thead>\n",
              "    <tr style=\"text-align: right;\">\n",
              "      <th></th>\n",
              "      <th>Id</th>\n",
              "      <th>PostId</th>\n",
              "      <th>Score</th>\n",
              "      <th>Text</th>\n",
              "    </tr>\n",
              "  </thead>\n",
              "  <tbody>\n",
              "    <tr>\n",
              "      <th>0</th>\n",
              "      <td>723182</td>\n",
              "      <td>385124</td>\n",
              "      <td>0</td>\n",
              "      <td>@BenBolker I don't understand. The fit cannot ...</td>\n",
              "    </tr>\n",
              "    <tr>\n",
              "      <th>1</th>\n",
              "      <td>723183</td>\n",
              "      <td>385124</td>\n",
              "      <td>3</td>\n",
              "      <td>You can't add *less* than (`-min(y)`), but you...</td>\n",
              "    </tr>\n",
              "    <tr>\n",
              "      <th>2</th>\n",
              "      <td>723186</td>\n",
              "      <td>385137</td>\n",
              "      <td>0</td>\n",
              "      <td>nice. If you felt like doing the work it would...</td>\n",
              "    </tr>\n",
              "    <tr>\n",
              "      <th>3</th>\n",
              "      <td>723187</td>\n",
              "      <td>385137</td>\n",
              "      <td>0</td>\n",
              "      <td>i.e. `emdbook::curve3d(-sum(dnbinom(y,mu=mu,si...</td>\n",
              "    </tr>\n",
              "    <tr>\n",
              "      <th>4</th>\n",
              "      <td>723188</td>\n",
              "      <td>385134</td>\n",
              "      <td>0</td>\n",
              "      <td>Don't you mean \"so variance should be $\\sigma^...</td>\n",
              "    </tr>\n",
              "  </tbody>\n",
              "</table>\n",
              "</div>\n",
              "      <button class=\"colab-df-convert\" onclick=\"convertToInteractive('df-7baadd28-11e2-4399-a266-b9036734f4cc')\"\n",
              "              title=\"Convert this dataframe to an interactive table.\"\n",
              "              style=\"display:none;\">\n",
              "\n",
              "  <svg xmlns=\"http://www.w3.org/2000/svg\" height=\"24px\"viewBox=\"0 0 24 24\"\n",
              "       width=\"24px\">\n",
              "    <path d=\"M0 0h24v24H0V0z\" fill=\"none\"/>\n",
              "    <path d=\"M18.56 5.44l.94 2.06.94-2.06 2.06-.94-2.06-.94-.94-2.06-.94 2.06-2.06.94zm-11 1L8.5 8.5l.94-2.06 2.06-.94-2.06-.94L8.5 2.5l-.94 2.06-2.06.94zm10 10l.94 2.06.94-2.06 2.06-.94-2.06-.94-.94-2.06-.94 2.06-2.06.94z\"/><path d=\"M17.41 7.96l-1.37-1.37c-.4-.4-.92-.59-1.43-.59-.52 0-1.04.2-1.43.59L10.3 9.45l-7.72 7.72c-.78.78-.78 2.05 0 2.83L4 21.41c.39.39.9.59 1.41.59.51 0 1.02-.2 1.41-.59l7.78-7.78 2.81-2.81c.8-.78.8-2.07 0-2.86zM5.41 20L4 18.59l7.72-7.72 1.47 1.35L5.41 20z\"/>\n",
              "  </svg>\n",
              "      </button>\n",
              "\n",
              "\n",
              "\n",
              "    <div id=\"df-a913116b-da4e-4650-880c-e62c1ae048c4\">\n",
              "      <button class=\"colab-df-quickchart\" onclick=\"quickchart('df-a913116b-da4e-4650-880c-e62c1ae048c4')\"\n",
              "              title=\"Suggest charts.\"\n",
              "              style=\"display:none;\">\n",
              "\n",
              "<svg xmlns=\"http://www.w3.org/2000/svg\" height=\"24px\"viewBox=\"0 0 24 24\"\n",
              "     width=\"24px\">\n",
              "    <g>\n",
              "        <path d=\"M19 3H5c-1.1 0-2 .9-2 2v14c0 1.1.9 2 2 2h14c1.1 0 2-.9 2-2V5c0-1.1-.9-2-2-2zM9 17H7v-7h2v7zm4 0h-2V7h2v10zm4 0h-2v-4h2v4z\"/>\n",
              "    </g>\n",
              "</svg>\n",
              "      </button>\n",
              "    </div>\n",
              "\n",
              "<style>\n",
              "  .colab-df-quickchart {\n",
              "    background-color: #E8F0FE;\n",
              "    border: none;\n",
              "    border-radius: 50%;\n",
              "    cursor: pointer;\n",
              "    display: none;\n",
              "    fill: #1967D2;\n",
              "    height: 32px;\n",
              "    padding: 0 0 0 0;\n",
              "    width: 32px;\n",
              "  }\n",
              "\n",
              "  .colab-df-quickchart:hover {\n",
              "    background-color: #E2EBFA;\n",
              "    box-shadow: 0px 1px 2px rgba(60, 64, 67, 0.3), 0px 1px 3px 1px rgba(60, 64, 67, 0.15);\n",
              "    fill: #174EA6;\n",
              "  }\n",
              "\n",
              "  [theme=dark] .colab-df-quickchart {\n",
              "    background-color: #3B4455;\n",
              "    fill: #D2E3FC;\n",
              "  }\n",
              "\n",
              "  [theme=dark] .colab-df-quickchart:hover {\n",
              "    background-color: #434B5C;\n",
              "    box-shadow: 0px 1px 3px 1px rgba(0, 0, 0, 0.15);\n",
              "    filter: drop-shadow(0px 1px 2px rgba(0, 0, 0, 0.3));\n",
              "    fill: #FFFFFF;\n",
              "  }\n",
              "</style>\n",
              "\n",
              "    <script>\n",
              "      async function quickchart(key) {\n",
              "        const containerElement = document.querySelector('#' + key);\n",
              "        const charts = await google.colab.kernel.invokeFunction(\n",
              "            'suggestCharts', [key], {});\n",
              "      }\n",
              "    </script>\n",
              "\n",
              "      <script>\n",
              "\n",
              "function displayQuickchartButton(domScope) {\n",
              "  let quickchartButtonEl =\n",
              "    domScope.querySelector('#df-a913116b-da4e-4650-880c-e62c1ae048c4 button.colab-df-quickchart');\n",
              "  quickchartButtonEl.style.display =\n",
              "    google.colab.kernel.accessAllowed ? 'block' : 'none';\n",
              "}\n",
              "\n",
              "        displayQuickchartButton(document);\n",
              "      </script>\n",
              "      <style>\n",
              "    .colab-df-container {\n",
              "      display:flex;\n",
              "      flex-wrap:wrap;\n",
              "      gap: 12px;\n",
              "    }\n",
              "\n",
              "    .colab-df-convert {\n",
              "      background-color: #E8F0FE;\n",
              "      border: none;\n",
              "      border-radius: 50%;\n",
              "      cursor: pointer;\n",
              "      display: none;\n",
              "      fill: #1967D2;\n",
              "      height: 32px;\n",
              "      padding: 0 0 0 0;\n",
              "      width: 32px;\n",
              "    }\n",
              "\n",
              "    .colab-df-convert:hover {\n",
              "      background-color: #E2EBFA;\n",
              "      box-shadow: 0px 1px 2px rgba(60, 64, 67, 0.3), 0px 1px 3px 1px rgba(60, 64, 67, 0.15);\n",
              "      fill: #174EA6;\n",
              "    }\n",
              "\n",
              "    [theme=dark] .colab-df-convert {\n",
              "      background-color: #3B4455;\n",
              "      fill: #D2E3FC;\n",
              "    }\n",
              "\n",
              "    [theme=dark] .colab-df-convert:hover {\n",
              "      background-color: #434B5C;\n",
              "      box-shadow: 0px 1px 3px 1px rgba(0, 0, 0, 0.15);\n",
              "      filter: drop-shadow(0px 1px 2px rgba(0, 0, 0, 0.3));\n",
              "      fill: #FFFFFF;\n",
              "    }\n",
              "  </style>\n",
              "\n",
              "      <script>\n",
              "        const buttonEl =\n",
              "          document.querySelector('#df-7baadd28-11e2-4399-a266-b9036734f4cc button.colab-df-convert');\n",
              "        buttonEl.style.display =\n",
              "          google.colab.kernel.accessAllowed ? 'block' : 'none';\n",
              "\n",
              "        async function convertToInteractive(key) {\n",
              "          const element = document.querySelector('#df-7baadd28-11e2-4399-a266-b9036734f4cc');\n",
              "          const dataTable =\n",
              "            await google.colab.kernel.invokeFunction('convertToInteractive',\n",
              "                                                     [key], {});\n",
              "          if (!dataTable) return;\n",
              "\n",
              "          const docLinkHtml = 'Like what you see? Visit the ' +\n",
              "            '<a target=\"_blank\" href=https://colab.research.google.com/notebooks/data_table.ipynb>data table notebook</a>'\n",
              "            + ' to learn more about interactive tables.';\n",
              "          element.innerHTML = '';\n",
              "          dataTable['output_type'] = 'display_data';\n",
              "          await google.colab.output.renderOutput(dataTable, element);\n",
              "          const docLink = document.createElement('div');\n",
              "          docLink.innerHTML = docLinkHtml;\n",
              "          element.appendChild(docLink);\n",
              "        }\n",
              "      </script>\n",
              "    </div>\n",
              "  </div>\n"
            ]
          },
          "metadata": {},
          "execution_count": 28
        }
      ],
      "source": [
        "sql = \"\"\"\n",
        "SELECT Id, PostId, Score, Text\n",
        "    FROM comments\n",
        "        LIMIT 5\n",
        "        \"\"\"\n",
        "result = pd.read_sql(sql, con)\n",
        "result"
      ]
    },
    {
      "cell_type": "code",
      "execution_count": null,
      "metadata": {
        "id": "B7ouhyf_DuY5",
        "colab": {
          "base_uri": "https://localhost:8080/",
          "height": 868
        },
        "outputId": "69206e77-f0eb-43f4-8941-4dbd9be2e778"
      },
      "outputs": [
        {
          "output_type": "stream",
          "name": "stdout",
          "text": [
            " * sqlite:///chatdata.db\n",
            "Done.\n"
          ]
        },
        {
          "output_type": "execute_result",
          "data": {
            "text/plain": [
              "[('CREATE TABLE \"comments\" (\\n\"Id\" INTEGER,\\n  \"PostId\" INTEGER,\\n  \"Score\" INTEGER,\\n  \"Text\" TEXT,\\n  \"CreationDate\" TEXT,\\n  \"UserId\" INTEGER\\n)',),\n",
              " ('CREATE TABLE \"users\" (\\n\"Id\" INTEGER,\\n  \"Reputation\" INTEGER,\\n  \"CreationDate\" TEXT,\\n  \"DisplayName\" TEXT,\\n  \"LastAccessDate\" TEXT,\\n  \"WebsiteUr ... (17 characters truncated) ... tion\" TEXT,\\n  \"AboutMe\" TEXT,\\n  \"Views\" INTEGER,\\n  \"UpVotes\" INTEGER,\\n  \"DownVotes\" INTEGER,\\n  \"ProfileImageUrl\" TEXT,\\n  \"AccountId\" INTEGER\\n)',),\n",
              " ('CREATE TABLE \"posts\" (\\n\"Id\" INTEGER,\\n  \"PostTypeId\" INTEGER,\\n  \"AcceptedAnswerId\" INTEGER,\\n  \"ParentId\" INTEGER,\\n  \"CreationDate\" TEXT,\\n  \"Scor ... (240 characters truncated) ...   \"Tags\" TEXT,\\n  \"AnswerCount\" INTEGER,\\n  \"CommentCount\" INTEGER,\\n  \"FavoriteCount\" INTEGER,\\n  \"ClosedDate\" TEXT,\\n  \"CommunityOwnedDate\" TEXT\\n)',)]"
            ],
            "text/html": [
              "<table>\n",
              "    <tr>\n",
              "        <th>sql</th>\n",
              "    </tr>\n",
              "    <tr>\n",
              "        <td>CREATE TABLE &quot;comments&quot; (<br>&quot;Id&quot; INTEGER,<br>  &quot;PostId&quot; INTEGER,<br>  &quot;Score&quot; INTEGER,<br>  &quot;Text&quot; TEXT,<br>  &quot;CreationDate&quot; TEXT,<br>  &quot;UserId&quot; INTEGER<br>)</td>\n",
              "    </tr>\n",
              "    <tr>\n",
              "        <td>CREATE TABLE &quot;users&quot; (<br>&quot;Id&quot; INTEGER,<br>  &quot;Reputation&quot; INTEGER,<br>  &quot;CreationDate&quot; TEXT,<br>  &quot;DisplayName&quot; TEXT,<br>  &quot;LastAccessDate&quot; TEXT,<br>  &quot;WebsiteUrl&quot; TEXT,<br>  &quot;Location&quot; TEXT,<br>  &quot;AboutMe&quot; TEXT,<br>  &quot;Views&quot; INTEGER,<br>  &quot;UpVotes&quot; INTEGER,<br>  &quot;DownVotes&quot; INTEGER,<br>  &quot;ProfileImageUrl&quot; TEXT,<br>  &quot;AccountId&quot; INTEGER<br>)</td>\n",
              "    </tr>\n",
              "    <tr>\n",
              "        <td>CREATE TABLE &quot;posts&quot; (<br>&quot;Id&quot; INTEGER,<br>  &quot;PostTypeId&quot; INTEGER,<br>  &quot;AcceptedAnswerId&quot; INTEGER,<br>  &quot;ParentId&quot; INTEGER,<br>  &quot;CreationDate&quot; TEXT,<br>  &quot;Score&quot; INTEGER,<br>  &quot;ViewCount&quot; INTEGER,<br>  &quot;Body&quot; TEXT,<br>  &quot;OwnerUserId&quot; INTEGER,<br>  &quot;OwnerDisplayName&quot; TEXT,<br>  &quot;LastEditorUserId&quot; INTEGER,<br>  &quot;LastEditorDisplayName&quot; TEXT,<br>  &quot;LastEditDate&quot; TEXT,<br>  &quot;LastActivityDate&quot; TEXT,<br>  &quot;Title&quot; TEXT,<br>  &quot;Tags&quot; TEXT,<br>  &quot;AnswerCount&quot; INTEGER,<br>  &quot;CommentCount&quot; INTEGER,<br>  &quot;FavoriteCount&quot; INTEGER,<br>  &quot;ClosedDate&quot; TEXT,<br>  &quot;CommunityOwnedDate&quot; TEXT<br>)</td>\n",
              "    </tr>\n",
              "</table>"
            ]
          },
          "metadata": {},
          "execution_count": 29
        }
      ],
      "source": [
        "%%sql\n",
        "select sql from sqlite_master"
      ]
    },
    {
      "cell_type": "code",
      "execution_count": null,
      "metadata": {
        "id": "hYJzb7HmDuY6",
        "colab": {
          "base_uri": "https://localhost:8080/"
        },
        "outputId": "b9ef397b-3140-4f89-e20f-39d4b01f48f0"
      },
      "outputs": [
        {
          "output_type": "stream",
          "name": "stdout",
          "text": [
            " * sqlite:///chatdata.db\n",
            "Done.\n",
            "Done.\n",
            "Done.\n"
          ]
        },
        {
          "output_type": "execute_result",
          "data": {
            "text/plain": [
              "[]"
            ]
          },
          "metadata": {},
          "execution_count": 30
        }
      ],
      "source": [
        "%%sql\n",
        "DROP TABLE comments;\n",
        "DROP TABLE users;\n",
        "DROP TABLE posts;"
      ]
    },
    {
      "cell_type": "code",
      "execution_count": null,
      "metadata": {
        "id": "5V6rDnJJDuY7",
        "colab": {
          "base_uri": "https://localhost:8080/",
          "height": 74
        },
        "outputId": "0a2f5e6a-8b41-4811-e831-386a0e00dbb1"
      },
      "outputs": [
        {
          "output_type": "stream",
          "name": "stdout",
          "text": [
            " * sqlite:///chatdata.db\n",
            "Done.\n"
          ]
        },
        {
          "output_type": "execute_result",
          "data": {
            "text/plain": [
              "[]"
            ],
            "text/html": [
              "<table>\n",
              "    <tr>\n",
              "        <th>name</th>\n",
              "    </tr>\n",
              "</table>"
            ]
          },
          "metadata": {},
          "execution_count": 31
        }
      ],
      "source": [
        "%%sql\n",
        "SELECT name FROM sqlite_master WHERE type='table'\n",
        "    ORDER BY name"
      ]
    },
    {
      "cell_type": "code",
      "execution_count": null,
      "metadata": {
        "id": "eZci6DcgDuY7",
        "colab": {
          "base_uri": "https://localhost:8080/"
        },
        "outputId": "0470f420-8479-4208-8d61-b605c907fc6f"
      },
      "outputs": [
        {
          "output_type": "stream",
          "name": "stdout",
          "text": [
            " * sqlite:///chatdata.db\n",
            "Done.\n"
          ]
        },
        {
          "output_type": "execute_result",
          "data": {
            "text/plain": [
              "[]"
            ]
          },
          "metadata": {},
          "execution_count": 32
        }
      ],
      "source": [
        "%%sql\n",
        "PRAGMA foreign_keys=ON;"
      ]
    },
    {
      "cell_type": "code",
      "execution_count": null,
      "metadata": {
        "id": "2Pd_pby1DuY8",
        "colab": {
          "base_uri": "https://localhost:8080/"
        },
        "outputId": "24c75eaf-8423-4c72-e112-47332b5ae35b"
      },
      "outputs": [
        {
          "output_type": "stream",
          "name": "stdout",
          "text": [
            " * sqlite:///chatdata.db\n",
            "Done.\n"
          ]
        },
        {
          "output_type": "execute_result",
          "data": {
            "text/plain": [
              "[]"
            ]
          },
          "metadata": {},
          "execution_count": 33
        }
      ],
      "source": [
        "%%sql\n",
        "CREATE TABLE \"users\" (\n",
        "\"Id\" INTEGER NOT NULL PRIMARY KEY,\n",
        "\"Reputation\" INTEGER,\n",
        "\"CreationDate\" TEXT,\n",
        "\"DisplayName\" TEXT,\n",
        "\"LastAccessDate\" TEXT,\n",
        "\"WebsiteUrl\" TEXT,\n",
        "\"Location\" TEXT,\n",
        "\"AboutMe\" TEXT,\n",
        "\"Views\" INTEGER,\n",
        "\"UpVotes\" INTEGER,\n",
        "\"DownVotes\" INTEGER,\n",
        "\"ProfileImageUrl\" TEXT,\n",
        "\"AccountId\" INTEGER\n",
        ");\n"
      ]
    },
    {
      "cell_type": "code",
      "execution_count": null,
      "metadata": {
        "id": "9jKC7ishDuY8"
      },
      "outputs": [],
      "source": [
        "# Run the CREATE TABLE statement for the posts table, including the primary key constraint\n",
        "\n",
        "%%sql\n",
        "CREATE TABLE \"posts\" (\n",
        "\"Id\" INTEGER NOT NULL PRIMARY KEY,\n",
        "\"PostTypeId\" INTEGER,\n",
        "\"AcceptedAnswerId\" INTEGER,\n",
        "\"ParentId\" INTEGER,\n",
        "\"CreationDate\" TEXT,\n",
        "\"Score\" INTEGER,\n",
        "\"ViewCount\" INTEGER,\n",
        "\"Body\" TEXT,\n",
        "\"OwnerUserId\" INTEGER,\n",
        "\"OwnerDisplayName\" TEXT,\n",
        "\"LastEditorUserId\" INTEGER,\n",
        "\"LastEditorDisplayName\" TEXT,\n",
        "\"LastEditDate\" TEXT,\n",
        "\"LastActivityDate\" TEXT,\n",
        "\"Title\" TEXT,\n",
        "\"Tags\" TEXT,\n",
        "\"AnswerCount\" INTEGER,\n",
        "\"CommentCount\" INTEGER,\n",
        "\"FavoriteCount\" INTEGER,\n",
        "\"ClosedDate\" TEXT,\n",
        "\"CommunityOwnedDate\" TEXT,\n",
        ");"
      ]
    },
    {
      "cell_type": "code",
      "execution_count": null,
      "metadata": {
        "id": "NVY6_LIxDuY9",
        "colab": {
          "base_uri": "https://localhost:8080/"
        },
        "outputId": "2904f991-1ebd-4fe7-cbdc-fec59863e5b9"
      },
      "outputs": [
        {
          "output_type": "stream",
          "name": "stdout",
          "text": [
            " * sqlite:///chatdata.db\n",
            "Done.\n"
          ]
        },
        {
          "output_type": "execute_result",
          "data": {
            "text/plain": [
              "[]"
            ]
          },
          "metadata": {},
          "execution_count": 36
        }
      ],
      "source": [
        "# Run the CREATE TABLE statement for the comments table, including the primary key constraint and the 2 foreign key constraints\n",
        "\n",
        "%%sql\n",
        "CREATE TABLE \"comments\" (\n",
        "\"Id\" INTEGER NOT NULL PRIMARY KEY,\n",
        "\"PostId\" INTEGER,\n",
        "\"Score\" INTEGER,\n",
        "\"Text\" TEXT,\n",
        "\"CreationDate\" TEXT,\n",
        "\"UserId\" INTEGER,\n",
        "FOREIGN KEY(UserId) REFERENCES users(AccountId)\n",
        "FOREIGN KEY(PostID) REFERENCES posts(Id)\n",
        ");"
      ]
    },
    {
      "cell_type": "markdown",
      "metadata": {
        "id": "fYWK1Rc2DuY9"
      },
      "source": [
        "Now we can re-insert the data into these constrained tables.  First users:"
      ]
    },
    {
      "cell_type": "code",
      "execution_count": null,
      "metadata": {
        "id": "t9eJ3fpvDuY-",
        "colab": {
          "base_uri": "https://localhost:8080/"
        },
        "outputId": "d9b0166b-ea23-482f-cdcf-dcf880b09964"
      },
      "outputs": [
        {
          "output_type": "execute_result",
          "data": {
            "text/plain": [
              "18412"
            ]
          },
          "metadata": {},
          "execution_count": 37
        }
      ],
      "source": [
        "# Insert data into the new users table\n",
        "users.to_sql('users', con, if_exists='append', index=False)"
      ]
    },
    {
      "cell_type": "markdown",
      "metadata": {
        "id": "DvTXjQG8DuY-"
      },
      "source": [
        "Now posts:"
      ]
    },
    {
      "cell_type": "code",
      "execution_count": null,
      "metadata": {
        "id": "wQ7mAiB5DuY-",
        "colab": {
          "base_uri": "https://localhost:8080/"
        },
        "outputId": "992becf5-d90d-496c-d8e3-e44278a3c48c"
      },
      "outputs": [
        {
          "output_type": "execute_result",
          "data": {
            "text/plain": [
              "42234"
            ]
          },
          "metadata": {},
          "execution_count": 38
        }
      ],
      "source": [
        "# Insert data into the new posts table\n",
        "\n",
        "posts.to_sql('posts', con, if_exists='append', index=False)"
      ]
    },
    {
      "cell_type": "markdown",
      "metadata": {
        "id": "y0YZzjoGDuY_"
      },
      "source": [
        "Comments, which references the users and posts tables:"
      ]
    },
    {
      "cell_type": "code",
      "execution_count": null,
      "metadata": {
        "id": "gspFqg3ADuY_",
        "colab": {
          "base_uri": "https://localhost:8080/"
        },
        "outputId": "cba8eb28-08e6-47b2-e29a-be48239d9566"
      },
      "outputs": [
        {
          "output_type": "execute_result",
          "data": {
            "text/plain": [
              "50000"
            ]
          },
          "metadata": {},
          "execution_count": 39
        }
      ],
      "source": [
        "# Insert data into the new comments table\n",
        "\n",
        "comments.to_sql('comments', con, if_exists='append', index=False)"
      ]
    },
    {
      "cell_type": "code",
      "execution_count": null,
      "metadata": {
        "id": "yJLcHYBVDuZA",
        "colab": {
          "base_uri": "https://localhost:8080/",
          "height": 137
        },
        "outputId": "ef28b8ca-afd3-4b97-be9c-89c286dce07a"
      },
      "outputs": [
        {
          "output_type": "stream",
          "name": "stdout",
          "text": [
            " * sqlite:///chatdata.db\n",
            "Done.\n"
          ]
        },
        {
          "output_type": "execute_result",
          "data": {
            "text/plain": [
              "[('comments',), ('posts',), ('users',)]"
            ],
            "text/html": [
              "<table>\n",
              "    <tr>\n",
              "        <th>name</th>\n",
              "    </tr>\n",
              "    <tr>\n",
              "        <td>comments</td>\n",
              "    </tr>\n",
              "    <tr>\n",
              "        <td>posts</td>\n",
              "    </tr>\n",
              "    <tr>\n",
              "        <td>users</td>\n",
              "    </tr>\n",
              "</table>"
            ]
          },
          "metadata": {},
          "execution_count": 40
        }
      ],
      "source": [
        "%%sql\n",
        "SELECT name FROM sqlite_master WHERE type='table'\n",
        "    ORDER BY name"
      ]
    },
    {
      "cell_type": "code",
      "execution_count": null,
      "metadata": {
        "id": "q9pjpYkaDuZB",
        "colab": {
          "base_uri": "https://localhost:8080/",
          "height": 204
        },
        "outputId": "24bf8a79-ca5f-439a-ee57-b6225b3371e0"
      },
      "outputs": [
        {
          "output_type": "execute_result",
          "data": {
            "text/plain": [
              "     Id  TotalViews\n",
              "0   919       85180\n",
              "1  4253       35119\n",
              "2   805       34637\n",
              "3  7290       32639\n",
              "4  3277       29255"
            ],
            "text/html": [
              "\n",
              "\n",
              "  <div id=\"df-398224b6-7de1-44b5-a606-a0aebad3e11e\">\n",
              "    <div class=\"colab-df-container\">\n",
              "      <div>\n",
              "<style scoped>\n",
              "    .dataframe tbody tr th:only-of-type {\n",
              "        vertical-align: middle;\n",
              "    }\n",
              "\n",
              "    .dataframe tbody tr th {\n",
              "        vertical-align: top;\n",
              "    }\n",
              "\n",
              "    .dataframe thead th {\n",
              "        text-align: right;\n",
              "    }\n",
              "</style>\n",
              "<table border=\"1\" class=\"dataframe\">\n",
              "  <thead>\n",
              "    <tr style=\"text-align: right;\">\n",
              "      <th></th>\n",
              "      <th>Id</th>\n",
              "      <th>TotalViews</th>\n",
              "    </tr>\n",
              "  </thead>\n",
              "  <tbody>\n",
              "    <tr>\n",
              "      <th>0</th>\n",
              "      <td>919</td>\n",
              "      <td>85180</td>\n",
              "    </tr>\n",
              "    <tr>\n",
              "      <th>1</th>\n",
              "      <td>4253</td>\n",
              "      <td>35119</td>\n",
              "    </tr>\n",
              "    <tr>\n",
              "      <th>2</th>\n",
              "      <td>805</td>\n",
              "      <td>34637</td>\n",
              "    </tr>\n",
              "    <tr>\n",
              "      <th>3</th>\n",
              "      <td>7290</td>\n",
              "      <td>32639</td>\n",
              "    </tr>\n",
              "    <tr>\n",
              "      <th>4</th>\n",
              "      <td>3277</td>\n",
              "      <td>29255</td>\n",
              "    </tr>\n",
              "  </tbody>\n",
              "</table>\n",
              "</div>\n",
              "      <button class=\"colab-df-convert\" onclick=\"convertToInteractive('df-398224b6-7de1-44b5-a606-a0aebad3e11e')\"\n",
              "              title=\"Convert this dataframe to an interactive table.\"\n",
              "              style=\"display:none;\">\n",
              "\n",
              "  <svg xmlns=\"http://www.w3.org/2000/svg\" height=\"24px\"viewBox=\"0 0 24 24\"\n",
              "       width=\"24px\">\n",
              "    <path d=\"M0 0h24v24H0V0z\" fill=\"none\"/>\n",
              "    <path d=\"M18.56 5.44l.94 2.06.94-2.06 2.06-.94-2.06-.94-.94-2.06-.94 2.06-2.06.94zm-11 1L8.5 8.5l.94-2.06 2.06-.94-2.06-.94L8.5 2.5l-.94 2.06-2.06.94zm10 10l.94 2.06.94-2.06 2.06-.94-2.06-.94-.94-2.06-.94 2.06-2.06.94z\"/><path d=\"M17.41 7.96l-1.37-1.37c-.4-.4-.92-.59-1.43-.59-.52 0-1.04.2-1.43.59L10.3 9.45l-7.72 7.72c-.78.78-.78 2.05 0 2.83L4 21.41c.39.39.9.59 1.41.59.51 0 1.02-.2 1.41-.59l7.78-7.78 2.81-2.81c.8-.78.8-2.07 0-2.86zM5.41 20L4 18.59l7.72-7.72 1.47 1.35L5.41 20z\"/>\n",
              "  </svg>\n",
              "      </button>\n",
              "\n",
              "\n",
              "\n",
              "    <div id=\"df-b309b429-fe6e-455f-981c-262b383ae00b\">\n",
              "      <button class=\"colab-df-quickchart\" onclick=\"quickchart('df-b309b429-fe6e-455f-981c-262b383ae00b')\"\n",
              "              title=\"Suggest charts.\"\n",
              "              style=\"display:none;\">\n",
              "\n",
              "<svg xmlns=\"http://www.w3.org/2000/svg\" height=\"24px\"viewBox=\"0 0 24 24\"\n",
              "     width=\"24px\">\n",
              "    <g>\n",
              "        <path d=\"M19 3H5c-1.1 0-2 .9-2 2v14c0 1.1.9 2 2 2h14c1.1 0 2-.9 2-2V5c0-1.1-.9-2-2-2zM9 17H7v-7h2v7zm4 0h-2V7h2v10zm4 0h-2v-4h2v4z\"/>\n",
              "    </g>\n",
              "</svg>\n",
              "      </button>\n",
              "    </div>\n",
              "\n",
              "<style>\n",
              "  .colab-df-quickchart {\n",
              "    background-color: #E8F0FE;\n",
              "    border: none;\n",
              "    border-radius: 50%;\n",
              "    cursor: pointer;\n",
              "    display: none;\n",
              "    fill: #1967D2;\n",
              "    height: 32px;\n",
              "    padding: 0 0 0 0;\n",
              "    width: 32px;\n",
              "  }\n",
              "\n",
              "  .colab-df-quickchart:hover {\n",
              "    background-color: #E2EBFA;\n",
              "    box-shadow: 0px 1px 2px rgba(60, 64, 67, 0.3), 0px 1px 3px 1px rgba(60, 64, 67, 0.15);\n",
              "    fill: #174EA6;\n",
              "  }\n",
              "\n",
              "  [theme=dark] .colab-df-quickchart {\n",
              "    background-color: #3B4455;\n",
              "    fill: #D2E3FC;\n",
              "  }\n",
              "\n",
              "  [theme=dark] .colab-df-quickchart:hover {\n",
              "    background-color: #434B5C;\n",
              "    box-shadow: 0px 1px 3px 1px rgba(0, 0, 0, 0.15);\n",
              "    filter: drop-shadow(0px 1px 2px rgba(0, 0, 0, 0.3));\n",
              "    fill: #FFFFFF;\n",
              "  }\n",
              "</style>\n",
              "\n",
              "    <script>\n",
              "      async function quickchart(key) {\n",
              "        const containerElement = document.querySelector('#' + key);\n",
              "        const charts = await google.colab.kernel.invokeFunction(\n",
              "            'suggestCharts', [key], {});\n",
              "      }\n",
              "    </script>\n",
              "\n",
              "      <script>\n",
              "\n",
              "function displayQuickchartButton(domScope) {\n",
              "  let quickchartButtonEl =\n",
              "    domScope.querySelector('#df-b309b429-fe6e-455f-981c-262b383ae00b button.colab-df-quickchart');\n",
              "  quickchartButtonEl.style.display =\n",
              "    google.colab.kernel.accessAllowed ? 'block' : 'none';\n",
              "}\n",
              "\n",
              "        displayQuickchartButton(document);\n",
              "      </script>\n",
              "      <style>\n",
              "    .colab-df-container {\n",
              "      display:flex;\n",
              "      flex-wrap:wrap;\n",
              "      gap: 12px;\n",
              "    }\n",
              "\n",
              "    .colab-df-convert {\n",
              "      background-color: #E8F0FE;\n",
              "      border: none;\n",
              "      border-radius: 50%;\n",
              "      cursor: pointer;\n",
              "      display: none;\n",
              "      fill: #1967D2;\n",
              "      height: 32px;\n",
              "      padding: 0 0 0 0;\n",
              "      width: 32px;\n",
              "    }\n",
              "\n",
              "    .colab-df-convert:hover {\n",
              "      background-color: #E2EBFA;\n",
              "      box-shadow: 0px 1px 2px rgba(60, 64, 67, 0.3), 0px 1px 3px 1px rgba(60, 64, 67, 0.15);\n",
              "      fill: #174EA6;\n",
              "    }\n",
              "\n",
              "    [theme=dark] .colab-df-convert {\n",
              "      background-color: #3B4455;\n",
              "      fill: #D2E3FC;\n",
              "    }\n",
              "\n",
              "    [theme=dark] .colab-df-convert:hover {\n",
              "      background-color: #434B5C;\n",
              "      box-shadow: 0px 1px 3px 1px rgba(0, 0, 0, 0.15);\n",
              "      filter: drop-shadow(0px 1px 2px rgba(0, 0, 0, 0.3));\n",
              "      fill: #FFFFFF;\n",
              "    }\n",
              "  </style>\n",
              "\n",
              "      <script>\n",
              "        const buttonEl =\n",
              "          document.querySelector('#df-398224b6-7de1-44b5-a606-a0aebad3e11e button.colab-df-convert');\n",
              "        buttonEl.style.display =\n",
              "          google.colab.kernel.accessAllowed ? 'block' : 'none';\n",
              "\n",
              "        async function convertToInteractive(key) {\n",
              "          const element = document.querySelector('#df-398224b6-7de1-44b5-a606-a0aebad3e11e');\n",
              "          const dataTable =\n",
              "            await google.colab.kernel.invokeFunction('convertToInteractive',\n",
              "                                                     [key], {});\n",
              "          if (!dataTable) return;\n",
              "\n",
              "          const docLinkHtml = 'Like what you see? Visit the ' +\n",
              "            '<a target=\"_blank\" href=https://colab.research.google.com/notebooks/data_table.ipynb>data table notebook</a>'\n",
              "            + ' to learn more about interactive tables.';\n",
              "          element.innerHTML = '';\n",
              "          dataTable['output_type'] = 'display_data';\n",
              "          await google.colab.output.renderOutput(dataTable, element);\n",
              "          const docLink = document.createElement('div');\n",
              "          docLink.innerHTML = docLinkHtml;\n",
              "          element.appendChild(docLink);\n",
              "        }\n",
              "      </script>\n",
              "    </div>\n",
              "  </div>\n"
            ]
          },
          "metadata": {},
          "execution_count": 41
        }
      ],
      "source": [
        "sql = \"\"\"\n",
        "SELECT Id, SUM(Views) AS TotalViews\n",
        "    FROM Users\n",
        "        GROUP BY Id\n",
        "            ORDER BY TotalViews DESC\n",
        "                LIMIT 5\n",
        "                \"\"\"\n",
        "result = pd.read_sql(sql, con) # con is the connection to the database\n",
        "result"
      ]
    },
    {
      "cell_type": "code",
      "execution_count": null,
      "metadata": {
        "id": "PhZHzeQEDuZC",
        "colab": {
          "base_uri": "https://localhost:8080/"
        },
        "outputId": "84273946-1e23-4814-ee43-687abe926627"
      },
      "outputs": [
        {
          "output_type": "stream",
          "name": "stderr",
          "text": [
            "<ipython-input-42-7b2c47bab8fa>:1: FutureWarning: The default value of numeric_only in DataFrameGroupBy.sum is deprecated. In a future version, numeric_only will default to False. Either specify numeric_only or select only columns which should be valid for the function.\n",
            "  results = users.groupby(['Id']).sum().sort_values('Views', ascending = False)[:5]\n"
          ]
        },
        {
          "output_type": "execute_result",
          "data": {
            "text/plain": [
              "Id\n",
              "919     85180\n",
              "4253    35119\n",
              "805     34637\n",
              "7290    32639\n",
              "3277    29255\n",
              "Name: Views, dtype: int64"
            ]
          },
          "metadata": {},
          "execution_count": 42
        }
      ],
      "source": [
        "results = users.groupby(['Id']).sum().sort_values('Views', ascending = False)[:5]\n",
        "results['Views']"
      ]
    },
    {
      "cell_type": "code",
      "execution_count": null,
      "metadata": {
        "id": "Jo6QhtMCDuZD",
        "colab": {
          "base_uri": "https://localhost:8080/"
        },
        "outputId": "ad933ea1-cd10-43d0-96e4-e928fb80f268"
      },
      "outputs": [
        {
          "output_type": "execute_result",
          "data": {
            "text/plain": [
              "{'task': ['Single Table Queries'],\n",
              " 'action': ['Which 5 users have viewed the most times and what is the sum of those views per user?'],\n",
              " 'query': ['\\nSELECT Id, SUM(Views) AS TotalViews\\n    FROM Users\\n        GROUP BY Id\\n            ORDER BY TotalViews DESC\\n                LIMIT 5\\n                ']}"
            ]
          },
          "metadata": {},
          "execution_count": 43
        }
      ],
      "source": [
        "query_dict = {\n",
        "              'task': ['Single Table Queries'],\n",
        "              'action': ['Which 5 users have viewed the most times and what is the sum of those views per user?'],\n",
        "              'query': [sql]\n",
        "             }\n",
        "query_dict"
      ]
    },
    {
      "cell_type": "code",
      "execution_count": null,
      "metadata": {
        "id": "J7jO3L5iDuZE",
        "colab": {
          "base_uri": "https://localhost:8080/",
          "height": 80
        },
        "outputId": "cd40f21c-7853-46b9-8b7f-30912933feee"
      },
      "outputs": [
        {
          "output_type": "execute_result",
          "data": {
            "text/plain": [
              "                   task                                             action  \\\n",
              "0  Single Table Queries  Which 5 users have viewed the most times and w...   \n",
              "\n",
              "                                               query  \n",
              "0  \\nSELECT Id, SUM(Views) AS TotalViews\\n    FRO...  "
            ],
            "text/html": [
              "\n",
              "\n",
              "  <div id=\"df-e2b32000-8298-41cb-979d-fcfb30d27a0e\">\n",
              "    <div class=\"colab-df-container\">\n",
              "      <div>\n",
              "<style scoped>\n",
              "    .dataframe tbody tr th:only-of-type {\n",
              "        vertical-align: middle;\n",
              "    }\n",
              "\n",
              "    .dataframe tbody tr th {\n",
              "        vertical-align: top;\n",
              "    }\n",
              "\n",
              "    .dataframe thead th {\n",
              "        text-align: right;\n",
              "    }\n",
              "</style>\n",
              "<table border=\"1\" class=\"dataframe\">\n",
              "  <thead>\n",
              "    <tr style=\"text-align: right;\">\n",
              "      <th></th>\n",
              "      <th>task</th>\n",
              "      <th>action</th>\n",
              "      <th>query</th>\n",
              "    </tr>\n",
              "  </thead>\n",
              "  <tbody>\n",
              "    <tr>\n",
              "      <th>0</th>\n",
              "      <td>Single Table Queries</td>\n",
              "      <td>Which 5 users have viewed the most times and w...</td>\n",
              "      <td>\\nSELECT Id, SUM(Views) AS TotalViews\\n    FRO...</td>\n",
              "    </tr>\n",
              "  </tbody>\n",
              "</table>\n",
              "</div>\n",
              "      <button class=\"colab-df-convert\" onclick=\"convertToInteractive('df-e2b32000-8298-41cb-979d-fcfb30d27a0e')\"\n",
              "              title=\"Convert this dataframe to an interactive table.\"\n",
              "              style=\"display:none;\">\n",
              "\n",
              "  <svg xmlns=\"http://www.w3.org/2000/svg\" height=\"24px\"viewBox=\"0 0 24 24\"\n",
              "       width=\"24px\">\n",
              "    <path d=\"M0 0h24v24H0V0z\" fill=\"none\"/>\n",
              "    <path d=\"M18.56 5.44l.94 2.06.94-2.06 2.06-.94-2.06-.94-.94-2.06-.94 2.06-2.06.94zm-11 1L8.5 8.5l.94-2.06 2.06-.94-2.06-.94L8.5 2.5l-.94 2.06-2.06.94zm10 10l.94 2.06.94-2.06 2.06-.94-2.06-.94-.94-2.06-.94 2.06-2.06.94z\"/><path d=\"M17.41 7.96l-1.37-1.37c-.4-.4-.92-.59-1.43-.59-.52 0-1.04.2-1.43.59L10.3 9.45l-7.72 7.72c-.78.78-.78 2.05 0 2.83L4 21.41c.39.39.9.59 1.41.59.51 0 1.02-.2 1.41-.59l7.78-7.78 2.81-2.81c.8-.78.8-2.07 0-2.86zM5.41 20L4 18.59l7.72-7.72 1.47 1.35L5.41 20z\"/>\n",
              "  </svg>\n",
              "      </button>\n",
              "\n",
              "\n",
              "\n",
              "    <div id=\"df-7ed023c9-52f1-4780-a695-471b6442a8d4\">\n",
              "      <button class=\"colab-df-quickchart\" onclick=\"quickchart('df-7ed023c9-52f1-4780-a695-471b6442a8d4')\"\n",
              "              title=\"Suggest charts.\"\n",
              "              style=\"display:none;\">\n",
              "\n",
              "<svg xmlns=\"http://www.w3.org/2000/svg\" height=\"24px\"viewBox=\"0 0 24 24\"\n",
              "     width=\"24px\">\n",
              "    <g>\n",
              "        <path d=\"M19 3H5c-1.1 0-2 .9-2 2v14c0 1.1.9 2 2 2h14c1.1 0 2-.9 2-2V5c0-1.1-.9-2-2-2zM9 17H7v-7h2v7zm4 0h-2V7h2v10zm4 0h-2v-4h2v4z\"/>\n",
              "    </g>\n",
              "</svg>\n",
              "      </button>\n",
              "    </div>\n",
              "\n",
              "<style>\n",
              "  .colab-df-quickchart {\n",
              "    background-color: #E8F0FE;\n",
              "    border: none;\n",
              "    border-radius: 50%;\n",
              "    cursor: pointer;\n",
              "    display: none;\n",
              "    fill: #1967D2;\n",
              "    height: 32px;\n",
              "    padding: 0 0 0 0;\n",
              "    width: 32px;\n",
              "  }\n",
              "\n",
              "  .colab-df-quickchart:hover {\n",
              "    background-color: #E2EBFA;\n",
              "    box-shadow: 0px 1px 2px rgba(60, 64, 67, 0.3), 0px 1px 3px 1px rgba(60, 64, 67, 0.15);\n",
              "    fill: #174EA6;\n",
              "  }\n",
              "\n",
              "  [theme=dark] .colab-df-quickchart {\n",
              "    background-color: #3B4455;\n",
              "    fill: #D2E3FC;\n",
              "  }\n",
              "\n",
              "  [theme=dark] .colab-df-quickchart:hover {\n",
              "    background-color: #434B5C;\n",
              "    box-shadow: 0px 1px 3px 1px rgba(0, 0, 0, 0.15);\n",
              "    filter: drop-shadow(0px 1px 2px rgba(0, 0, 0, 0.3));\n",
              "    fill: #FFFFFF;\n",
              "  }\n",
              "</style>\n",
              "\n",
              "    <script>\n",
              "      async function quickchart(key) {\n",
              "        const containerElement = document.querySelector('#' + key);\n",
              "        const charts = await google.colab.kernel.invokeFunction(\n",
              "            'suggestCharts', [key], {});\n",
              "      }\n",
              "    </script>\n",
              "\n",
              "      <script>\n",
              "\n",
              "function displayQuickchartButton(domScope) {\n",
              "  let quickchartButtonEl =\n",
              "    domScope.querySelector('#df-7ed023c9-52f1-4780-a695-471b6442a8d4 button.colab-df-quickchart');\n",
              "  quickchartButtonEl.style.display =\n",
              "    google.colab.kernel.accessAllowed ? 'block' : 'none';\n",
              "}\n",
              "\n",
              "        displayQuickchartButton(document);\n",
              "      </script>\n",
              "      <style>\n",
              "    .colab-df-container {\n",
              "      display:flex;\n",
              "      flex-wrap:wrap;\n",
              "      gap: 12px;\n",
              "    }\n",
              "\n",
              "    .colab-df-convert {\n",
              "      background-color: #E8F0FE;\n",
              "      border: none;\n",
              "      border-radius: 50%;\n",
              "      cursor: pointer;\n",
              "      display: none;\n",
              "      fill: #1967D2;\n",
              "      height: 32px;\n",
              "      padding: 0 0 0 0;\n",
              "      width: 32px;\n",
              "    }\n",
              "\n",
              "    .colab-df-convert:hover {\n",
              "      background-color: #E2EBFA;\n",
              "      box-shadow: 0px 1px 2px rgba(60, 64, 67, 0.3), 0px 1px 3px 1px rgba(60, 64, 67, 0.15);\n",
              "      fill: #174EA6;\n",
              "    }\n",
              "\n",
              "    [theme=dark] .colab-df-convert {\n",
              "      background-color: #3B4455;\n",
              "      fill: #D2E3FC;\n",
              "    }\n",
              "\n",
              "    [theme=dark] .colab-df-convert:hover {\n",
              "      background-color: #434B5C;\n",
              "      box-shadow: 0px 1px 3px 1px rgba(0, 0, 0, 0.15);\n",
              "      filter: drop-shadow(0px 1px 2px rgba(0, 0, 0, 0.3));\n",
              "      fill: #FFFFFF;\n",
              "    }\n",
              "  </style>\n",
              "\n",
              "      <script>\n",
              "        const buttonEl =\n",
              "          document.querySelector('#df-e2b32000-8298-41cb-979d-fcfb30d27a0e button.colab-df-convert');\n",
              "        buttonEl.style.display =\n",
              "          google.colab.kernel.accessAllowed ? 'block' : 'none';\n",
              "\n",
              "        async function convertToInteractive(key) {\n",
              "          const element = document.querySelector('#df-e2b32000-8298-41cb-979d-fcfb30d27a0e');\n",
              "          const dataTable =\n",
              "            await google.colab.kernel.invokeFunction('convertToInteractive',\n",
              "                                                     [key], {});\n",
              "          if (!dataTable) return;\n",
              "\n",
              "          const docLinkHtml = 'Like what you see? Visit the ' +\n",
              "            '<a target=\"_blank\" href=https://colab.research.google.com/notebooks/data_table.ipynb>data table notebook</a>'\n",
              "            + ' to learn more about interactive tables.';\n",
              "          element.innerHTML = '';\n",
              "          dataTable['output_type'] = 'display_data';\n",
              "          await google.colab.output.renderOutput(dataTable, element);\n",
              "          const docLink = document.createElement('div');\n",
              "          docLink.innerHTML = docLinkHtml;\n",
              "          element.appendChild(docLink);\n",
              "        }\n",
              "      </script>\n",
              "    </div>\n",
              "  </div>\n"
            ]
          },
          "metadata": {},
          "execution_count": 44
        }
      ],
      "source": [
        "queries = pd.DataFrame(query_dict)\n",
        "queries"
      ]
    },
    {
      "cell_type": "code",
      "execution_count": null,
      "metadata": {
        "id": "T5UJ8AYhDuZF",
        "colab": {
          "base_uri": "https://localhost:8080/",
          "height": 80
        },
        "outputId": "d0248a14-cf09-474a-d955-84553fe57279"
      },
      "outputs": [
        {
          "output_type": "execute_result",
          "data": {
            "text/plain": [
              "                   task                                             action  \\\n",
              "0  Single Table Queries  Which 5 users have viewed the most times and w...   \n",
              "\n",
              "                                               query  \n",
              "0  \\nSELECT Id, SUM(Views) AS TotalViews\\n    FRO...  "
            ],
            "text/html": [
              "\n",
              "\n",
              "  <div id=\"df-eebf6867-3d44-49c7-9eff-267ff5c55320\">\n",
              "    <div class=\"colab-df-container\">\n",
              "      <div>\n",
              "<style scoped>\n",
              "    .dataframe tbody tr th:only-of-type {\n",
              "        vertical-align: middle;\n",
              "    }\n",
              "\n",
              "    .dataframe tbody tr th {\n",
              "        vertical-align: top;\n",
              "    }\n",
              "\n",
              "    .dataframe thead th {\n",
              "        text-align: right;\n",
              "    }\n",
              "</style>\n",
              "<table border=\"1\" class=\"dataframe\">\n",
              "  <thead>\n",
              "    <tr style=\"text-align: right;\">\n",
              "      <th></th>\n",
              "      <th>task</th>\n",
              "      <th>action</th>\n",
              "      <th>query</th>\n",
              "    </tr>\n",
              "  </thead>\n",
              "  <tbody>\n",
              "    <tr>\n",
              "      <th>0</th>\n",
              "      <td>Single Table Queries</td>\n",
              "      <td>Which 5 users have viewed the most times and w...</td>\n",
              "      <td>\\nSELECT Id, SUM(Views) AS TotalViews\\n    FRO...</td>\n",
              "    </tr>\n",
              "  </tbody>\n",
              "</table>\n",
              "</div>\n",
              "      <button class=\"colab-df-convert\" onclick=\"convertToInteractive('df-eebf6867-3d44-49c7-9eff-267ff5c55320')\"\n",
              "              title=\"Convert this dataframe to an interactive table.\"\n",
              "              style=\"display:none;\">\n",
              "\n",
              "  <svg xmlns=\"http://www.w3.org/2000/svg\" height=\"24px\"viewBox=\"0 0 24 24\"\n",
              "       width=\"24px\">\n",
              "    <path d=\"M0 0h24v24H0V0z\" fill=\"none\"/>\n",
              "    <path d=\"M18.56 5.44l.94 2.06.94-2.06 2.06-.94-2.06-.94-.94-2.06-.94 2.06-2.06.94zm-11 1L8.5 8.5l.94-2.06 2.06-.94-2.06-.94L8.5 2.5l-.94 2.06-2.06.94zm10 10l.94 2.06.94-2.06 2.06-.94-2.06-.94-.94-2.06-.94 2.06-2.06.94z\"/><path d=\"M17.41 7.96l-1.37-1.37c-.4-.4-.92-.59-1.43-.59-.52 0-1.04.2-1.43.59L10.3 9.45l-7.72 7.72c-.78.78-.78 2.05 0 2.83L4 21.41c.39.39.9.59 1.41.59.51 0 1.02-.2 1.41-.59l7.78-7.78 2.81-2.81c.8-.78.8-2.07 0-2.86zM5.41 20L4 18.59l7.72-7.72 1.47 1.35L5.41 20z\"/>\n",
              "  </svg>\n",
              "      </button>\n",
              "\n",
              "\n",
              "\n",
              "    <div id=\"df-25910ae8-aade-4f16-8b16-8faf6f8083dc\">\n",
              "      <button class=\"colab-df-quickchart\" onclick=\"quickchart('df-25910ae8-aade-4f16-8b16-8faf6f8083dc')\"\n",
              "              title=\"Suggest charts.\"\n",
              "              style=\"display:none;\">\n",
              "\n",
              "<svg xmlns=\"http://www.w3.org/2000/svg\" height=\"24px\"viewBox=\"0 0 24 24\"\n",
              "     width=\"24px\">\n",
              "    <g>\n",
              "        <path d=\"M19 3H5c-1.1 0-2 .9-2 2v14c0 1.1.9 2 2 2h14c1.1 0 2-.9 2-2V5c0-1.1-.9-2-2-2zM9 17H7v-7h2v7zm4 0h-2V7h2v10zm4 0h-2v-4h2v4z\"/>\n",
              "    </g>\n",
              "</svg>\n",
              "      </button>\n",
              "    </div>\n",
              "\n",
              "<style>\n",
              "  .colab-df-quickchart {\n",
              "    background-color: #E8F0FE;\n",
              "    border: none;\n",
              "    border-radius: 50%;\n",
              "    cursor: pointer;\n",
              "    display: none;\n",
              "    fill: #1967D2;\n",
              "    height: 32px;\n",
              "    padding: 0 0 0 0;\n",
              "    width: 32px;\n",
              "  }\n",
              "\n",
              "  .colab-df-quickchart:hover {\n",
              "    background-color: #E2EBFA;\n",
              "    box-shadow: 0px 1px 2px rgba(60, 64, 67, 0.3), 0px 1px 3px 1px rgba(60, 64, 67, 0.15);\n",
              "    fill: #174EA6;\n",
              "  }\n",
              "\n",
              "  [theme=dark] .colab-df-quickchart {\n",
              "    background-color: #3B4455;\n",
              "    fill: #D2E3FC;\n",
              "  }\n",
              "\n",
              "  [theme=dark] .colab-df-quickchart:hover {\n",
              "    background-color: #434B5C;\n",
              "    box-shadow: 0px 1px 3px 1px rgba(0, 0, 0, 0.15);\n",
              "    filter: drop-shadow(0px 1px 2px rgba(0, 0, 0, 0.3));\n",
              "    fill: #FFFFFF;\n",
              "  }\n",
              "</style>\n",
              "\n",
              "    <script>\n",
              "      async function quickchart(key) {\n",
              "        const containerElement = document.querySelector('#' + key);\n",
              "        const charts = await google.colab.kernel.invokeFunction(\n",
              "            'suggestCharts', [key], {});\n",
              "      }\n",
              "    </script>\n",
              "\n",
              "      <script>\n",
              "\n",
              "function displayQuickchartButton(domScope) {\n",
              "  let quickchartButtonEl =\n",
              "    domScope.querySelector('#df-25910ae8-aade-4f16-8b16-8faf6f8083dc button.colab-df-quickchart');\n",
              "  quickchartButtonEl.style.display =\n",
              "    google.colab.kernel.accessAllowed ? 'block' : 'none';\n",
              "}\n",
              "\n",
              "        displayQuickchartButton(document);\n",
              "      </script>\n",
              "      <style>\n",
              "    .colab-df-container {\n",
              "      display:flex;\n",
              "      flex-wrap:wrap;\n",
              "      gap: 12px;\n",
              "    }\n",
              "\n",
              "    .colab-df-convert {\n",
              "      background-color: #E8F0FE;\n",
              "      border: none;\n",
              "      border-radius: 50%;\n",
              "      cursor: pointer;\n",
              "      display: none;\n",
              "      fill: #1967D2;\n",
              "      height: 32px;\n",
              "      padding: 0 0 0 0;\n",
              "      width: 32px;\n",
              "    }\n",
              "\n",
              "    .colab-df-convert:hover {\n",
              "      background-color: #E2EBFA;\n",
              "      box-shadow: 0px 1px 2px rgba(60, 64, 67, 0.3), 0px 1px 3px 1px rgba(60, 64, 67, 0.15);\n",
              "      fill: #174EA6;\n",
              "    }\n",
              "\n",
              "    [theme=dark] .colab-df-convert {\n",
              "      background-color: #3B4455;\n",
              "      fill: #D2E3FC;\n",
              "    }\n",
              "\n",
              "    [theme=dark] .colab-df-convert:hover {\n",
              "      background-color: #434B5C;\n",
              "      box-shadow: 0px 1px 3px 1px rgba(0, 0, 0, 0.15);\n",
              "      filter: drop-shadow(0px 1px 2px rgba(0, 0, 0, 0.3));\n",
              "      fill: #FFFFFF;\n",
              "    }\n",
              "  </style>\n",
              "\n",
              "      <script>\n",
              "        const buttonEl =\n",
              "          document.querySelector('#df-eebf6867-3d44-49c7-9eff-267ff5c55320 button.colab-df-convert');\n",
              "        buttonEl.style.display =\n",
              "          google.colab.kernel.accessAllowed ? 'block' : 'none';\n",
              "\n",
              "        async function convertToInteractive(key) {\n",
              "          const element = document.querySelector('#df-eebf6867-3d44-49c7-9eff-267ff5c55320');\n",
              "          const dataTable =\n",
              "            await google.colab.kernel.invokeFunction('convertToInteractive',\n",
              "                                                     [key], {});\n",
              "          if (!dataTable) return;\n",
              "\n",
              "          const docLinkHtml = 'Like what you see? Visit the ' +\n",
              "            '<a target=\"_blank\" href=https://colab.research.google.com/notebooks/data_table.ipynb>data table notebook</a>'\n",
              "            + ' to learn more about interactive tables.';\n",
              "          element.innerHTML = '';\n",
              "          dataTable['output_type'] = 'display_data';\n",
              "          await google.colab.output.renderOutput(dataTable, element);\n",
              "          const docLink = document.createElement('div');\n",
              "          docLink.innerHTML = docLinkHtml;\n",
              "          element.appendChild(docLink);\n",
              "        }\n",
              "      </script>\n",
              "    </div>\n",
              "  </div>\n"
            ]
          },
          "metadata": {},
          "execution_count": 45
        }
      ],
      "source": [
        "# load query into sqlite\n",
        "queries.to_sql('queries', con, if_exists='append', index=False)\n",
        "\n",
        "# read back in to prove that it worked\n",
        "sql = 'SELECT * FROM queries'\n",
        "queries = pd.read_sql(sql, con)\n",
        "queries.head()"
      ]
    },
    {
      "cell_type": "code",
      "execution_count": null,
      "metadata": {
        "id": "eC30o3vODuZH"
      },
      "outputs": [],
      "source": [
        "# Define a function that will insert into the queries table\n",
        "def store_query(task, action, query):\n",
        "    query_dict = {\n",
        "                  'task': [task],\n",
        "                  'action': [action],\n",
        "                  'query': [query]\n",
        "                 }\n",
        "\n",
        "    # put query into the query_dict\n",
        "    queries = pd.DataFrame(query_dict)\n",
        "\n",
        "    # load query into sqlite\n",
        "    queries.to_sql('queries', con, if_exists='append', index=False)"
      ]
    },
    {
      "cell_type": "code",
      "execution_count": null,
      "metadata": {
        "id": "ZF6EbAQRDuZH"
      },
      "outputs": [],
      "source": [
        "sql = \"\"\"\n",
        "    CREATE TABLE \"comments\" (\n",
        "    \"Id\" INTEGER,\n",
        "    \"PostId\" INTEGER,\n",
        "    \"Score\" INTEGER,\n",
        "    \"Text\" TEXT,\n",
        "    \"CreationDate\" TEXT,\n",
        "    \"UserId\" INTEGER\n",
        "    )\n",
        "    \"\"\"\n",
        "store_query(\"Task 1\", \"Create table comments\", sql)"
      ]
    },
    {
      "cell_type": "code",
      "execution_count": null,
      "metadata": {
        "id": "38pCZ5g3DuZJ"
      },
      "outputs": [],
      "source": [
        "sql = \"\"\"\n",
        "    CREATE TABLE \"posts\" (\n",
        "   \"Id\" INTEGER NOT NULL PRIMARY KEY,\n",
        "\"PostTypeId\" INTEGER,\n",
        "\"AcceptedAnswerId\" INTEGER,\n",
        "\"ParentId\" INTEGER,\n",
        "\"CreationDate\" TEXT,\n",
        "\"Score\" INTEGER,\n",
        "\"ViewCount\" INTEGER,\n",
        "\"Body\" TEXT,\n",
        "\"OwnerUserId\" INTEGER,\n",
        "\"OwnerDisplayName\" TEXT,\n",
        "\"LastEditorUserId\" INTEGER,\n",
        "\"LastEditorDisplayName\" TEXT,\n",
        "\"LastEditDate\" TEXT,\n",
        "\"LastActivityDate\" TEXT,\n",
        "\"Title\" TEXT,\n",
        "\"Tags\" TEXT,\n",
        "\"AnswerCount\" INTEGER,\n",
        "\"CommentCount\" INTEGER,\n",
        "\"FavoriteCount\" INTEGER,\n",
        "\"ClosedDate\" TEXT,\n",
        "\"CommunityOwnedDate\" TEXT,\n",
        "    )\n",
        "    \"\"\"\n",
        "store_query(\"Task 2\", \"Create table posts\", sql)"
      ]
    },
    {
      "cell_type": "code",
      "execution_count": null,
      "metadata": {
        "id": "oZw9geunDuZJ"
      },
      "outputs": [],
      "source": [
        "sql = \"\"\"\n",
        "    CREATE TABLE \"users\" (\n",
        "   \"Id\" INTEGER NOT NULL PRIMARY KEY,\n",
        "\"Reputation\" INTEGER,\n",
        "\"CreationDate\" TEXT,\n",
        "\"DisplayName\" TEXT,\n",
        "\"LastAccessDate\" TEXT,\n",
        "\"WebsiteUrl\" TEXT,\n",
        "\"Location\" TEXT,\n",
        "\"AboutMe\" TEXT,\n",
        "\"Views\" INTEGER,\n",
        "\"UpVotes\" INTEGER,\n",
        "\"DownVotes\" INTEGER,\n",
        "\"ProfileImageUrl\" TEXT,\n",
        "\"AccountId\" INTEGER,\n",
        "    )\n",
        "    \"\"\"\n",
        "store_query(\"Task 3\", \"Create table users\", sql)"
      ]
    },
    {
      "cell_type": "code",
      "source": [
        "%sql SELECT * FROM queries"
      ],
      "metadata": {
        "colab": {
          "base_uri": "https://localhost:8080/",
          "height": 1000
        },
        "id": "dTMk_73PToZs",
        "outputId": "51b1a99b-60da-4942-837a-e7c7b2a65cd6"
      },
      "execution_count": null,
      "outputs": [
        {
          "output_type": "stream",
          "name": "stdout",
          "text": [
            " * sqlite:///chatdata.db\n",
            "Done.\n"
          ]
        },
        {
          "output_type": "execute_result",
          "data": {
            "text/plain": [
              "[('Single Table Queries', 'Which 5 users have viewed the most times and what is the sum of those views per user?', '\\nSELECT Id, SUM(Views) AS TotalViews\\n    FROM Users\\n        GROUP BY Id\\n            ORDER BY TotalViews DESC\\n                LIMIT 5\\n                '),\n",
              " ('Task 1', 'Create table comments', '\\n    CREATE TABLE \"comments\" (\\n    \"Id\" INTEGER,\\n    \"PostId\" INTEGER,\\n    \"Score\" INTEGER,\\n    \"Text\" TEXT,\\n    \"CreationDate\" TEXT,\\n    \"UserId\" INTEGER\\n    )\\n    '),\n",
              " ('Task 2', 'Create table posts', '\\n    CREATE TABLE \"posts\" (\\n   \"Id\" INTEGER NOT NULL PRIMARY KEY,\\n\"PostTypeId\" INTEGER,\\n\"AcceptedAnswerId\" INTEGER,\\n\"ParentId\" INTEGER,\\n\"Creati ... (241 characters truncated) ... n\"Tags\" TEXT,\\n\"AnswerCount\" INTEGER,\\n\"CommentCount\" INTEGER,\\n\"FavoriteCount\" INTEGER,\\n\"ClosedDate\" TEXT,\\n\"CommunityOwnedDate\" TEXT,\\n    )\\n    '),\n",
              " ('Task 3', 'Create table users', '\\n    CREATE TABLE \"users\" (\\n   \"Id\" INTEGER NOT NULL PRIMARY KEY,\\n\"Reputation\" INTEGER,\\n\"CreationDate\" TEXT,\\n\"DisplayName\" TEXT,\\n\"LastAccessDat ... (34 characters truncated) ... ation\" TEXT,\\n\"AboutMe\" TEXT,\\n\"Views\" INTEGER,\\n\"UpVotes\" INTEGER,\\n\"DownVotes\" INTEGER,\\n\"ProfileImageUrl\" TEXT,\\n\"AccountId\" INTEGER,\\n    )\\n    ')]"
            ],
            "text/html": [
              "<table>\n",
              "    <tr>\n",
              "        <th>task</th>\n",
              "        <th>action</th>\n",
              "        <th>query</th>\n",
              "    </tr>\n",
              "    <tr>\n",
              "        <td>Single Table Queries</td>\n",
              "        <td>Which 5 users have viewed the most times and what is the sum of those views per user?</td>\n",
              "        <td><br>SELECT Id, SUM(Views) AS TotalViews<br>    FROM Users<br>        GROUP BY Id<br>            ORDER BY TotalViews DESC<br>                LIMIT 5<br>                </td>\n",
              "    </tr>\n",
              "    <tr>\n",
              "        <td>Task 1</td>\n",
              "        <td>Create table comments</td>\n",
              "        <td><br>    CREATE TABLE &quot;comments&quot; (<br>    &quot;Id&quot; INTEGER,<br>    &quot;PostId&quot; INTEGER,<br>    &quot;Score&quot; INTEGER,<br>    &quot;Text&quot; TEXT,<br>    &quot;CreationDate&quot; TEXT,<br>    &quot;UserId&quot; INTEGER<br>    )<br>    </td>\n",
              "    </tr>\n",
              "    <tr>\n",
              "        <td>Task 2</td>\n",
              "        <td>Create table posts</td>\n",
              "        <td><br>    CREATE TABLE &quot;posts&quot; (<br>   &quot;Id&quot; INTEGER NOT NULL PRIMARY KEY,<br>&quot;PostTypeId&quot; INTEGER,<br>&quot;AcceptedAnswerId&quot; INTEGER,<br>&quot;ParentId&quot; INTEGER,<br>&quot;CreationDate&quot; TEXT,<br>&quot;Score&quot; INTEGER,<br>&quot;ViewCount&quot; INTEGER,<br>&quot;Body&quot; TEXT,<br>&quot;OwnerUserId&quot; INTEGER,<br>&quot;OwnerDisplayName&quot; TEXT,<br>&quot;LastEditorUserId&quot; INTEGER,<br>&quot;LastEditorDisplayName&quot; TEXT,<br>&quot;LastEditDate&quot; TEXT,<br>&quot;LastActivityDate&quot; TEXT,<br>&quot;Title&quot; TEXT,<br>&quot;Tags&quot; TEXT,<br>&quot;AnswerCount&quot; INTEGER,<br>&quot;CommentCount&quot; INTEGER,<br>&quot;FavoriteCount&quot; INTEGER,<br>&quot;ClosedDate&quot; TEXT,<br>&quot;CommunityOwnedDate&quot; TEXT,<br>    )<br>    </td>\n",
              "    </tr>\n",
              "    <tr>\n",
              "        <td>Task 3</td>\n",
              "        <td>Create table users</td>\n",
              "        <td><br>    CREATE TABLE &quot;users&quot; (<br>   &quot;Id&quot; INTEGER NOT NULL PRIMARY KEY,<br>&quot;Reputation&quot; INTEGER,<br>&quot;CreationDate&quot; TEXT,<br>&quot;DisplayName&quot; TEXT,<br>&quot;LastAccessDate&quot; TEXT,<br>&quot;WebsiteUrl&quot; TEXT,<br>&quot;Location&quot; TEXT,<br>&quot;AboutMe&quot; TEXT,<br>&quot;Views&quot; INTEGER,<br>&quot;UpVotes&quot; INTEGER,<br>&quot;DownVotes&quot; INTEGER,<br>&quot;ProfileImageUrl&quot; TEXT,<br>&quot;AccountId&quot; INTEGER,<br>    )<br>    </td>\n",
              "    </tr>\n",
              "</table>"
            ]
          },
          "metadata": {},
          "execution_count": 51
        }
      ]
    },
    {
      "cell_type": "code",
      "execution_count": null,
      "metadata": {
        "id": "IQIbXFufDuZJ",
        "colab": {
          "base_uri": "https://localhost:8080/",
          "height": 95
        },
        "outputId": "2574d3f6-2c12-4694-c21f-ac0eb1077ed4"
      },
      "outputs": [
        {
          "output_type": "stream",
          "name": "stdout",
          "text": [
            " * sqlite:///chatdata.db\n",
            "Done.\n"
          ]
        },
        {
          "output_type": "execute_result",
          "data": {
            "text/plain": [
              "[(50000,)]"
            ],
            "text/html": [
              "<table>\n",
              "    <tr>\n",
              "        <th>COUNT(*)</th>\n",
              "    </tr>\n",
              "    <tr>\n",
              "        <td>50000</td>\n",
              "    </tr>\n",
              "</table>"
            ]
          },
          "metadata": {},
          "execution_count": 52
        }
      ],
      "source": [
        "# Count the number of rows in the comments table\n",
        "\n",
        "%sql SELECT COUNT(*) FROM comments;"
      ]
    },
    {
      "cell_type": "code",
      "source": [
        "sql = \"\"\"\n",
        "    %sql SELECT COUNT(*) FROM comments;\n",
        "    \"\"\"\n",
        "store_query(\"Task 4\", \"Count the number of rows in the comments table\", sql)"
      ],
      "metadata": {
        "id": "wtpxtDD6Ue1E"
      },
      "execution_count": null,
      "outputs": []
    },
    {
      "cell_type": "code",
      "execution_count": null,
      "metadata": {
        "id": "L9Efa8fXDuZK",
        "colab": {
          "base_uri": "https://localhost:8080/",
          "height": 95
        },
        "outputId": "88fc7f8f-e152-4526-ff1c-379d82c5c168"
      },
      "outputs": [
        {
          "output_type": "stream",
          "name": "stdout",
          "text": [
            " * sqlite:///chatdata.db\n",
            "Done.\n"
          ]
        },
        {
          "output_type": "execute_result",
          "data": {
            "text/plain": [
              "[(18412,)]"
            ],
            "text/html": [
              "<table>\n",
              "    <tr>\n",
              "        <th>COUNT(*)</th>\n",
              "    </tr>\n",
              "    <tr>\n",
              "        <td>18412</td>\n",
              "    </tr>\n",
              "</table>"
            ]
          },
          "metadata": {},
          "execution_count": 54
        }
      ],
      "source": [
        "# Count the number of rows in the users table\n",
        "\n",
        "%sql SELECT COUNT(*) FROM users;"
      ]
    },
    {
      "cell_type": "code",
      "source": [
        "sql = \"\"\"\n",
        "    %sql SELECT COUNT(*) FROM users;\n",
        "    \"\"\"\n",
        "store_query(\"Task 5\", \"Count the number of rows in the users table\", sql)"
      ],
      "metadata": {
        "id": "X927YndmUoFN"
      },
      "execution_count": null,
      "outputs": []
    },
    {
      "cell_type": "code",
      "execution_count": null,
      "metadata": {
        "id": "r_nTk0ZgDuZK",
        "colab": {
          "base_uri": "https://localhost:8080/",
          "height": 95
        },
        "outputId": "96759b24-f970-4b00-85e1-dc557fe7b108"
      },
      "outputs": [
        {
          "output_type": "stream",
          "name": "stdout",
          "text": [
            " * sqlite:///chatdata.db\n",
            "Done.\n"
          ]
        },
        {
          "output_type": "execute_result",
          "data": {
            "text/plain": [
              "[(42234,)]"
            ],
            "text/html": [
              "<table>\n",
              "    <tr>\n",
              "        <th>COUNT(*)</th>\n",
              "    </tr>\n",
              "    <tr>\n",
              "        <td>42234</td>\n",
              "    </tr>\n",
              "</table>"
            ]
          },
          "metadata": {},
          "execution_count": 56
        }
      ],
      "source": [
        "# Count the number of rows in the posts table\n",
        "\n",
        "%sql SELECT COUNT(*) FROM posts;"
      ]
    },
    {
      "cell_type": "code",
      "source": [
        "sql = \"\"\"\n",
        "    %sql SELECT COUNT(*) FROM posts;\n",
        "    \"\"\"\n",
        "store_query(\"Task 6\", \"Count the number of rows in the posts table\", sql)"
      ],
      "metadata": {
        "id": "XjDvK7RjUr3F"
      },
      "execution_count": null,
      "outputs": []
    },
    {
      "cell_type": "code",
      "source": [
        "%sql SELECT * FROM queries"
      ],
      "metadata": {
        "colab": {
          "base_uri": "https://localhost:8080/",
          "height": 1000
        },
        "id": "Mr28YMTRUxfM",
        "outputId": "fcb642d7-f1e3-4192-dd23-ae900f9d25f1"
      },
      "execution_count": null,
      "outputs": [
        {
          "output_type": "stream",
          "name": "stdout",
          "text": [
            " * sqlite:///chatdata.db\n",
            "Done.\n"
          ]
        },
        {
          "output_type": "execute_result",
          "data": {
            "text/plain": [
              "[('Single Table Queries', 'Which 5 users have viewed the most times and what is the sum of those views per user?', '\\nSELECT Id, SUM(Views) AS TotalViews\\n    FROM Users\\n        GROUP BY Id\\n            ORDER BY TotalViews DESC\\n                LIMIT 5\\n                '),\n",
              " ('Task 1', 'Create table comments', '\\n    CREATE TABLE \"comments\" (\\n    \"Id\" INTEGER,\\n    \"PostId\" INTEGER,\\n    \"Score\" INTEGER,\\n    \"Text\" TEXT,\\n    \"CreationDate\" TEXT,\\n    \"UserId\" INTEGER\\n    )\\n    '),\n",
              " ('Task 2', 'Create table posts', '\\n    CREATE TABLE \"posts\" (\\n   \"Id\" INTEGER NOT NULL PRIMARY KEY,\\n\"PostTypeId\" INTEGER,\\n\"AcceptedAnswerId\" INTEGER,\\n\"ParentId\" INTEGER,\\n\"Creati ... (241 characters truncated) ... n\"Tags\" TEXT,\\n\"AnswerCount\" INTEGER,\\n\"CommentCount\" INTEGER,\\n\"FavoriteCount\" INTEGER,\\n\"ClosedDate\" TEXT,\\n\"CommunityOwnedDate\" TEXT,\\n    )\\n    '),\n",
              " ('Task 3', 'Create table users', '\\n    CREATE TABLE \"users\" (\\n   \"Id\" INTEGER NOT NULL PRIMARY KEY,\\n\"Reputation\" INTEGER,\\n\"CreationDate\" TEXT,\\n\"DisplayName\" TEXT,\\n\"LastAccessDat ... (34 characters truncated) ... ation\" TEXT,\\n\"AboutMe\" TEXT,\\n\"Views\" INTEGER,\\n\"UpVotes\" INTEGER,\\n\"DownVotes\" INTEGER,\\n\"ProfileImageUrl\" TEXT,\\n\"AccountId\" INTEGER,\\n    )\\n    '),\n",
              " ('Task 4', 'Count the number of rows in the comments table', '\\n    %sql SELECT COUNT(*) FROM comments;\\n    '),\n",
              " ('Task 5', 'Count the number of rows in the users table', '\\n    %sql SELECT COUNT(*) FROM users;\\n    '),\n",
              " ('Task 6', 'Count the number of rows in the posts table', '\\n    %sql SELECT COUNT(*) FROM posts;\\n    ')]"
            ],
            "text/html": [
              "<table>\n",
              "    <tr>\n",
              "        <th>task</th>\n",
              "        <th>action</th>\n",
              "        <th>query</th>\n",
              "    </tr>\n",
              "    <tr>\n",
              "        <td>Single Table Queries</td>\n",
              "        <td>Which 5 users have viewed the most times and what is the sum of those views per user?</td>\n",
              "        <td><br>SELECT Id, SUM(Views) AS TotalViews<br>    FROM Users<br>        GROUP BY Id<br>            ORDER BY TotalViews DESC<br>                LIMIT 5<br>                </td>\n",
              "    </tr>\n",
              "    <tr>\n",
              "        <td>Task 1</td>\n",
              "        <td>Create table comments</td>\n",
              "        <td><br>    CREATE TABLE &quot;comments&quot; (<br>    &quot;Id&quot; INTEGER,<br>    &quot;PostId&quot; INTEGER,<br>    &quot;Score&quot; INTEGER,<br>    &quot;Text&quot; TEXT,<br>    &quot;CreationDate&quot; TEXT,<br>    &quot;UserId&quot; INTEGER<br>    )<br>    </td>\n",
              "    </tr>\n",
              "    <tr>\n",
              "        <td>Task 2</td>\n",
              "        <td>Create table posts</td>\n",
              "        <td><br>    CREATE TABLE &quot;posts&quot; (<br>   &quot;Id&quot; INTEGER NOT NULL PRIMARY KEY,<br>&quot;PostTypeId&quot; INTEGER,<br>&quot;AcceptedAnswerId&quot; INTEGER,<br>&quot;ParentId&quot; INTEGER,<br>&quot;CreationDate&quot; TEXT,<br>&quot;Score&quot; INTEGER,<br>&quot;ViewCount&quot; INTEGER,<br>&quot;Body&quot; TEXT,<br>&quot;OwnerUserId&quot; INTEGER,<br>&quot;OwnerDisplayName&quot; TEXT,<br>&quot;LastEditorUserId&quot; INTEGER,<br>&quot;LastEditorDisplayName&quot; TEXT,<br>&quot;LastEditDate&quot; TEXT,<br>&quot;LastActivityDate&quot; TEXT,<br>&quot;Title&quot; TEXT,<br>&quot;Tags&quot; TEXT,<br>&quot;AnswerCount&quot; INTEGER,<br>&quot;CommentCount&quot; INTEGER,<br>&quot;FavoriteCount&quot; INTEGER,<br>&quot;ClosedDate&quot; TEXT,<br>&quot;CommunityOwnedDate&quot; TEXT,<br>    )<br>    </td>\n",
              "    </tr>\n",
              "    <tr>\n",
              "        <td>Task 3</td>\n",
              "        <td>Create table users</td>\n",
              "        <td><br>    CREATE TABLE &quot;users&quot; (<br>   &quot;Id&quot; INTEGER NOT NULL PRIMARY KEY,<br>&quot;Reputation&quot; INTEGER,<br>&quot;CreationDate&quot; TEXT,<br>&quot;DisplayName&quot; TEXT,<br>&quot;LastAccessDate&quot; TEXT,<br>&quot;WebsiteUrl&quot; TEXT,<br>&quot;Location&quot; TEXT,<br>&quot;AboutMe&quot; TEXT,<br>&quot;Views&quot; INTEGER,<br>&quot;UpVotes&quot; INTEGER,<br>&quot;DownVotes&quot; INTEGER,<br>&quot;ProfileImageUrl&quot; TEXT,<br>&quot;AccountId&quot; INTEGER,<br>    )<br>    </td>\n",
              "    </tr>\n",
              "    <tr>\n",
              "        <td>Task 4</td>\n",
              "        <td>Count the number of rows in the comments table</td>\n",
              "        <td><br>    %sql SELECT COUNT(*) FROM comments;<br>    </td>\n",
              "    </tr>\n",
              "    <tr>\n",
              "        <td>Task 5</td>\n",
              "        <td>Count the number of rows in the users table</td>\n",
              "        <td><br>    %sql SELECT COUNT(*) FROM users;<br>    </td>\n",
              "    </tr>\n",
              "    <tr>\n",
              "        <td>Task 6</td>\n",
              "        <td>Count the number of rows in the posts table</td>\n",
              "        <td><br>    %sql SELECT COUNT(*) FROM posts;<br>    </td>\n",
              "    </tr>\n",
              "</table>"
            ]
          },
          "metadata": {},
          "execution_count": 58
        }
      ]
    },
    {
      "cell_type": "code",
      "execution_count": null,
      "metadata": {
        "id": "D8lYkcT5DuZL",
        "colab": {
          "base_uri": "https://localhost:8080/",
          "height": 264
        },
        "outputId": "41953b78-444d-4114-99e2-52506d4c6658"
      },
      "outputs": [
        {
          "output_type": "stream",
          "name": "stdout",
          "text": [
            " * sqlite:///chatdata.db\n",
            "Done.\n"
          ]
        },
        {
          "output_type": "execute_result",
          "data": {
            "text/plain": [
              "[(733664, 266389, 1, \"You'll have an AUC below 0.5 whenever the ranking on some set is closer to being *backward* than correct. It's not any different from overfitting in any other context.\", '2019-02-04 16:30:37', 22311),\n",
              " (754682, 403436, 0, 'Also, if you are interested in obtaining regression output of 0 when concentrations are 0, regardless of the value of time, you may need to construct ... (3 characters truncated) ... regression through the origin, i.e., regression without an intercept term.  See this Q&A, for example: https://stats.stackexchange.com/q/11064/241093', '2019-04-16 20:25:38', 241093),\n",
              " (757563, 405249, 1, 'This could use some elaboration.  Perhaps an example would help.  If you would also bring into consideration the idea of *truncation* or *conditioning* (which seems to be the main stumbling block), I think your point would be an excellent answer.', '2019-04-26 15:17:39', 919),\n",
              " (760760, 407096, 1, 'The approach to the chi-squared test sounds like it was not quite correct: see https://stats.stackexchange.com/a/17148/919 for an explanation.  Regardless, the two approaches will rarely yield exactly the same p-values, but they should be close unless your dataset is tiny.', '2019-05-07 17:06:11', 919),\n",
              " (786812, 421663, 2, \"@Nick I imagine it might have something to do with venue size. e.g. if the sales are all for the same venue then you're going to have a hard cut-off at full capacity but there might be a peak just short of that for a variety of reasons.\", '2019-08-12 00:14:27', 805)]"
            ],
            "text/html": [
              "<table>\n",
              "    <tr>\n",
              "        <th>Id</th>\n",
              "        <th>PostId</th>\n",
              "        <th>Score</th>\n",
              "        <th>Text</th>\n",
              "        <th>CreationDate</th>\n",
              "        <th>UserId</th>\n",
              "    </tr>\n",
              "    <tr>\n",
              "        <td>733664</td>\n",
              "        <td>266389</td>\n",
              "        <td>1</td>\n",
              "        <td>You&#x27;ll have an AUC below 0.5 whenever the ranking on some set is closer to being *backward* than correct. It&#x27;s not any different from overfitting in any other context.</td>\n",
              "        <td>2019-02-04 16:30:37</td>\n",
              "        <td>22311</td>\n",
              "    </tr>\n",
              "    <tr>\n",
              "        <td>754682</td>\n",
              "        <td>403436</td>\n",
              "        <td>0</td>\n",
              "        <td>Also, if you are interested in obtaining regression output of 0 when concentrations are 0, regardless of the value of time, you may need to construct a regression through the origin, i.e., regression without an intercept term.  See this Q&amp;A, for example: https://stats.stackexchange.com/q/11064/241093</td>\n",
              "        <td>2019-04-16 20:25:38</td>\n",
              "        <td>241093</td>\n",
              "    </tr>\n",
              "    <tr>\n",
              "        <td>757563</td>\n",
              "        <td>405249</td>\n",
              "        <td>1</td>\n",
              "        <td>This could use some elaboration.  Perhaps an example would help.  If you would also bring into consideration the idea of *truncation* or *conditioning* (which seems to be the main stumbling block), I think your point would be an excellent answer.</td>\n",
              "        <td>2019-04-26 15:17:39</td>\n",
              "        <td>919</td>\n",
              "    </tr>\n",
              "    <tr>\n",
              "        <td>760760</td>\n",
              "        <td>407096</td>\n",
              "        <td>1</td>\n",
              "        <td>The approach to the chi-squared test sounds like it was not quite correct: see https://stats.stackexchange.com/a/17148/919 for an explanation.  Regardless, the two approaches will rarely yield exactly the same p-values, but they should be close unless your dataset is tiny.</td>\n",
              "        <td>2019-05-07 17:06:11</td>\n",
              "        <td>919</td>\n",
              "    </tr>\n",
              "    <tr>\n",
              "        <td>786812</td>\n",
              "        <td>421663</td>\n",
              "        <td>2</td>\n",
              "        <td>@Nick I imagine it might have something to do with venue size. e.g. if the sales are all for the same venue then you&#x27;re going to have a hard cut-off at full capacity but there might be a peak just short of that for a variety of reasons.</td>\n",
              "        <td>2019-08-12 00:14:27</td>\n",
              "        <td>805</td>\n",
              "    </tr>\n",
              "</table>"
            ]
          },
          "metadata": {},
          "execution_count": 60
        }
      ],
      "source": [
        "# Run the query to select 5 random rows from the comments table\n",
        "\n",
        "%sql SELECT * FROM Comments WHERE rowid IN (SELECT rowid FROM Comments ORDER BY RANDOM() LIMIT 5);"
      ]
    },
    {
      "cell_type": "code",
      "execution_count": null,
      "metadata": {
        "id": "EySBH8CIDuZM",
        "colab": {
          "base_uri": "https://localhost:8080/",
          "height": 264
        },
        "outputId": "49de8a62-866a-442c-89e3-062ce94b635c"
      },
      "outputs": [
        {
          "output_type": "stream",
          "name": "stdout",
          "text": [
            " * sqlite:///chatdata.db\n",
            "Done.\n"
          ]
        },
        {
          "output_type": "execute_result",
          "data": {
            "text/plain": [
              "[(242819, 121, '2019-03-29 07:33:31', 'CodelessBugging', '2019-08-11 02:47:49', None, 'Singapore', '<p>Caught between coding and circuits</p>\\n', 0, 0, 0, 'https://www.gravatar.com/avatar/2325576ffe7f43d5c16b58439d1e8702?s=128&d=identicon&r=PG&f=1', 11071698),\n",
              " (244843, 123, '2019-04-15 15:39:35', 'Hugh_Kelley', '2019-10-09 19:57:22', None, 'Washington D.C., DC, USA', None, 0, 0, 0, 'https://i.stack.imgur.com/SwtH8.jpg?s=128&g=1', 3638949),\n",
              " (257722, 1, '2019-08-30 15:57:11', 'Milica', '2019-09-09 13:22:48', None, None, None, 0, 0, 0, None, 16605729),\n",
              " (262024, 21, '2019-10-08 12:59:57', 'Baymax Lim', '2019-11-15 15:57:52', None, None, None, 1, 0, 0, 'https://www.gravatar.com/avatar/e52558635ad340fa8652f59ef3b3f78f?s=128&d=identicon&r=PG&f=1', 14508485),\n",
              " (264969, 1, '2019-11-07 01:14:04', 'LostAndAlone', '2019-11-16 03:49:03', None, None, None, 0, 0, 0, 'https://www.gravatar.com/avatar/58f1174449f3854470e86f5f7b3db86a?s=128&d=identicon&r=PG&f=1', 17049010)]"
            ],
            "text/html": [
              "<table>\n",
              "    <tr>\n",
              "        <th>Id</th>\n",
              "        <th>Reputation</th>\n",
              "        <th>CreationDate</th>\n",
              "        <th>DisplayName</th>\n",
              "        <th>LastAccessDate</th>\n",
              "        <th>WebsiteUrl</th>\n",
              "        <th>Location</th>\n",
              "        <th>AboutMe</th>\n",
              "        <th>Views</th>\n",
              "        <th>UpVotes</th>\n",
              "        <th>DownVotes</th>\n",
              "        <th>ProfileImageUrl</th>\n",
              "        <th>AccountId</th>\n",
              "    </tr>\n",
              "    <tr>\n",
              "        <td>242819</td>\n",
              "        <td>121</td>\n",
              "        <td>2019-03-29 07:33:31</td>\n",
              "        <td>CodelessBugging</td>\n",
              "        <td>2019-08-11 02:47:49</td>\n",
              "        <td>None</td>\n",
              "        <td>Singapore</td>\n",
              "        <td>&lt;p&gt;Caught between coding and circuits&lt;/p&gt;<br></td>\n",
              "        <td>0</td>\n",
              "        <td>0</td>\n",
              "        <td>0</td>\n",
              "        <td>https://www.gravatar.com/avatar/2325576ffe7f43d5c16b58439d1e8702?s=128&amp;d=identicon&amp;r=PG&amp;f=1</td>\n",
              "        <td>11071698</td>\n",
              "    </tr>\n",
              "    <tr>\n",
              "        <td>244843</td>\n",
              "        <td>123</td>\n",
              "        <td>2019-04-15 15:39:35</td>\n",
              "        <td>Hugh_Kelley</td>\n",
              "        <td>2019-10-09 19:57:22</td>\n",
              "        <td>None</td>\n",
              "        <td>Washington D.C., DC, USA</td>\n",
              "        <td>None</td>\n",
              "        <td>0</td>\n",
              "        <td>0</td>\n",
              "        <td>0</td>\n",
              "        <td>https://i.stack.imgur.com/SwtH8.jpg?s=128&amp;g=1</td>\n",
              "        <td>3638949</td>\n",
              "    </tr>\n",
              "    <tr>\n",
              "        <td>257722</td>\n",
              "        <td>1</td>\n",
              "        <td>2019-08-30 15:57:11</td>\n",
              "        <td>Milica</td>\n",
              "        <td>2019-09-09 13:22:48</td>\n",
              "        <td>None</td>\n",
              "        <td>None</td>\n",
              "        <td>None</td>\n",
              "        <td>0</td>\n",
              "        <td>0</td>\n",
              "        <td>0</td>\n",
              "        <td>None</td>\n",
              "        <td>16605729</td>\n",
              "    </tr>\n",
              "    <tr>\n",
              "        <td>262024</td>\n",
              "        <td>21</td>\n",
              "        <td>2019-10-08 12:59:57</td>\n",
              "        <td>Baymax Lim</td>\n",
              "        <td>2019-11-15 15:57:52</td>\n",
              "        <td>None</td>\n",
              "        <td>None</td>\n",
              "        <td>None</td>\n",
              "        <td>1</td>\n",
              "        <td>0</td>\n",
              "        <td>0</td>\n",
              "        <td>https://www.gravatar.com/avatar/e52558635ad340fa8652f59ef3b3f78f?s=128&amp;d=identicon&amp;r=PG&amp;f=1</td>\n",
              "        <td>14508485</td>\n",
              "    </tr>\n",
              "    <tr>\n",
              "        <td>264969</td>\n",
              "        <td>1</td>\n",
              "        <td>2019-11-07 01:14:04</td>\n",
              "        <td>LostAndAlone</td>\n",
              "        <td>2019-11-16 03:49:03</td>\n",
              "        <td>None</td>\n",
              "        <td>None</td>\n",
              "        <td>None</td>\n",
              "        <td>0</td>\n",
              "        <td>0</td>\n",
              "        <td>0</td>\n",
              "        <td>https://www.gravatar.com/avatar/58f1174449f3854470e86f5f7b3db86a?s=128&amp;d=identicon&amp;r=PG&amp;f=1</td>\n",
              "        <td>17049010</td>\n",
              "    </tr>\n",
              "</table>"
            ]
          },
          "metadata": {},
          "execution_count": 61
        }
      ],
      "source": [
        "# Run the query to select 5 random rows from the users table\n",
        "\n",
        "%sql SELECT * FROM Users WHERE rowid IN (SELECT rowid FROM Users ORDER BY RANDOM() LIMIT 5);"
      ]
    },
    {
      "cell_type": "code",
      "source": [
        "sql = \"\"\"\n",
        "    %sql SELECT * FROM Posts WHERE rowid IN (SELECT rowid FROM Posts ORDER BY RANDOM() LIMIT 5);\n",
        "    \"\"\"\n",
        "store_query(\"Task 7\", \"Run the query to select 5 random rows from the posts table\", sql)"
      ],
      "metadata": {
        "id": "iTRA4ahGV7bt"
      },
      "execution_count": null,
      "outputs": []
    },
    {
      "cell_type": "code",
      "source": [
        "sql = \"\"\"\n",
        "    %sql SELECT * FROM Comments WHERE rowid IN (SELECT rowid FROM Comments ORDER BY RANDOM() LIMIT 5);\n",
        "    \"\"\"\n",
        "store_query(\"Task 8\", \"Run the query to select 5 random rows from the comments table\", sql)"
      ],
      "metadata": {
        "id": "gbay-RKWWHNu"
      },
      "execution_count": null,
      "outputs": []
    },
    {
      "cell_type": "code",
      "source": [
        "sql = \"\"\"\n",
        "    %sql SELECT * FROM Users WHERE rowid IN (SELECT rowid FROM Users ORDER BY RANDOM() LIMIT 5);\n",
        "    \"\"\"\n",
        "store_query(\"Task 9\", \"Run the query to select 5 random rows from the users table\", sql)"
      ],
      "metadata": {
        "id": "wLZhFFW3WHuc"
      },
      "execution_count": null,
      "outputs": []
    },
    {
      "cell_type": "code",
      "execution_count": null,
      "metadata": {
        "id": "rnh2DNQgDuZM",
        "colab": {
          "base_uri": "https://localhost:8080/"
        },
        "outputId": "8d7522e2-163f-43d3-f6d8-4edc738e48f6"
      },
      "outputs": [
        {
          "output_type": "stream",
          "name": "stdout",
          "text": [
            " * sqlite:///chatdata.db\n",
            "Done.\n"
          ]
        },
        {
          "output_type": "execute_result",
          "data": {
            "text/plain": [
              "[]"
            ]
          },
          "metadata": {},
          "execution_count": 66
        }
      ],
      "source": [
        "%%sql\n",
        "ALTER TABLE POSTS ADD COLUMN LEN_BODY INT"
      ]
    },
    {
      "cell_type": "code",
      "execution_count": null,
      "metadata": {
        "id": "s4UARbrDDuZN",
        "colab": {
          "base_uri": "https://localhost:8080/"
        },
        "outputId": "c15ad1ce-bbbb-4eae-ec81-4d7ba9b3c8b9"
      },
      "outputs": [
        {
          "output_type": "stream",
          "name": "stdout",
          "text": [
            " * sqlite:///chatdata.db\n",
            "42234 rows affected.\n"
          ]
        },
        {
          "output_type": "execute_result",
          "data": {
            "text/plain": [
              "[]"
            ]
          },
          "metadata": {},
          "execution_count": 67
        }
      ],
      "source": [
        "%%sql\n",
        "UPDATE POSTS SET LEN_BODY = LENGTH(BODY)"
      ]
    },
    {
      "cell_type": "markdown",
      "source": [
        "How many posts have 0 comments?"
      ],
      "metadata": {
        "id": "uHCjgyHMlc54"
      }
    },
    {
      "cell_type": "code",
      "execution_count": null,
      "metadata": {
        "id": "4_tazxSODuZO",
        "colab": {
          "base_uri": "https://localhost:8080/",
          "height": 95
        },
        "outputId": "8e638373-acb5-4c09-963d-9c38386f3ea3"
      },
      "outputs": [
        {
          "output_type": "stream",
          "name": "stdout",
          "text": [
            " * sqlite:///chatdata.db\n",
            "Done.\n"
          ]
        },
        {
          "output_type": "execute_result",
          "data": {
            "text/plain": [
              "[(21713,)]"
            ],
            "text/html": [
              "<table>\n",
              "    <tr>\n",
              "        <th>count_zero_comments</th>\n",
              "    </tr>\n",
              "    <tr>\n",
              "        <td>21713</td>\n",
              "    </tr>\n",
              "</table>"
            ]
          },
          "metadata": {},
          "execution_count": 69
        }
      ],
      "source": [
        "%sql SELECT COUNT(*) AS count_zero_comments FROM posts WHERE CommentCount = 0;"
      ]
    },
    {
      "cell_type": "markdown",
      "source": [
        "How many posts have 1 comments?"
      ],
      "metadata": {
        "id": "2HXwuuKxlmJB"
      }
    },
    {
      "cell_type": "code",
      "execution_count": null,
      "metadata": {
        "id": "ytB9zA_XDuZP",
        "colab": {
          "base_uri": "https://localhost:8080/",
          "height": 95
        },
        "outputId": "8253827b-7d16-4365-ed4e-36aa7da1df70"
      },
      "outputs": [
        {
          "output_type": "stream",
          "name": "stdout",
          "text": [
            " * sqlite:///chatdata.db\n",
            "Done.\n"
          ]
        },
        {
          "output_type": "execute_result",
          "data": {
            "text/plain": [
              "[(6460,)]"
            ],
            "text/html": [
              "<table>\n",
              "    <tr>\n",
              "        <th>count_one_comment</th>\n",
              "    </tr>\n",
              "    <tr>\n",
              "        <td>6460</td>\n",
              "    </tr>\n",
              "</table>"
            ]
          },
          "metadata": {},
          "execution_count": 70
        }
      ],
      "source": [
        "%sql SELECT COUNT(*) AS count_one_comment FROM posts WHERE CommentCount = 1;"
      ]
    },
    {
      "cell_type": "markdown",
      "source": [
        "How many posts have 2 comments or more?"
      ],
      "metadata": {
        "id": "z8rqrIzcln3-"
      }
    },
    {
      "cell_type": "code",
      "execution_count": null,
      "metadata": {
        "id": "htZaIbj8DuZP"
      },
      "outputs": [],
      "source": [
        "%sql SELECT COUNT(*) AS count_posts_with_two_or_more_comments FROM posts WHERE CommentCount >= 2;"
      ]
    },
    {
      "cell_type": "markdown",
      "source": [
        "Find the 5 posts with the highest viewcount"
      ],
      "metadata": {
        "id": "CQDDIRHNlpll"
      }
    },
    {
      "cell_type": "code",
      "execution_count": null,
      "metadata": {
        "id": "d47YPaFaDuZP",
        "colab": {
          "base_uri": "https://localhost:8080/",
          "height": 1000
        },
        "outputId": "908e200d-b255-42b3-d9e4-9f5eeea115bb"
      },
      "outputs": [
        {
          "output_type": "stream",
          "name": "stdout",
          "text": [
            " * sqlite:///chatdata.db\n",
            "Done.\n"
          ]
        },
        {
          "output_type": "execute_result",
          "data": {
            "text/plain": [
              "[(388566, 1, 388582, 0, '2019-01-22 15:16:47', 56, 19542, '<ul>\\n<li>Statement One (S1): \"One in 80 deaths is caused by a car accident.\"</li>\\n<li>Statement Two (S2): \"One in 80 people dies as a result of a c ... (2000 characters truncated) ...  interpretation (their default for S2 is a much stronger assumption), or if they have some innate statistical sense that I\\'m in fact lacking. </p>\\n', 228214, None, 164061, None, '2019-01-22 21:40:39', '2019-01-24 17:09:47', 'Is it wrong to rephrase \"1 in 80 deaths is caused by a car accident\" as \"1 in 80 people die as a result of a car accident?\"', '<interpretation><risk>', 9, 15, 15, None, None, 2270),\n",
              " (394118, 1, 394128, 0, '2019-02-24 14:07:11', 64, 16317, '<p>A human child at age 2 needs around 5 instances of a car to be able to identify it with reasonable accuracy regardless of color, make, etc. When m ... (217 characters truncated) ... >What is it that artificial neural networks are missing that prevent them from being able to learn way quicker? Is transfer learning an answer?</p>\\n', 107213, None, 7291, None, '2019-02-25 22:40:22', '2019-03-03 17:37:05', 'Why do neural networks need so many training examples to perform?', '<neural-networks><neuroscience>', 12, 24, 38, None, None, 512),\n",
              " (431370, 1, 431397, 0, '2019-10-14 11:29:21', 77, 11723, '<p>It seems very counter intuitive to many people that a given diagnostic test with very high accuracy (say 99%) can generate massively more false po ... (520 characters truncated) ... lp me explain it to a lay person.</p>\\n\\n<p>Apologies if this is the wrong forum to ask this. If so please direct me to a more appropriate one.</p>\\n', 262594, None, 11887, None, '2019-11-28 01:44:34', '2019-11-28 01:44:34', 'Is there a name for the phenomenon of false positives counterintuitively outstripping true positives', '<probability><terminology><intuition>', 8, 9, 18, None, None, 811),\n",
              " (398646, 1, 398653, 0, '2019-03-21 01:19:52', 61, 9850, '<p>The title of the Comment in Nature <a href=\"https://www.nature.com/articles/d41586-019-00857-9\" rel=\"noreferrer\">Scientists rise up against statis ... (1880 characters truncated) ... pft.jpg\" rel=\"noreferrer\"><img src=\"https://i.stack.imgur.com/tgpft.jpg\" alt=\"Nature: Scientists rise up against statistical significance\"></a></p>\\n', 163067, None, 163067, None, '2019-03-22 22:14:04', '2019-03-30 19:35:27', 'What does \"Scientists rise up against statistical significance\" mean? (Comment in Nature)', '<statistical-significance><p-value><bias>', 10, 7, 34, None, None, 2148),\n",
              " (434128, 1, 434579, 0, '2019-11-01 13:07:36', 73, 6718, '<p>I am designing a one year program in data analysis with a local community college. The program aims to prepare students to handle basic tasks in d ... (891 characters truncated) ... ur in the area of variable selection and sampling design. I\\'m interested in paradoxes that occur in other areas -- like the analysis as such. </p>\\n', 14188, None, 0, None, None, '2019-11-26 00:59:15', 'Famous statistical wins and horror stories for teaching purposes', '<mathematical-statistics><data-visualization><experiment-design><teaching>', 13, 7, 70, None, '2019-11-01 15:12:41', 1172)]"
            ],
            "text/html": [
              "<table>\n",
              "    <tr>\n",
              "        <th>Id</th>\n",
              "        <th>PostTypeId</th>\n",
              "        <th>AcceptedAnswerId</th>\n",
              "        <th>ParentId</th>\n",
              "        <th>CreationDate</th>\n",
              "        <th>Score</th>\n",
              "        <th>ViewCount</th>\n",
              "        <th>Body</th>\n",
              "        <th>OwnerUserId</th>\n",
              "        <th>OwnerDisplayName</th>\n",
              "        <th>LastEditorUserId</th>\n",
              "        <th>LastEditorDisplayName</th>\n",
              "        <th>LastEditDate</th>\n",
              "        <th>LastActivityDate</th>\n",
              "        <th>Title</th>\n",
              "        <th>Tags</th>\n",
              "        <th>AnswerCount</th>\n",
              "        <th>CommentCount</th>\n",
              "        <th>FavoriteCount</th>\n",
              "        <th>ClosedDate</th>\n",
              "        <th>CommunityOwnedDate</th>\n",
              "        <th>LEN_BODY</th>\n",
              "    </tr>\n",
              "    <tr>\n",
              "        <td>388566</td>\n",
              "        <td>1</td>\n",
              "        <td>388582</td>\n",
              "        <td>0</td>\n",
              "        <td>2019-01-22 15:16:47</td>\n",
              "        <td>56</td>\n",
              "        <td>19542</td>\n",
              "        <td>&lt;ul&gt;<br>&lt;li&gt;Statement One (S1): &quot;One in 80 deaths is caused by a car accident.&quot;&lt;/li&gt;<br>&lt;li&gt;Statement Two (S2): &quot;One in 80 people dies as a result of a car accident.&quot;&lt;/li&gt;<br>&lt;/ul&gt;<br><br>&lt;p&gt;Now, I personally don&#x27;t see very much difference at all between these two statements. When writing, I would consider them interchangeable to a lay audience. However, I&#x27;ve been challenged on this by two people now, and am looking for some additional perspective.&lt;/p&gt;<br><br>&lt;p&gt;My default interpretation of S2 is, &quot;Of 80 people drawn uniformly at random from the population of humans, we would expect one of them to die as a result of a car accident&quot;- and I do consider this qualified statement equivalent to S1. &lt;/p&gt;<br><br>&lt;p&gt;My questions are as follows:&lt;/p&gt;<br><br>&lt;ul&gt;<br>&lt;li&gt;&lt;p&gt;Q1) Is my default interpretation indeed equivalent to Statement One?&lt;/p&gt;&lt;/li&gt;<br>&lt;li&gt;&lt;p&gt;Q2) Is unusual or reckless for this to be my default interpretation?&lt;/p&gt;&lt;/li&gt;<br>&lt;li&gt;&lt;p&gt;Q3) If you do think S1 and S2 different, such that to state the second when one means the first is misleading/incorrect, could you please provide a fully-qualified revision of S2 that is equivalent?&lt;/p&gt;&lt;/li&gt;<br>&lt;/ul&gt;<br><br>&lt;p&gt;Let&#x27;s put aside the obvious quibble that S1 does not specifically refer to human deaths and assume that that is understood in context. Let us also put aside any discussion of the veracity of the claim itself: it is meant to be illustrative.&lt;/p&gt;<br><br>&lt;p&gt;As best I can tell, the disagreements I&#x27;ve heard so far seem to center around defaulting to different interpretations of the first and second statement.&lt;/p&gt;<br><br>&lt;p&gt;For the first, my challengers seem to interpret it as as 1/80 * num_deaths = number of deaths caused by car accidents, but for some reason, default to a different interpretation of the second along the lines of, &quot;if you have any set of 80 people, one of them &lt;em&gt;will&lt;/em&gt; die in a car accident&quot; (which is obviously not an equivalent claim). I would think that given their interpretation of S1, their default for S2 would be to read it as (1/80 * num_dead_people = number of people who died in a car accident == number of deaths caused by car accident). I&#x27;m not sure why the discrepancy in interpretation (their default for S2 is a much stronger assumption), or if they have some innate statistical sense that I&#x27;m in fact lacking. &lt;/p&gt;<br></td>\n",
              "        <td>228214</td>\n",
              "        <td>None</td>\n",
              "        <td>164061</td>\n",
              "        <td>None</td>\n",
              "        <td>2019-01-22 21:40:39</td>\n",
              "        <td>2019-01-24 17:09:47</td>\n",
              "        <td>Is it wrong to rephrase &quot;1 in 80 deaths is caused by a car accident&quot; as &quot;1 in 80 people die as a result of a car accident?&quot;</td>\n",
              "        <td>&lt;interpretation&gt;&lt;risk&gt;</td>\n",
              "        <td>9</td>\n",
              "        <td>15</td>\n",
              "        <td>15</td>\n",
              "        <td>None</td>\n",
              "        <td>None</td>\n",
              "        <td>2270</td>\n",
              "    </tr>\n",
              "    <tr>\n",
              "        <td>394118</td>\n",
              "        <td>1</td>\n",
              "        <td>394128</td>\n",
              "        <td>0</td>\n",
              "        <td>2019-02-24 14:07:11</td>\n",
              "        <td>64</td>\n",
              "        <td>16317</td>\n",
              "        <td>&lt;p&gt;A human child at age 2 needs around 5 instances of a car to be able to identify it with reasonable accuracy regardless of color, make, etc. When my son was 2, he was able to identify trams and trains, even though he had seen just a few. Since he was usually confusing one with each other, apparently his neural network was not trained enough, but still.&lt;/p&gt;<br><br>&lt;p&gt;What is it that artificial neural networks are missing that prevent them from being able to learn way quicker? Is transfer learning an answer?&lt;/p&gt;<br></td>\n",
              "        <td>107213</td>\n",
              "        <td>None</td>\n",
              "        <td>7291</td>\n",
              "        <td>None</td>\n",
              "        <td>2019-02-25 22:40:22</td>\n",
              "        <td>2019-03-03 17:37:05</td>\n",
              "        <td>Why do neural networks need so many training examples to perform?</td>\n",
              "        <td>&lt;neural-networks&gt;&lt;neuroscience&gt;</td>\n",
              "        <td>12</td>\n",
              "        <td>24</td>\n",
              "        <td>38</td>\n",
              "        <td>None</td>\n",
              "        <td>None</td>\n",
              "        <td>512</td>\n",
              "    </tr>\n",
              "    <tr>\n",
              "        <td>431370</td>\n",
              "        <td>1</td>\n",
              "        <td>431397</td>\n",
              "        <td>0</td>\n",
              "        <td>2019-10-14 11:29:21</td>\n",
              "        <td>77</td>\n",
              "        <td>11723</td>\n",
              "        <td>&lt;p&gt;It seems very counter intuitive to many people that a given diagnostic test with very high accuracy (say 99%) can generate massively more false positives than true positives in some situations, namely where the population of true positives is very small compared to whole population.&lt;/p&gt;<br><br>&lt;p&gt;I see people making this mistake often e.g. when arguing for wider public health screenings, or wider anti-crime surveillance measures etc but I am at a loss for how to succinctly describe the mistake people are making.&lt;/p&gt;<br><br>&lt;p&gt;Does this phenomenon / statistical fallacy have a name? Failing that has anyone got a good, terse, jargon free intuition/example that would help me explain it to a lay person.&lt;/p&gt;<br><br>&lt;p&gt;Apologies if this is the wrong forum to ask this. If so please direct me to a more appropriate one.&lt;/p&gt;<br></td>\n",
              "        <td>262594</td>\n",
              "        <td>None</td>\n",
              "        <td>11887</td>\n",
              "        <td>None</td>\n",
              "        <td>2019-11-28 01:44:34</td>\n",
              "        <td>2019-11-28 01:44:34</td>\n",
              "        <td>Is there a name for the phenomenon of false positives counterintuitively outstripping true positives</td>\n",
              "        <td>&lt;probability&gt;&lt;terminology&gt;&lt;intuition&gt;</td>\n",
              "        <td>8</td>\n",
              "        <td>9</td>\n",
              "        <td>18</td>\n",
              "        <td>None</td>\n",
              "        <td>None</td>\n",
              "        <td>811</td>\n",
              "    </tr>\n",
              "    <tr>\n",
              "        <td>398646</td>\n",
              "        <td>1</td>\n",
              "        <td>398653</td>\n",
              "        <td>0</td>\n",
              "        <td>2019-03-21 01:19:52</td>\n",
              "        <td>61</td>\n",
              "        <td>9850</td>\n",
              "        <td>&lt;p&gt;The title of the Comment in Nature &lt;a href=&quot;https://www.nature.com/articles/d41586-019-00857-9&quot; rel=&quot;noreferrer&quot;&gt;Scientists rise up against statistical significance&lt;/a&gt; begins with:&lt;/p&gt;<br><br>&lt;blockquote&gt;<br>  &lt;p&gt;Valentin Amrhein, Sander Greenland, Blake McShane and more than 800 signatories call for an end to hyped claims and the dismissal of possibly crucial effects.&lt;/p&gt;<br>&lt;/blockquote&gt;<br><br>&lt;p&gt;and later contains statements like:&lt;/p&gt;<br><br>&lt;blockquote&gt;<br>  &lt;p&gt;Again, we are not advocating a ban on P values, confidence intervals or other statistical measures — only that we should not treat them categorically. This includes dichotomization as statistically significant or not, as well as categorization based on other statistical measures such as Bayes factors.&lt;/p&gt;<br>&lt;/blockquote&gt;<br><br>&lt;p&gt;I think I can grasp that the image below does not say that the two studies disagree because one &quot;rules out&quot; no effect while the other does not. But the article seems to go into much more depth than I can understand. &lt;/p&gt;<br><br>&lt;p&gt;Towards the end there seems to be a summary in four points. Is it possible to summarize these in even simpler terms for those of us who &lt;em&gt;read statistics&lt;/em&gt; rather than write it?&lt;/p&gt;<br><br>&lt;blockquote&gt;<br>  &lt;p&gt;When talking about compatibility intervals, bear in mind four things. &lt;/p&gt;<br>  <br>  &lt;ul&gt;<br>  &lt;li&gt;&lt;p&gt;First, just because the interval gives the values most compatible with the data, given the assumptions, it doesn’t mean values outside it are incompatible; they are just less compatible...&lt;/p&gt;&lt;/li&gt;<br>  &lt;li&gt;&lt;p&gt;Second, not all values inside are equally compatible with the data, given the assumptions...&lt;/p&gt;&lt;/li&gt;<br>  &lt;li&gt;&lt;p&gt;Third, like the 0.05 threshold from which it came, the default 95% used to compute intervals is itself an arbitrary convention...&lt;/p&gt;&lt;/li&gt;<br>  &lt;li&gt;&lt;p&gt;Last, and most important of all, be humble: compatibility assessments hinge on the correctness of the statistical assumptions used to compute the interval...&lt;/p&gt;&lt;/li&gt;<br>  &lt;/ul&gt;<br>&lt;/blockquote&gt;<br><br>&lt;hr&gt;<br><br>&lt;p&gt;&lt;a href=&quot;https://i.stack.imgur.com/tgpft.jpg&quot; rel=&quot;noreferrer&quot;&gt;&lt;img src=&quot;https://i.stack.imgur.com/tgpft.jpg&quot; alt=&quot;Nature: Scientists rise up against statistical significance&quot;&gt;&lt;/a&gt;&lt;/p&gt;<br></td>\n",
              "        <td>163067</td>\n",
              "        <td>None</td>\n",
              "        <td>163067</td>\n",
              "        <td>None</td>\n",
              "        <td>2019-03-22 22:14:04</td>\n",
              "        <td>2019-03-30 19:35:27</td>\n",
              "        <td>What does &quot;Scientists rise up against statistical significance&quot; mean? (Comment in Nature)</td>\n",
              "        <td>&lt;statistical-significance&gt;&lt;p-value&gt;&lt;bias&gt;</td>\n",
              "        <td>10</td>\n",
              "        <td>7</td>\n",
              "        <td>34</td>\n",
              "        <td>None</td>\n",
              "        <td>None</td>\n",
              "        <td>2148</td>\n",
              "    </tr>\n",
              "    <tr>\n",
              "        <td>434128</td>\n",
              "        <td>1</td>\n",
              "        <td>434579</td>\n",
              "        <td>0</td>\n",
              "        <td>2019-11-01 13:07:36</td>\n",
              "        <td>73</td>\n",
              "        <td>6718</td>\n",
              "        <td>&lt;p&gt;I am designing a one year program in data analysis with a local community college. The program aims to prepare students to handle basic tasks in data analysis, visualization and summarization, advanced Excel skills and R programming. &lt;/p&gt;<br><br>&lt;p&gt;I would like to prepare a set of short, real world examples that illustrate where ordinary intuition fails and statistical analysis is necessary. I&#x27;m also interested in &quot;famous statistical fails&quot;, but more interested in the wins. The data involved should be freely available.&lt;/p&gt;<br><br>&lt;p&gt;A perfect example of what I&#x27;m looking for is the Berkeley discrimination case, which illustrates Simpson&#x27;s paradox. The data for that is memorialized in R&#x27;s datasets. &lt;/p&gt;<br><br>&lt;p&gt;Historical cases are also interesting. John Snow&#x27;s analysis of the Broad Street pump data is a good example of the power of visualization.&lt;/p&gt;<br><br>&lt;p&gt;There are a lot of fails in the collection of data (selection bias), etc. and the literature in medical statistics is full of them. &lt;/p&gt;<br><br>&lt;p&gt;A lot of &quot;statistical wins&quot; occur in the area of variable selection and sampling design. I&#x27;m interested in paradoxes that occur in other areas -- like the analysis as such. &lt;/p&gt;<br></td>\n",
              "        <td>14188</td>\n",
              "        <td>None</td>\n",
              "        <td>0</td>\n",
              "        <td>None</td>\n",
              "        <td>None</td>\n",
              "        <td>2019-11-26 00:59:15</td>\n",
              "        <td>Famous statistical wins and horror stories for teaching purposes</td>\n",
              "        <td>&lt;mathematical-statistics&gt;&lt;data-visualization&gt;&lt;experiment-design&gt;&lt;teaching&gt;</td>\n",
              "        <td>13</td>\n",
              "        <td>7</td>\n",
              "        <td>70</td>\n",
              "        <td>None</td>\n",
              "        <td>2019-11-01 15:12:41</td>\n",
              "        <td>1172</td>\n",
              "    </tr>\n",
              "</table>"
            ]
          },
          "metadata": {},
          "execution_count": 72
        }
      ],
      "source": [
        "%sql SELECT * FROM posts ORDER BY ViewCount DESC LIMIT 5;"
      ]
    },
    {
      "cell_type": "markdown",
      "source": [
        "Find the top 5 posts with the highest scores"
      ],
      "metadata": {
        "id": "XPGFkwWdlrxZ"
      }
    },
    {
      "cell_type": "code",
      "source": [
        "%sql SELECT * FROM posts ORDER BY Score DESC LIMIT 5;"
      ],
      "metadata": {
        "colab": {
          "base_uri": "https://localhost:8080/",
          "height": 1000
        },
        "id": "5bJh-r-mo7oG",
        "outputId": "5c387747-e7f7-425f-eefa-2863ce9074d9"
      },
      "execution_count": null,
      "outputs": [
        {
          "output_type": "stream",
          "name": "stdout",
          "text": [
            " * sqlite:///chatdata.db\n",
            "Done.\n"
          ]
        },
        {
          "output_type": "execute_result",
          "data": {
            "text/plain": [
              "[(431397, 2, 0, 431370, '2019-10-14 14:29:36', 101, 0, '<p>Yes there is. Generally it is termed <strong>base rate fallacy</strong> or more specific <strong>false positive paradox</strong>. There is even a wikipedia article about it: <a href=\"https://en.wikipedia.org/wiki/Base_rate_fallacy\" rel=\"noreferrer\">see here</a></p>\\n', 142976, None, 0, None, None, '2019-10-14 14:29:36', None, None, 0, 0, 0, None, None, 269),\n",
              " (394128, 2, 0, 394118, '2019-02-24 15:44:44', 100, 0, '<p>I caution against expecting strong resemblance between biological and artificial neural networks. I think the name \"neural networks\" is a bit dang ... (5584 characters truncated) ... l volume, diversity and resolution of the training data.</p>\\n\\n<p>*We don\\'t presently have a tags for one-shot learning or few-shot learning.</p>\\n', 22311, None, 22311, None, '2019-03-03 17:37:05', '2019-03-03 17:37:05', None, None, 0, 15, 0, None, None, 5829),\n",
              " (426878, 2, 0, 426873, '2019-09-11 23:23:31', 93, 0, '<p><strong>tl;dr</strong> Even though this is an image classification dataset, it remains a <strong>very easy</strong> task, for which one can easily ... (4424 characters truncated) ... and out more\\n    frame1 = plt.gca()\\n    frame1.axes.get_xaxis().set_visible(False)\\n    frame1.axes.get_yaxis().set_visible(False)\\n</code></pre>\\n', 119015, None, 119015, None, '2019-09-13 14:02:28', '2019-09-13 14:02:28', None, None, 0, 6, 0, None, None, 4627),\n",
              " (388578, 2, 0, 388566, '2019-01-22 15:48:47', 80, 0, '<p>To me \"1 in 80 deaths...\" is by far the clearer statement.  The denominator in your \"1 in 80\" is the set of all death events and that statement ma ... (282 characters truncated) ... rence set in probability or frequency assertions like this. If you\\'re talking about the proportion of deaths, then say \"deaths\" not \"people\". </p>\\n', 227039, None, 0, None, None, '2019-01-22 15:48:47', None, None, 0, 11, 0, None, None, 572),\n",
              " (431370, 1, 431397, 0, '2019-10-14 11:29:21', 77, 11723, '<p>It seems very counter intuitive to many people that a given diagnostic test with very high accuracy (say 99%) can generate massively more false po ... (520 characters truncated) ... lp me explain it to a lay person.</p>\\n\\n<p>Apologies if this is the wrong forum to ask this. If so please direct me to a more appropriate one.</p>\\n', 262594, None, 11887, None, '2019-11-28 01:44:34', '2019-11-28 01:44:34', 'Is there a name for the phenomenon of false positives counterintuitively outstripping true positives', '<probability><terminology><intuition>', 8, 9, 18, None, None, 811)]"
            ],
            "text/html": [
              "<table>\n",
              "    <tr>\n",
              "        <th>Id</th>\n",
              "        <th>PostTypeId</th>\n",
              "        <th>AcceptedAnswerId</th>\n",
              "        <th>ParentId</th>\n",
              "        <th>CreationDate</th>\n",
              "        <th>Score</th>\n",
              "        <th>ViewCount</th>\n",
              "        <th>Body</th>\n",
              "        <th>OwnerUserId</th>\n",
              "        <th>OwnerDisplayName</th>\n",
              "        <th>LastEditorUserId</th>\n",
              "        <th>LastEditorDisplayName</th>\n",
              "        <th>LastEditDate</th>\n",
              "        <th>LastActivityDate</th>\n",
              "        <th>Title</th>\n",
              "        <th>Tags</th>\n",
              "        <th>AnswerCount</th>\n",
              "        <th>CommentCount</th>\n",
              "        <th>FavoriteCount</th>\n",
              "        <th>ClosedDate</th>\n",
              "        <th>CommunityOwnedDate</th>\n",
              "        <th>LEN_BODY</th>\n",
              "    </tr>\n",
              "    <tr>\n",
              "        <td>431397</td>\n",
              "        <td>2</td>\n",
              "        <td>0</td>\n",
              "        <td>431370</td>\n",
              "        <td>2019-10-14 14:29:36</td>\n",
              "        <td>101</td>\n",
              "        <td>0</td>\n",
              "        <td>&lt;p&gt;Yes there is. Generally it is termed &lt;strong&gt;base rate fallacy&lt;/strong&gt; or more specific &lt;strong&gt;false positive paradox&lt;/strong&gt;. There is even a wikipedia article about it: &lt;a href=&quot;https://en.wikipedia.org/wiki/Base_rate_fallacy&quot; rel=&quot;noreferrer&quot;&gt;see here&lt;/a&gt;&lt;/p&gt;<br></td>\n",
              "        <td>142976</td>\n",
              "        <td>None</td>\n",
              "        <td>0</td>\n",
              "        <td>None</td>\n",
              "        <td>None</td>\n",
              "        <td>2019-10-14 14:29:36</td>\n",
              "        <td>None</td>\n",
              "        <td>None</td>\n",
              "        <td>0</td>\n",
              "        <td>0</td>\n",
              "        <td>0</td>\n",
              "        <td>None</td>\n",
              "        <td>None</td>\n",
              "        <td>269</td>\n",
              "    </tr>\n",
              "    <tr>\n",
              "        <td>394128</td>\n",
              "        <td>2</td>\n",
              "        <td>0</td>\n",
              "        <td>394118</td>\n",
              "        <td>2019-02-24 15:44:44</td>\n",
              "        <td>100</td>\n",
              "        <td>0</td>\n",
              "        <td>&lt;p&gt;I caution against expecting strong resemblance between biological and artificial neural networks. I think the name &quot;neural networks&quot; is a bit dangerous, because it tricks people into expecting that neurological processes and machine learning should be the same. The differences between biological and artificial neural networks outweigh the similarities.&lt;/p&gt;<br><br>&lt;p&gt;As an example of how this can go awry, you can also turn the reasoning in the original post on its head. You can train a neural network to learn to recognize cars in an afternoon, provided you have a reasonably fast computer and some amount of training data. You can make this a binary task (car/not car) or a multi-class task (car/tram/bike/airplane/boat) and still be confident in a high level of success. &lt;/p&gt;<br><br>&lt;p&gt;By contrast, I wouldn&#x27;t expect a child to be able to pick out a car the day - or even the week - after it&#x27;s born, even after it has seen &quot;so many training examples.&quot; Something is obviously different between a two-year-old and an infant that accounts for the difference in learning ability, whereas a vanilla image classification neural network is perfectly capable of picking up object classification &lt;em&gt;immediately&lt;/em&gt; after &quot;birth.&quot; I think that there are two important differences: (1) the relative volumes of training data available and (2) a self-teaching mechanism that develops over time because of abundant training data.&lt;/p&gt;<br><br>&lt;hr&gt;<br><br>&lt;p&gt;The original post exposes two questions. The title and body of the question ask why neural networks need &quot;so many examples.&quot; Relative to a child&#x27;s experience, neural networks trained using common image benchmarks have comparatively little data.&lt;/p&gt;<br><br>&lt;p&gt;I will re-phrases the question in the title to &lt;/p&gt;<br><br>&lt;h1&gt;&quot;How does training a neural network for a common image benchmark compare &amp;amp; contrast to the learning experience of a child?&quot;&lt;/h1&gt;<br><br>&lt;p&gt;For the sake of comparison I&#x27;ll consider the CIFAR-10 data because it is a common image benchmark. The labeled portion is composed of 10 classes of images with 6000 images per class. Each image is 32x32 pixels. If you somehow stacked the labeled images from CIFAR-10 and made a standard 48 fps video, you&#x27;d have about 20 minutes of footage.&lt;/p&gt;<br><br>&lt;p&gt;A child of 2 years who observes the world for 12 hours daily has roughly 263000 minutes (more than 4000 hours) of direct observations of the world, including feedback from adults (labels). (These are just ballpark figures -- I don&#x27;t know how many minutes a typical two-year-old has spent observing the world.) Moreover, the child will have exposure to many, many objects beyond the 10 classes that comprise CIFAR-10.&lt;/p&gt;<br><br>&lt;p&gt;So there are a few things at play. One is that the child has exposure to more data overall and a more diverse source of data than the CIFAR-10 model has. Data diversity and data volume are well-recognized as pre-requisites for robust models in general. In this light, it doesn&#x27;t seem surprising that a neural network is worse at this task than the child, because a neural network trained on CIFAR-10 is positively starved for training data compared to the two-year-old. The image resolution available to a child is better than the 32x32 CIFAR-10 images, so the child is able to learn information about the fine details of objects.&lt;/p&gt;<br><br>&lt;p&gt;The CIFAR-10 to two-year-old comparison is not perfect because the CIFAR-10 model will likely be trained with multiple passes over the same static images, while the child will see, using binocular vision, how objects are arranged in a three-dimensional world while moving about and with different lighting conditions and perspectives on the same objects.&lt;/p&gt;<br><br>&lt;p&gt;The anecdote about OP&#x27;s child implies a second question, &lt;/p&gt;<br><br>&lt;h1&gt;&quot;How can neural networks become self-teaching?&quot;&lt;/h1&gt;<br><br>&lt;p&gt;A child is endowed with some talent for self-teaching, so that new categories of objects can be added over time without having to start over from scratch. &lt;/p&gt;<br><br>&lt;ul&gt;<br>&lt;li&gt;&lt;p&gt;OP&#x27;s remark about &lt;a href=&quot;/questions/tagged/transfer-learning&quot; class=&quot;post-tag&quot; title=&quot;show questions tagged &amp;#39;transfer-learning&amp;#39;&quot; rel=&quot;tag&quot;&gt;transfer-learning&lt;/a&gt; names one kind of model adaptation in the machine learning context.&lt;/p&gt;&lt;/li&gt;<br>&lt;li&gt;&lt;p&gt;In comments, other users have pointed out that one- and few-shot learning* is another machine learning research area.&lt;/p&gt;&lt;/li&gt;<br>&lt;li&gt;&lt;p&gt;Additionally, &lt;a href=&quot;/questions/tagged/reinforcement-learning&quot; class=&quot;post-tag&quot; title=&quot;show questions tagged &amp;#39;reinforcement-learning&amp;#39;&quot; rel=&quot;tag&quot;&gt;reinforcement-learning&lt;/a&gt; addresses self-teaching models from a different perspective, essentially allowing robots to undertake trial-and-error experimentation to find optimal strategies for solving specific problems (e.g. playing chess).&lt;/p&gt;&lt;/li&gt;<br>&lt;/ul&gt;<br><br>&lt;p&gt;It&#x27;s probably true that all three of these machine learning paradigms are germane to improving how machines adapt to new computer vision tasks. Quickly adapting machine learning models to new tasks is an active area of research. However, because the practical goals of these projects (identify new instances of malware, recognize imposters in passport photos, index the internet) and criteria for success differ from the goals of a child learning about the world, and the fact that one is done in a computer using math and the other is done in organic material using chemistry, direct comparisons between the two will remain fraught.&lt;/p&gt;<br><br>&lt;hr&gt;<br><br>&lt;p&gt;As an aside, it would be interesting to study how to flip the CIFAR-10 problem around and train a neural network to recognize 6000 objects from 10 examples of each. But even this wouldn&#x27;t be a fair comparison to 2-year-old, because there would still be a large discrepancy in the total volume, diversity and resolution of the training data.&lt;/p&gt;<br><br>&lt;p&gt;*We don&#x27;t presently have a tags for one-shot learning or few-shot learning.&lt;/p&gt;<br></td>\n",
              "        <td>22311</td>\n",
              "        <td>None</td>\n",
              "        <td>22311</td>\n",
              "        <td>None</td>\n",
              "        <td>2019-03-03 17:37:05</td>\n",
              "        <td>2019-03-03 17:37:05</td>\n",
              "        <td>None</td>\n",
              "        <td>None</td>\n",
              "        <td>0</td>\n",
              "        <td>15</td>\n",
              "        <td>0</td>\n",
              "        <td>None</td>\n",
              "        <td>None</td>\n",
              "        <td>5829</td>\n",
              "    </tr>\n",
              "    <tr>\n",
              "        <td>426878</td>\n",
              "        <td>2</td>\n",
              "        <td>0</td>\n",
              "        <td>426873</td>\n",
              "        <td>2019-09-11 23:23:31</td>\n",
              "        <td>93</td>\n",
              "        <td>0</td>\n",
              "        <td>&lt;p&gt;&lt;strong&gt;tl;dr&lt;/strong&gt; Even though this is an image classification dataset, it remains a &lt;strong&gt;very easy&lt;/strong&gt; task, for which one can easily find a &lt;strong&gt;direct mapping&lt;/strong&gt; from inputs to predictions.&lt;/p&gt;<br><br>&lt;hr&gt;<br><br>&lt;p&gt;&lt;strong&gt;Answer:&lt;/strong&gt;&lt;/p&gt;<br><br>&lt;p&gt;This is a very interesting question and thanks to the simplicity of logistic regression you can actually find out the answer. &lt;/p&gt;<br><br>&lt;p&gt;What logistic regression does is for each image accept &lt;span class=&quot;math-container&quot;&gt;$784$&lt;/span&gt; inputs and multiply them with weights to generate its prediction. The interesting thing is that due to the direct mapping between input and output (i.e. no hidden layer), the value of each weight corresponds to how much each one of the &lt;span class=&quot;math-container&quot;&gt;$784$&lt;/span&gt; inputs are taken into account when computing the probability of each class. Now, by taking the weights for each class and reshaping them into &lt;span class=&quot;math-container&quot;&gt;$28 \\times 28$&lt;/span&gt; (i.e. the image resolution), we can tell &lt;strong&gt;what pixels are most important for the computation of each class&lt;/strong&gt;.&lt;/p&gt;<br><br>&lt;p&gt;&lt;img src=&quot;https://i.stack.imgur.com/5IfjY.png&quot; alt=&quot;&quot;&gt;&lt;/p&gt;<br><br>&lt;p&gt;Note, again, that these are the &lt;strong&gt;weights&lt;/strong&gt;.&lt;/p&gt;<br><br>&lt;p&gt;Now take a look at the above image and focus on the first two digits (i.e. zero and one). Blue weights mean that this pixel&#x27;s intensity contributes a lot for that class and red values mean that it contributes negatively. &lt;/p&gt;<br><br>&lt;p&gt;Now imagine, how does a person draw a &lt;span class=&quot;math-container&quot;&gt;$0$&lt;/span&gt;? He draws a circular shape that&#x27;s empty in between. That&#x27;s exactly what the weights picked up on. In fact if someone draws the middle of the image, it counts &lt;strong&gt;negatively&lt;/strong&gt; as a zero. So to recognize zeros you don&#x27;t need some sophisticated filters and high-level features. You can just look at the drawn pixel locations and judge according to this.&lt;/p&gt;<br><br>&lt;p&gt;Same thing for the &lt;span class=&quot;math-container&quot;&gt;$1$&lt;/span&gt;. It always has a straight vertical line in the middle of the image. All else counts negatively.&lt;/p&gt;<br><br>&lt;p&gt;The rest of the digits are a bit more complicated, but with little imaginations you can see the &lt;span class=&quot;math-container&quot;&gt;$2$&lt;/span&gt;, the &lt;span class=&quot;math-container&quot;&gt;$3$&lt;/span&gt;, the &lt;span class=&quot;math-container&quot;&gt;$7$&lt;/span&gt; and the &lt;span class=&quot;math-container&quot;&gt;$8$&lt;/span&gt;. The rest of the numbers are a bit more difficult, which is what actually limits the logistic regression from reaching the high-90s.&lt;/p&gt;<br><br>&lt;p&gt;Through this you can see that logistic regression has a very good chance of getting a lot of images right and that&#x27;s why it scores so high.&lt;/p&gt;<br><br>&lt;hr&gt;<br><br>&lt;p&gt;The code to reproduce the above figure is a bit dated, but here you go:&lt;/p&gt;<br><br>&lt;pre class=&quot;lang-py prettyprint-override&quot;&gt;&lt;code&gt;import tensorflow as tf<br>import matplotlib.pyplot as plt<br>from tensorflow.examples.tutorials.mnist import input_data<br><br># Load MNIST:<br>mnist = input_data.read_data_sets(&quot;MNIST_data/&quot;, one_hot=True)<br><br># Create model<br>x = tf.placeholder(tf.float32, shape=(None, 784))<br>y = tf.placeholder(tf.float32, shape=(None, 10))<br><br>W = tf.Variable(tf.zeros((784,10)))<br>b = tf.Variable(tf.zeros((10)))<br>z = tf.matmul(x, W) + b<br><br>y_hat = tf.nn.softmax(z)<br>cross_entropy = tf.reduce_mean(-tf.reduce_sum(y * tf.log(y_hat), reduction_indices=[1]))<br>optimizer = tf.train.GradientDescentOptimizer(0.5).minimize(cross_entropy) # <br><br>correct_pred = tf.equal(tf.argmax(y_hat, 1), tf.argmax(y, 1))<br>accuracy = tf.reduce_mean(tf.cast(correct_pred, tf.float32))<br><br># Train model<br>batch_size = 64<br>with tf.Session() as sess:<br><br>    loss_tr, acc_tr, loss_ts, acc_ts = [], [], [], []<br><br>    sess.run(tf.global_variables_initializer()) <br><br>    for step in range(1, 1001):<br><br>        x_batch, y_batch = mnist.train.next_batch(batch_size) <br>        sess.run(optimizer, feed_dict={x: x_batch, y: y_batch})<br><br>        l_tr, a_tr = sess.run([cross_entropy, accuracy], feed_dict={x: x_batch, y: y_batch})<br>        l_ts, a_ts = sess.run([cross_entropy, accuracy], feed_dict={x: mnist.test.images, y: mnist.test.labels})<br>        loss_tr.append(l_tr)<br>        acc_tr.append(a_tr)<br>        loss_ts.append(l_ts)<br>        acc_ts.append(a_ts)<br><br>    weights = sess.run(W)      <br>    print(&#x27;Test Accuracy =&#x27;, sess.run(accuracy, feed_dict={x: mnist.test.images, y: mnist.test.labels})) <br><br># Plotting:<br>for i in range(10):<br>    plt.subplot(2, 5, i+1)<br>    weight = weights[:,i].reshape([28,28])<br>    plt.title(i)<br>    plt.imshow(weight, cmap=&#x27;RdBu&#x27;)  # as noted by @Eric Duminil, cmap=&#x27;gray&#x27; makes the numbers stand out more<br>    frame1 = plt.gca()<br>    frame1.axes.get_xaxis().set_visible(False)<br>    frame1.axes.get_yaxis().set_visible(False)<br>&lt;/code&gt;&lt;/pre&gt;<br></td>\n",
              "        <td>119015</td>\n",
              "        <td>None</td>\n",
              "        <td>119015</td>\n",
              "        <td>None</td>\n",
              "        <td>2019-09-13 14:02:28</td>\n",
              "        <td>2019-09-13 14:02:28</td>\n",
              "        <td>None</td>\n",
              "        <td>None</td>\n",
              "        <td>0</td>\n",
              "        <td>6</td>\n",
              "        <td>0</td>\n",
              "        <td>None</td>\n",
              "        <td>None</td>\n",
              "        <td>4627</td>\n",
              "    </tr>\n",
              "    <tr>\n",
              "        <td>388578</td>\n",
              "        <td>2</td>\n",
              "        <td>0</td>\n",
              "        <td>388566</td>\n",
              "        <td>2019-01-22 15:48:47</td>\n",
              "        <td>80</td>\n",
              "        <td>0</td>\n",
              "        <td>&lt;p&gt;To me &quot;1 in 80 deaths...&quot; is by far the clearer statement.  The denominator in your &quot;1 in 80&quot; is the set of all death events and that statement makes it explicit. &lt;/p&gt;<br><br>&lt;p&gt;There&#x27;s ambiguity in the &quot;1 in 80 people...&quot; formulation. You really mean &quot;1 in 80 people who dies...&quot; but the statement can just as easily be interpreted as &quot;1 in 80 people now alive...&quot; or similar. &lt;/p&gt;<br><br>&lt;p&gt;I&#x27;m all for being explicit about the reference set in probability or frequency assertions like this. If you&#x27;re talking about the proportion of deaths, then say &quot;deaths&quot; not &quot;people&quot;. &lt;/p&gt;<br></td>\n",
              "        <td>227039</td>\n",
              "        <td>None</td>\n",
              "        <td>0</td>\n",
              "        <td>None</td>\n",
              "        <td>None</td>\n",
              "        <td>2019-01-22 15:48:47</td>\n",
              "        <td>None</td>\n",
              "        <td>None</td>\n",
              "        <td>0</td>\n",
              "        <td>11</td>\n",
              "        <td>0</td>\n",
              "        <td>None</td>\n",
              "        <td>None</td>\n",
              "        <td>572</td>\n",
              "    </tr>\n",
              "    <tr>\n",
              "        <td>431370</td>\n",
              "        <td>1</td>\n",
              "        <td>431397</td>\n",
              "        <td>0</td>\n",
              "        <td>2019-10-14 11:29:21</td>\n",
              "        <td>77</td>\n",
              "        <td>11723</td>\n",
              "        <td>&lt;p&gt;It seems very counter intuitive to many people that a given diagnostic test with very high accuracy (say 99%) can generate massively more false positives than true positives in some situations, namely where the population of true positives is very small compared to whole population.&lt;/p&gt;<br><br>&lt;p&gt;I see people making this mistake often e.g. when arguing for wider public health screenings, or wider anti-crime surveillance measures etc but I am at a loss for how to succinctly describe the mistake people are making.&lt;/p&gt;<br><br>&lt;p&gt;Does this phenomenon / statistical fallacy have a name? Failing that has anyone got a good, terse, jargon free intuition/example that would help me explain it to a lay person.&lt;/p&gt;<br><br>&lt;p&gt;Apologies if this is the wrong forum to ask this. If so please direct me to a more appropriate one.&lt;/p&gt;<br></td>\n",
              "        <td>262594</td>\n",
              "        <td>None</td>\n",
              "        <td>11887</td>\n",
              "        <td>None</td>\n",
              "        <td>2019-11-28 01:44:34</td>\n",
              "        <td>2019-11-28 01:44:34</td>\n",
              "        <td>Is there a name for the phenomenon of false positives counterintuitively outstripping true positives</td>\n",
              "        <td>&lt;probability&gt;&lt;terminology&gt;&lt;intuition&gt;</td>\n",
              "        <td>8</td>\n",
              "        <td>9</td>\n",
              "        <td>18</td>\n",
              "        <td>None</td>\n",
              "        <td>None</td>\n",
              "        <td>811</td>\n",
              "    </tr>\n",
              "</table>"
            ]
          },
          "metadata": {},
          "execution_count": 73
        }
      ]
    },
    {
      "cell_type": "markdown",
      "source": [
        "What are the 5 most frequent scores on posts?"
      ],
      "metadata": {
        "id": "nJkARyvVpYdx"
      }
    },
    {
      "cell_type": "code",
      "source": [
        "%sql SELECT Score, COUNT(*) AS count_posts FROM posts GROUP BY Score ORDER BY count_posts DESC LIMIT 5;"
      ],
      "metadata": {
        "colab": {
          "base_uri": "https://localhost:8080/",
          "height": 179
        },
        "id": "Z5UgA-mdpYw_",
        "outputId": "81dd94d6-8d9b-449a-cd0f-44951fea66cc"
      },
      "execution_count": null,
      "outputs": [
        {
          "output_type": "stream",
          "name": "stdout",
          "text": [
            " * sqlite:///chatdata.db\n",
            "Done.\n"
          ]
        },
        {
          "output_type": "execute_result",
          "data": {
            "text/plain": [
              "[(0, 19888), (1, 11867), (2, 5094), (3, 2228), (4, 1059)]"
            ],
            "text/html": [
              "<table>\n",
              "    <tr>\n",
              "        <th>Score</th>\n",
              "        <th>count_posts</th>\n",
              "    </tr>\n",
              "    <tr>\n",
              "        <td>0</td>\n",
              "        <td>19888</td>\n",
              "    </tr>\n",
              "    <tr>\n",
              "        <td>1</td>\n",
              "        <td>11867</td>\n",
              "    </tr>\n",
              "    <tr>\n",
              "        <td>2</td>\n",
              "        <td>5094</td>\n",
              "    </tr>\n",
              "    <tr>\n",
              "        <td>3</td>\n",
              "        <td>2228</td>\n",
              "    </tr>\n",
              "    <tr>\n",
              "        <td>4</td>\n",
              "        <td>1059</td>\n",
              "    </tr>\n",
              "</table>"
            ]
          },
          "metadata": {},
          "execution_count": 74
        }
      ]
    },
    {
      "cell_type": "markdown",
      "source": [
        "How many posts have the keyword \"data\" in their tags?"
      ],
      "metadata": {
        "id": "BwqN8eUlpsdo"
      }
    },
    {
      "cell_type": "code",
      "source": [
        "%sql SELECT COUNT(*) AS count_posts FROM posts WHERE Tags LIKE '%data%';"
      ],
      "metadata": {
        "colab": {
          "base_uri": "https://localhost:8080/",
          "height": 95
        },
        "id": "jo6DwaAtptFI",
        "outputId": "1d4bb781-db0d-4284-8c20-2dc6764c1825"
      },
      "execution_count": null,
      "outputs": [
        {
          "output_type": "stream",
          "name": "stdout",
          "text": [
            " * sqlite:///chatdata.db\n",
            "Done.\n"
          ]
        },
        {
          "output_type": "execute_result",
          "data": {
            "text/plain": [
              "[(2242,)]"
            ],
            "text/html": [
              "<table>\n",
              "    <tr>\n",
              "        <th>count_posts</th>\n",
              "    </tr>\n",
              "    <tr>\n",
              "        <td>2242</td>\n",
              "    </tr>\n",
              "</table>"
            ]
          },
          "metadata": {},
          "execution_count": 75
        }
      ]
    },
    {
      "cell_type": "markdown",
      "source": [
        "What are the 5 most frequent commentcount for posts?"
      ],
      "metadata": {
        "id": "M9KNzPSfqEw5"
      }
    },
    {
      "cell_type": "code",
      "source": [
        "%sql SELECT CommentCount, COUNT(*) AS count_frequency FROM posts GROUP BY CommentCount ORDER BY count_frequency DESC LIMIT 5;"
      ],
      "metadata": {
        "colab": {
          "base_uri": "https://localhost:8080/",
          "height": 179
        },
        "id": "vFS5S_G2qFWC",
        "outputId": "408f2aeb-eb08-4f7e-fee2-1f831ffba0b6"
      },
      "execution_count": null,
      "outputs": [
        {
          "output_type": "stream",
          "name": "stdout",
          "text": [
            " * sqlite:///chatdata.db\n",
            "Done.\n"
          ]
        },
        {
          "output_type": "execute_result",
          "data": {
            "text/plain": [
              "[(0, 21713), (1, 6460), (2, 4966), (3, 3063), (4, 2026)]"
            ],
            "text/html": [
              "<table>\n",
              "    <tr>\n",
              "        <th>CommentCount</th>\n",
              "        <th>count_frequency</th>\n",
              "    </tr>\n",
              "    <tr>\n",
              "        <td>0</td>\n",
              "        <td>21713</td>\n",
              "    </tr>\n",
              "    <tr>\n",
              "        <td>1</td>\n",
              "        <td>6460</td>\n",
              "    </tr>\n",
              "    <tr>\n",
              "        <td>2</td>\n",
              "        <td>4966</td>\n",
              "    </tr>\n",
              "    <tr>\n",
              "        <td>3</td>\n",
              "        <td>3063</td>\n",
              "    </tr>\n",
              "    <tr>\n",
              "        <td>4</td>\n",
              "        <td>2026</td>\n",
              "    </tr>\n",
              "</table>"
            ]
          },
          "metadata": {},
          "execution_count": 76
        }
      ]
    },
    {
      "cell_type": "markdown",
      "source": [
        "How many posts have an accepted answer?"
      ],
      "metadata": {
        "id": "7KLaSQd1qaKb"
      }
    },
    {
      "cell_type": "code",
      "source": [
        "%sql SELECT COUNT(*) AS count_posts_with_accepted_answer FROM posts WHERE AcceptedAnswerId > 0;"
      ],
      "metadata": {
        "colab": {
          "base_uri": "https://localhost:8080/",
          "height": 95
        },
        "id": "AgNCh968qajf",
        "outputId": "009f0bb6-a460-44b1-9872-70e49efcdd21"
      },
      "execution_count": null,
      "outputs": [
        {
          "output_type": "stream",
          "name": "stdout",
          "text": [
            " * sqlite:///chatdata.db\n",
            "Done.\n"
          ]
        },
        {
          "output_type": "execute_result",
          "data": {
            "text/plain": [
              "[(5341,)]"
            ],
            "text/html": [
              "<table>\n",
              "    <tr>\n",
              "        <th>count_posts_with_accepted_answer</th>\n",
              "    </tr>\n",
              "    <tr>\n",
              "        <td>5341</td>\n",
              "    </tr>\n",
              "</table>"
            ]
          },
          "metadata": {},
          "execution_count": 77
        }
      ]
    },
    {
      "cell_type": "markdown",
      "source": [
        "What is the average reputation of table users?"
      ],
      "metadata": {
        "id": "wbYRyVEqrWZR"
      }
    },
    {
      "cell_type": "code",
      "source": [
        "%sql SELECT AVG(reputation) AS average_reputation FROM users;"
      ],
      "metadata": {
        "colab": {
          "base_uri": "https://localhost:8080/",
          "height": 95
        },
        "id": "OToB8TDWrXxJ",
        "outputId": "30095aa3-7a4d-47db-90ba-82ff198340b9"
      },
      "execution_count": null,
      "outputs": [
        {
          "output_type": "stream",
          "name": "stdout",
          "text": [
            " * sqlite:///chatdata.db\n",
            "Done.\n"
          ]
        },
        {
          "output_type": "execute_result",
          "data": {
            "text/plain": [
              "[(312.3509124484032,)]"
            ],
            "text/html": [
              "<table>\n",
              "    <tr>\n",
              "        <th>average_reputation</th>\n",
              "    </tr>\n",
              "    <tr>\n",
              "        <td>312.3509124484032</td>\n",
              "    </tr>\n",
              "</table>"
            ]
          },
          "metadata": {},
          "execution_count": 78
        }
      ]
    },
    {
      "cell_type": "markdown",
      "source": [
        "What are the min and max reputation of users?"
      ],
      "metadata": {
        "id": "KqjCrO4asHP0"
      }
    },
    {
      "cell_type": "code",
      "source": [
        "%sql SELECT MIN(reputation) AS min_reputation, MAX(reputation) AS max_reputation FROM users;"
      ],
      "metadata": {
        "colab": {
          "base_uri": "https://localhost:8080/",
          "height": 95
        },
        "id": "RahZUtgOsHzY",
        "outputId": "bc044cc0-cfbd-4254-b3c4-c127257f0bce"
      },
      "execution_count": null,
      "outputs": [
        {
          "output_type": "stream",
          "name": "stdout",
          "text": [
            " * sqlite:///chatdata.db\n",
            "Done.\n"
          ]
        },
        {
          "output_type": "execute_result",
          "data": {
            "text/plain": [
              "[(1, 228662)]"
            ],
            "text/html": [
              "<table>\n",
              "    <tr>\n",
              "        <th>min_reputation</th>\n",
              "        <th>max_reputation</th>\n",
              "    </tr>\n",
              "    <tr>\n",
              "        <td>1</td>\n",
              "        <td>228662</td>\n",
              "    </tr>\n",
              "</table>"
            ]
          },
          "metadata": {},
          "execution_count": 79
        }
      ]
    },
    {
      "cell_type": "markdown",
      "source": [
        "What is the length of the body of 5 most viewed posts?"
      ],
      "metadata": {
        "id": "wK7dYbhLsU4x"
      }
    },
    {
      "cell_type": "code",
      "source": [
        "%sql SELECT LENGTH(Body) AS body_length FROM posts ORDER BY ViewCount DESC LIMIT 5;"
      ],
      "metadata": {
        "colab": {
          "base_uri": "https://localhost:8080/",
          "height": 179
        },
        "id": "Wy0QZkuUsVPr",
        "outputId": "f2511009-b83e-4496-e0a2-af7344d16fd0"
      },
      "execution_count": null,
      "outputs": [
        {
          "output_type": "stream",
          "name": "stdout",
          "text": [
            " * sqlite:///chatdata.db\n",
            "Done.\n"
          ]
        },
        {
          "output_type": "execute_result",
          "data": {
            "text/plain": [
              "[(2270,), (512,), (811,), (2148,), (1172,)]"
            ],
            "text/html": [
              "<table>\n",
              "    <tr>\n",
              "        <th>body_length</th>\n",
              "    </tr>\n",
              "    <tr>\n",
              "        <td>2270</td>\n",
              "    </tr>\n",
              "    <tr>\n",
              "        <td>512</td>\n",
              "    </tr>\n",
              "    <tr>\n",
              "        <td>811</td>\n",
              "    </tr>\n",
              "    <tr>\n",
              "        <td>2148</td>\n",
              "    </tr>\n",
              "    <tr>\n",
              "        <td>1172</td>\n",
              "    </tr>\n",
              "</table>"
            ]
          },
          "metadata": {},
          "execution_count": 80
        }
      ]
    },
    {
      "cell_type": "markdown",
      "source": [
        "How many different locations are there in the users table?"
      ],
      "metadata": {
        "id": "wjePTFohsgUF"
      }
    },
    {
      "cell_type": "code",
      "source": [
        "%sql SELECT COUNT(DISTINCT location) AS count_locations FROM users;"
      ],
      "metadata": {
        "colab": {
          "base_uri": "https://localhost:8080/",
          "height": 95
        },
        "id": "_BxAa8ogsgpS",
        "outputId": "0c7f14ae-270c-4d52-a9aa-b31b0f7d1591"
      },
      "execution_count": null,
      "outputs": [
        {
          "output_type": "stream",
          "name": "stdout",
          "text": [
            " * sqlite:///chatdata.db\n",
            "Done.\n"
          ]
        },
        {
          "output_type": "execute_result",
          "data": {
            "text/plain": [
              "[(1900,)]"
            ],
            "text/html": [
              "<table>\n",
              "    <tr>\n",
              "        <th>count_locations</th>\n",
              "    </tr>\n",
              "    <tr>\n",
              "        <td>1900</td>\n",
              "    </tr>\n",
              "</table>"
            ]
          },
          "metadata": {},
          "execution_count": 81
        }
      ]
    },
    {
      "cell_type": "markdown",
      "source": [
        "What are the top 5 locations of users?"
      ],
      "metadata": {
        "id": "zNlp6K7uswYJ"
      }
    },
    {
      "cell_type": "code",
      "source": [
        "%sql SELECT location, COUNT(*) AS count_users FROM users WHERE location IS NOT NULL AND location != '' GROUP BY location ORDER BY count_users DESC LIMIT 5;"
      ],
      "metadata": {
        "colab": {
          "base_uri": "https://localhost:8080/",
          "height": 179
        },
        "id": "MvHnYiO1s_1_",
        "outputId": "0318793e-e831-421b-fb80-01d1ae4d9daa"
      },
      "execution_count": null,
      "outputs": [
        {
          "output_type": "stream",
          "name": "stdout",
          "text": [
            " * sqlite:///chatdata.db\n",
            "Done.\n"
          ]
        },
        {
          "output_type": "execute_result",
          "data": {
            "text/plain": [
              "[('Germany', 117),\n",
              " ('India', 100),\n",
              " ('United States', 69),\n",
              " ('Paris, France', 66),\n",
              " ('London, United Kingdom', 63)]"
            ],
            "text/html": [
              "<table>\n",
              "    <tr>\n",
              "        <th>Location</th>\n",
              "        <th>count_users</th>\n",
              "    </tr>\n",
              "    <tr>\n",
              "        <td>Germany</td>\n",
              "        <td>117</td>\n",
              "    </tr>\n",
              "    <tr>\n",
              "        <td>India</td>\n",
              "        <td>100</td>\n",
              "    </tr>\n",
              "    <tr>\n",
              "        <td>United States</td>\n",
              "        <td>69</td>\n",
              "    </tr>\n",
              "    <tr>\n",
              "        <td>Paris, France</td>\n",
              "        <td>66</td>\n",
              "    </tr>\n",
              "    <tr>\n",
              "        <td>London, United Kingdom</td>\n",
              "        <td>63</td>\n",
              "    </tr>\n",
              "</table>"
            ]
          },
          "metadata": {},
          "execution_count": 82
        }
      ]
    },
    {
      "cell_type": "markdown",
      "source": [
        "Rank the days of the week from highest to lowest in terms of the volume of ViewCount as a percentage."
      ],
      "metadata": {
        "id": "qvGTY87utIr6"
      }
    },
    {
      "cell_type": "code",
      "source": [
        "#%sql SELECT strftime('%w', CreationDate) AS day_of_week, (SUM(ViewCount) * 100.0 / (SELECT SUM(ViewCount) FROM posts)) AS viewcount_percentage FROM posts GROUP BY day_of_week ORDER BY viewcount_percentage DESC;\n",
        "\n",
        "%sql SELECT ROUND(SUM(ViewCount * 100.0) / (SELECT SUM(ViewCount) FROM Posts), 2) AS SumViewCountPercent, CASE CAST (strftime('%w', CreationDate) AS INTEGER) WHEN 0 THEN 'Sunday' WHEN 1 THEN 'Monday' WHEN 2 THEN 'Tuesday' WHEN 3 THEN 'Wednesday' WHEN 4 THEN 'Thursday' WHEN 5 THEN 'Friday' ELSE 'Saturday' END AS Day FROM Posts GROUP BY Day ORDER BY SumViewCountPercent DESC;"
      ],
      "metadata": {
        "colab": {
          "base_uri": "https://localhost:8080/",
          "height": 221
        },
        "id": "J3HoJ1IBtJcI",
        "outputId": "5c014825-1ebc-42a1-9923-8a1541963d9d"
      },
      "execution_count": null,
      "outputs": [
        {
          "output_type": "stream",
          "name": "stdout",
          "text": [
            " * sqlite:///chatdata.db\n",
            "Done.\n"
          ]
        },
        {
          "output_type": "execute_result",
          "data": {
            "text/plain": [
              "[(16.82, 'Thursday'),\n",
              " (16.77, 'Wednesday'),\n",
              " (16.26, 'Tuesday'),\n",
              " (15.81, 'Monday'),\n",
              " (13.56, 'Friday'),\n",
              " (11.9, 'Sunday'),\n",
              " (8.89, 'Saturday')]"
            ],
            "text/html": [
              "<table>\n",
              "    <tr>\n",
              "        <th>SumViewCountPercent</th>\n",
              "        <th>Day</th>\n",
              "    </tr>\n",
              "    <tr>\n",
              "        <td>16.82</td>\n",
              "        <td>Thursday</td>\n",
              "    </tr>\n",
              "    <tr>\n",
              "        <td>16.77</td>\n",
              "        <td>Wednesday</td>\n",
              "    </tr>\n",
              "    <tr>\n",
              "        <td>16.26</td>\n",
              "        <td>Tuesday</td>\n",
              "    </tr>\n",
              "    <tr>\n",
              "        <td>15.81</td>\n",
              "        <td>Monday</td>\n",
              "    </tr>\n",
              "    <tr>\n",
              "        <td>13.56</td>\n",
              "        <td>Friday</td>\n",
              "    </tr>\n",
              "    <tr>\n",
              "        <td>11.9</td>\n",
              "        <td>Sunday</td>\n",
              "    </tr>\n",
              "    <tr>\n",
              "        <td>8.89</td>\n",
              "        <td>Saturday</td>\n",
              "    </tr>\n",
              "</table>"
            ]
          },
          "metadata": {},
          "execution_count": 103
        }
      ]
    },
    {
      "cell_type": "markdown",
      "metadata": {
        "id": "Q183uyyGDuZQ"
      },
      "source": [
        "# Cross Table Queries"
      ]
    },
    {
      "cell_type": "markdown",
      "source": [
        "How many posts have been created by a user that has a filled out the \"AboutMe\" section?"
      ],
      "metadata": {
        "id": "SESgRYGHuqDE"
      }
    },
    {
      "cell_type": "code",
      "execution_count": null,
      "metadata": {
        "id": "ZjyzigjYDuZQ",
        "colab": {
          "base_uri": "https://localhost:8080/",
          "height": 95
        },
        "outputId": "c3a57fbf-02dc-4111-818a-103b1d51ef50"
      },
      "outputs": [
        {
          "output_type": "stream",
          "name": "stdout",
          "text": [
            " * sqlite:///chatdata.db\n",
            "Done.\n"
          ]
        },
        {
          "output_type": "execute_result",
          "data": {
            "text/plain": [
              "[(17189,)]"
            ],
            "text/html": [
              "<table>\n",
              "    <tr>\n",
              "        <th>count_posts_with_about_me</th>\n",
              "    </tr>\n",
              "    <tr>\n",
              "        <td>17189</td>\n",
              "    </tr>\n",
              "</table>"
            ]
          },
          "metadata": {},
          "execution_count": 84
        }
      ],
      "source": [
        "%sql SELECT COUNT(*) AS count_posts_with_about_me FROM posts AS p INNER JOIN users AS u ON p.OwnerUserId = u.Id WHERE u.AboutMe IS NOT NULL AND u.AboutMe != '';"
      ]
    },
    {
      "cell_type": "markdown",
      "source": [
        "Considering only the users with an \"AboutMe,\" how many posts are there per user?"
      ],
      "metadata": {
        "id": "2yRoyx4Pu-u2"
      }
    },
    {
      "cell_type": "code",
      "execution_count": null,
      "metadata": {
        "id": "nVhefyaqDuZR",
        "colab": {
          "base_uri": "https://localhost:8080/",
          "height": 95
        },
        "outputId": "73671ca6-e636-4960-c56a-1ae5c768981b"
      },
      "outputs": [
        {
          "output_type": "stream",
          "name": "stdout",
          "text": [
            " * sqlite:///chatdata.db\n",
            "Done.\n"
          ]
        },
        {
          "output_type": "execute_result",
          "data": {
            "text/plain": [
              "[(4.274807261875155,)]"
            ],
            "text/html": [
              "<table>\n",
              "    <tr>\n",
              "        <th>posts_per_user</th>\n",
              "    </tr>\n",
              "    <tr>\n",
              "        <td>4.274807261875155</td>\n",
              "    </tr>\n",
              "</table>"
            ]
          },
          "metadata": {},
          "execution_count": 99
        }
      ],
      "source": [
        "%sql SELECT COUNT(*) / (SELECT CAST(COUNT(*) AS FLOAT) FROM USERS WHERE ABOUTME !='') AS posts_per_user FROM POSTS P JOIN USERS U ON P.OWNERUSERID = U.ID WHERE U.ABOUTME !='';"
      ]
    },
    {
      "cell_type": "markdown",
      "source": [
        "Not taking into account the commentcount field in the table posts, what are the Top 10 posts in terms of number of comments?"
      ],
      "metadata": {
        "id": "dmgV_bkXvlAq"
      }
    },
    {
      "cell_type": "code",
      "execution_count": null,
      "metadata": {
        "id": "Jv-oRmQRDuZR",
        "colab": {
          "base_uri": "https://localhost:8080/",
          "height": 284
        },
        "outputId": "480a37b5-4efa-48d8-d39c-a535d8142ae2"
      },
      "outputs": [
        {
          "output_type": "stream",
          "name": "stdout",
          "text": [
            " * sqlite:///chatdata.db\n",
            "Done.\n"
          ]
        },
        {
          "output_type": "execute_result",
          "data": {
            "text/plain": [
              "[(386853, 66),\n",
              " (384936, 42),\n",
              " (386556, 34),\n",
              " (418910, 31),\n",
              " (395232, 31),\n",
              " (402987, 27),\n",
              " (386075, 26),\n",
              " (394118, 24),\n",
              " (335381, 24),\n",
              " (402950, 23)]"
            ],
            "text/html": [
              "<table>\n",
              "    <tr>\n",
              "        <th>PostId</th>\n",
              "        <th>comment_count</th>\n",
              "    </tr>\n",
              "    <tr>\n",
              "        <td>386853</td>\n",
              "        <td>66</td>\n",
              "    </tr>\n",
              "    <tr>\n",
              "        <td>384936</td>\n",
              "        <td>42</td>\n",
              "    </tr>\n",
              "    <tr>\n",
              "        <td>386556</td>\n",
              "        <td>34</td>\n",
              "    </tr>\n",
              "    <tr>\n",
              "        <td>418910</td>\n",
              "        <td>31</td>\n",
              "    </tr>\n",
              "    <tr>\n",
              "        <td>395232</td>\n",
              "        <td>31</td>\n",
              "    </tr>\n",
              "    <tr>\n",
              "        <td>402987</td>\n",
              "        <td>27</td>\n",
              "    </tr>\n",
              "    <tr>\n",
              "        <td>386075</td>\n",
              "        <td>26</td>\n",
              "    </tr>\n",
              "    <tr>\n",
              "        <td>394118</td>\n",
              "        <td>24</td>\n",
              "    </tr>\n",
              "    <tr>\n",
              "        <td>335381</td>\n",
              "        <td>24</td>\n",
              "    </tr>\n",
              "    <tr>\n",
              "        <td>402950</td>\n",
              "        <td>23</td>\n",
              "    </tr>\n",
              "</table>"
            ]
          },
          "metadata": {},
          "execution_count": 87
        }
      ],
      "source": [
        "%sql SELECT PostId, COUNT(*) AS comment_count FROM comments GROUP BY PostId ORDER BY comment_count DESC LIMIT 10;"
      ]
    },
    {
      "cell_type": "markdown",
      "source": [
        "Who are the top 10 users who comment the most?"
      ],
      "metadata": {
        "id": "v80ukZFBv92R"
      }
    },
    {
      "cell_type": "code",
      "execution_count": null,
      "metadata": {
        "id": "iFU0wHcSDuZR",
        "colab": {
          "base_uri": "https://localhost:8080/",
          "height": 284
        },
        "outputId": "7a109985-5acc-4261-d328-3a8851fcf035"
      },
      "outputs": [
        {
          "output_type": "stream",
          "name": "stdout",
          "text": [
            " * sqlite:///chatdata.db\n",
            "Done.\n"
          ]
        },
        {
          "output_type": "execute_result",
          "data": {
            "text/plain": [
              "[(919, 3301, 223056),\n",
              " (805, 1153, 228662),\n",
              " (143489, 1024, 2890),\n",
              " (11887, 805, 39200),\n",
              " (85665, 691, 17391),\n",
              " (164061, 540, 13485),\n",
              " (22047, 536, 41385),\n",
              " (158565, 504, 6482),\n",
              " (7962, 492, 8030),\n",
              " (35989, 470, 71548)]"
            ],
            "text/html": [
              "<table>\n",
              "    <tr>\n",
              "        <th>user_id</th>\n",
              "        <th>comment_count</th>\n",
              "        <th>user_reputation</th>\n",
              "    </tr>\n",
              "    <tr>\n",
              "        <td>919</td>\n",
              "        <td>3301</td>\n",
              "        <td>223056</td>\n",
              "    </tr>\n",
              "    <tr>\n",
              "        <td>805</td>\n",
              "        <td>1153</td>\n",
              "        <td>228662</td>\n",
              "    </tr>\n",
              "    <tr>\n",
              "        <td>143489</td>\n",
              "        <td>1024</td>\n",
              "        <td>2890</td>\n",
              "    </tr>\n",
              "    <tr>\n",
              "        <td>11887</td>\n",
              "        <td>805</td>\n",
              "        <td>39200</td>\n",
              "    </tr>\n",
              "    <tr>\n",
              "        <td>85665</td>\n",
              "        <td>691</td>\n",
              "        <td>17391</td>\n",
              "    </tr>\n",
              "    <tr>\n",
              "        <td>164061</td>\n",
              "        <td>540</td>\n",
              "        <td>13485</td>\n",
              "    </tr>\n",
              "    <tr>\n",
              "        <td>22047</td>\n",
              "        <td>536</td>\n",
              "        <td>41385</td>\n",
              "    </tr>\n",
              "    <tr>\n",
              "        <td>158565</td>\n",
              "        <td>504</td>\n",
              "        <td>6482</td>\n",
              "    </tr>\n",
              "    <tr>\n",
              "        <td>7962</td>\n",
              "        <td>492</td>\n",
              "        <td>8030</td>\n",
              "    </tr>\n",
              "    <tr>\n",
              "        <td>35989</td>\n",
              "        <td>470</td>\n",
              "        <td>71548</td>\n",
              "    </tr>\n",
              "</table>"
            ]
          },
          "metadata": {},
          "execution_count": 88
        }
      ],
      "source": [
        "%sql SELECT c.UserId AS user_id, COUNT(*) AS comment_count, u.Reputation AS user_reputation FROM comments AS c INNER JOIN users AS u ON c.UserId = u.Id GROUP BY c.UserId, u.Reputation ORDER BY comment_count DESC LIMIT 10;"
      ]
    },
    {
      "cell_type": "markdown",
      "source": [
        "Who are the top 10 users who post the most?"
      ],
      "metadata": {
        "id": "yKdFm42s3qc7"
      }
    },
    {
      "cell_type": "code",
      "source": [
        "%sql SELECT p.OwnerUserId AS user_id, COUNT(*) AS post_count, u.Reputation AS user_reputation FROM posts AS p INNER JOIN users AS u ON p.OwnerUserId = u.Id GROUP BY p.OwnerUserId, u.Reputation ORDER BY user_reputation DESC LIMIT 10;"
      ],
      "metadata": {
        "colab": {
          "base_uri": "https://localhost:8080/",
          "height": 284
        },
        "id": "otWrkszM3qHI",
        "outputId": "62b8a080-22a5-4bca-94c5-5d2dbc8992cc"
      },
      "execution_count": null,
      "outputs": [
        {
          "output_type": "stream",
          "name": "stdout",
          "text": [
            " * sqlite:///chatdata.db\n",
            "Done.\n"
          ]
        },
        {
          "output_type": "execute_result",
          "data": {
            "text/plain": [
              "[(805, 230, 228662),\n",
              " (919, 203, 223056),\n",
              " (7290, 35, 115531),\n",
              " (686, 386, 85077),\n",
              " (28666, 8, 75024),\n",
              " (35989, 230, 71548),\n",
              " (7224, 233, 65999),\n",
              " (4253, 71, 59952),\n",
              " (1352, 285, 59160),\n",
              " (22311, 140, 51155)]"
            ],
            "text/html": [
              "<table>\n",
              "    <tr>\n",
              "        <th>user_id</th>\n",
              "        <th>post_count</th>\n",
              "        <th>user_reputation</th>\n",
              "    </tr>\n",
              "    <tr>\n",
              "        <td>805</td>\n",
              "        <td>230</td>\n",
              "        <td>228662</td>\n",
              "    </tr>\n",
              "    <tr>\n",
              "        <td>919</td>\n",
              "        <td>203</td>\n",
              "        <td>223056</td>\n",
              "    </tr>\n",
              "    <tr>\n",
              "        <td>7290</td>\n",
              "        <td>35</td>\n",
              "        <td>115531</td>\n",
              "    </tr>\n",
              "    <tr>\n",
              "        <td>686</td>\n",
              "        <td>386</td>\n",
              "        <td>85077</td>\n",
              "    </tr>\n",
              "    <tr>\n",
              "        <td>28666</td>\n",
              "        <td>8</td>\n",
              "        <td>75024</td>\n",
              "    </tr>\n",
              "    <tr>\n",
              "        <td>35989</td>\n",
              "        <td>230</td>\n",
              "        <td>71548</td>\n",
              "    </tr>\n",
              "    <tr>\n",
              "        <td>7224</td>\n",
              "        <td>233</td>\n",
              "        <td>65999</td>\n",
              "    </tr>\n",
              "    <tr>\n",
              "        <td>4253</td>\n",
              "        <td>71</td>\n",
              "        <td>59952</td>\n",
              "    </tr>\n",
              "    <tr>\n",
              "        <td>1352</td>\n",
              "        <td>285</td>\n",
              "        <td>59160</td>\n",
              "    </tr>\n",
              "    <tr>\n",
              "        <td>22311</td>\n",
              "        <td>140</td>\n",
              "        <td>51155</td>\n",
              "    </tr>\n",
              "</table>"
            ]
          },
          "metadata": {},
          "execution_count": 89
        }
      ]
    },
    {
      "cell_type": "code",
      "execution_count": null,
      "metadata": {
        "id": "vpHpFrYbDuZS",
        "colab": {
          "base_uri": "https://localhost:8080/",
          "height": 1000
        },
        "outputId": "7aaff952-ee9c-4118-cb85-ddf394deae90"
      },
      "outputs": [
        {
          "output_type": "stream",
          "name": "stdout",
          "text": [
            " * sqlite:///chatdata.db\n",
            "Done.\n"
          ]
        },
        {
          "output_type": "execute_result",
          "data": {
            "text/plain": [
              "[('Single Table Queries', 'Which 5 users have viewed the most times and what is the sum of those views per user?', '\\nSELECT Id, SUM(Views) AS TotalViews\\n    FROM Users\\n        GROUP BY Id\\n            ORDER BY TotalViews DESC\\n                LIMIT 5\\n                '),\n",
              " ('Task 1', 'Create table comments', '\\n    CREATE TABLE \"comments\" (\\n    \"Id\" INTEGER,\\n    \"PostId\" INTEGER,\\n    \"Score\" INTEGER,\\n    \"Text\" TEXT,\\n    \"CreationDate\" TEXT,\\n    \"UserId\" INTEGER\\n    )\\n    '),\n",
              " ('Task 2', 'Create table posts', '\\n    CREATE TABLE \"posts\" (\\n   \"Id\" INTEGER NOT NULL PRIMARY KEY,\\n\"PostTypeId\" INTEGER,\\n\"AcceptedAnswerId\" INTEGER,\\n\"ParentId\" INTEGER,\\n\"Creati ... (241 characters truncated) ... n\"Tags\" TEXT,\\n\"AnswerCount\" INTEGER,\\n\"CommentCount\" INTEGER,\\n\"FavoriteCount\" INTEGER,\\n\"ClosedDate\" TEXT,\\n\"CommunityOwnedDate\" TEXT,\\n    )\\n    '),\n",
              " ('Task 3', 'Create table users', '\\n    CREATE TABLE \"users\" (\\n   \"Id\" INTEGER NOT NULL PRIMARY KEY,\\n\"Reputation\" INTEGER,\\n\"CreationDate\" TEXT,\\n\"DisplayName\" TEXT,\\n\"LastAccessDat ... (34 characters truncated) ... ation\" TEXT,\\n\"AboutMe\" TEXT,\\n\"Views\" INTEGER,\\n\"UpVotes\" INTEGER,\\n\"DownVotes\" INTEGER,\\n\"ProfileImageUrl\" TEXT,\\n\"AccountId\" INTEGER,\\n    )\\n    '),\n",
              " ('Task 4', 'Count the number of rows in the comments table', '\\n    %sql SELECT COUNT(*) FROM comments;\\n    '),\n",
              " ('Task 5', 'Count the number of rows in the users table', '\\n    %sql SELECT COUNT(*) FROM users;\\n    '),\n",
              " ('Task 6', 'Count the number of rows in the posts table', '\\n    %sql SELECT COUNT(*) FROM posts;\\n    '),\n",
              " ('Task 7', 'Run the query to select 5 random rows from the posts table', '\\n    %sql SELECT * FROM Posts WHERE rowid IN (SELECT rowid FROM Posts ORDER BY RANDOM() LIMIT 5);\\n    '),\n",
              " ('Task 8', 'Run the query to select 5 random rows from the comments table', '\\n    %sql SELECT * FROM Comments WHERE rowid IN (SELECT rowid FROM Comments ORDER BY RANDOM() LIMIT 5);\\n    '),\n",
              " ('Task 9', 'Run the query to select 5 random rows from the users table', '\\n    %sql SELECT * FROM Users WHERE rowid IN (SELECT rowid FROM Users ORDER BY RANDOM() LIMIT 5);\\n    ')]"
            ],
            "text/html": [
              "<table>\n",
              "    <tr>\n",
              "        <th>task</th>\n",
              "        <th>action</th>\n",
              "        <th>query</th>\n",
              "    </tr>\n",
              "    <tr>\n",
              "        <td>Single Table Queries</td>\n",
              "        <td>Which 5 users have viewed the most times and what is the sum of those views per user?</td>\n",
              "        <td><br>SELECT Id, SUM(Views) AS TotalViews<br>    FROM Users<br>        GROUP BY Id<br>            ORDER BY TotalViews DESC<br>                LIMIT 5<br>                </td>\n",
              "    </tr>\n",
              "    <tr>\n",
              "        <td>Task 1</td>\n",
              "        <td>Create table comments</td>\n",
              "        <td><br>    CREATE TABLE &quot;comments&quot; (<br>    &quot;Id&quot; INTEGER,<br>    &quot;PostId&quot; INTEGER,<br>    &quot;Score&quot; INTEGER,<br>    &quot;Text&quot; TEXT,<br>    &quot;CreationDate&quot; TEXT,<br>    &quot;UserId&quot; INTEGER<br>    )<br>    </td>\n",
              "    </tr>\n",
              "    <tr>\n",
              "        <td>Task 2</td>\n",
              "        <td>Create table posts</td>\n",
              "        <td><br>    CREATE TABLE &quot;posts&quot; (<br>   &quot;Id&quot; INTEGER NOT NULL PRIMARY KEY,<br>&quot;PostTypeId&quot; INTEGER,<br>&quot;AcceptedAnswerId&quot; INTEGER,<br>&quot;ParentId&quot; INTEGER,<br>&quot;CreationDate&quot; TEXT,<br>&quot;Score&quot; INTEGER,<br>&quot;ViewCount&quot; INTEGER,<br>&quot;Body&quot; TEXT,<br>&quot;OwnerUserId&quot; INTEGER,<br>&quot;OwnerDisplayName&quot; TEXT,<br>&quot;LastEditorUserId&quot; INTEGER,<br>&quot;LastEditorDisplayName&quot; TEXT,<br>&quot;LastEditDate&quot; TEXT,<br>&quot;LastActivityDate&quot; TEXT,<br>&quot;Title&quot; TEXT,<br>&quot;Tags&quot; TEXT,<br>&quot;AnswerCount&quot; INTEGER,<br>&quot;CommentCount&quot; INTEGER,<br>&quot;FavoriteCount&quot; INTEGER,<br>&quot;ClosedDate&quot; TEXT,<br>&quot;CommunityOwnedDate&quot; TEXT,<br>    )<br>    </td>\n",
              "    </tr>\n",
              "    <tr>\n",
              "        <td>Task 3</td>\n",
              "        <td>Create table users</td>\n",
              "        <td><br>    CREATE TABLE &quot;users&quot; (<br>   &quot;Id&quot; INTEGER NOT NULL PRIMARY KEY,<br>&quot;Reputation&quot; INTEGER,<br>&quot;CreationDate&quot; TEXT,<br>&quot;DisplayName&quot; TEXT,<br>&quot;LastAccessDate&quot; TEXT,<br>&quot;WebsiteUrl&quot; TEXT,<br>&quot;Location&quot; TEXT,<br>&quot;AboutMe&quot; TEXT,<br>&quot;Views&quot; INTEGER,<br>&quot;UpVotes&quot; INTEGER,<br>&quot;DownVotes&quot; INTEGER,<br>&quot;ProfileImageUrl&quot; TEXT,<br>&quot;AccountId&quot; INTEGER,<br>    )<br>    </td>\n",
              "    </tr>\n",
              "    <tr>\n",
              "        <td>Task 4</td>\n",
              "        <td>Count the number of rows in the comments table</td>\n",
              "        <td><br>    %sql SELECT COUNT(*) FROM comments;<br>    </td>\n",
              "    </tr>\n",
              "    <tr>\n",
              "        <td>Task 5</td>\n",
              "        <td>Count the number of rows in the users table</td>\n",
              "        <td><br>    %sql SELECT COUNT(*) FROM users;<br>    </td>\n",
              "    </tr>\n",
              "    <tr>\n",
              "        <td>Task 6</td>\n",
              "        <td>Count the number of rows in the posts table</td>\n",
              "        <td><br>    %sql SELECT COUNT(*) FROM posts;<br>    </td>\n",
              "    </tr>\n",
              "    <tr>\n",
              "        <td>Task 7</td>\n",
              "        <td>Run the query to select 5 random rows from the posts table</td>\n",
              "        <td><br>    %sql SELECT * FROM Posts WHERE rowid IN (SELECT rowid FROM Posts ORDER BY RANDOM() LIMIT 5);<br>    </td>\n",
              "    </tr>\n",
              "    <tr>\n",
              "        <td>Task 8</td>\n",
              "        <td>Run the query to select 5 random rows from the comments table</td>\n",
              "        <td><br>    %sql SELECT * FROM Comments WHERE rowid IN (SELECT rowid FROM Comments ORDER BY RANDOM() LIMIT 5);<br>    </td>\n",
              "    </tr>\n",
              "    <tr>\n",
              "        <td>Task 9</td>\n",
              "        <td>Run the query to select 5 random rows from the users table</td>\n",
              "        <td><br>    %sql SELECT * FROM Users WHERE rowid IN (SELECT rowid FROM Users ORDER BY RANDOM() LIMIT 5);<br>    </td>\n",
              "    </tr>\n",
              "</table>"
            ]
          },
          "metadata": {},
          "execution_count": 90
        }
      ],
      "source": [
        "%sql SELECT * FROM queries"
      ]
    },
    {
      "cell_type": "code",
      "execution_count": null,
      "metadata": {
        "id": "pZMOCQjdDuZS"
      },
      "outputs": [],
      "source": [
        "sql = 'SELECT * FROM queries'\n",
        "queries = pd.read_sql(sql, con)\n",
        "\n",
        "queries.drop_duplicates(inplace = True) # drop duplicates"
      ]
    },
    {
      "cell_type": "code",
      "execution_count": null,
      "metadata": {
        "id": "6AKP8v0aDuZT",
        "colab": {
          "base_uri": "https://localhost:8080/",
          "height": 359
        },
        "outputId": "297af65d-e102-4d42-e7a2-51c8ce27708d"
      },
      "outputs": [
        {
          "output_type": "execute_result",
          "data": {
            "text/plain": [
              "                   task                                             action  \\\n",
              "0  SINGLE TABLE QUERIES  WHICH 5 USERS HAVE VIEWED THE MOST TIMES AND W...   \n",
              "1                TASK 1                              CREATE TABLE COMMENTS   \n",
              "2                TASK 2                                 CREATE TABLE POSTS   \n",
              "3                TASK 3                                 CREATE TABLE USERS   \n",
              "4                TASK 4     COUNT THE NUMBER OF ROWS IN THE COMMENTS TABLE   \n",
              "5                TASK 5        COUNT THE NUMBER OF ROWS IN THE USERS TABLE   \n",
              "6                TASK 6        COUNT THE NUMBER OF ROWS IN THE POSTS TABLE   \n",
              "7                TASK 7  RUN THE QUERY TO SELECT 5 RANDOM ROWS FROM THE...   \n",
              "8                TASK 8  RUN THE QUERY TO SELECT 5 RANDOM ROWS FROM THE...   \n",
              "9                TASK 9  RUN THE QUERY TO SELECT 5 RANDOM ROWS FROM THE...   \n",
              "\n",
              "                                               query  \n",
              "0  \\nSELECT ID, SUM(VIEWS) AS TOTALVIEWS\\n    FRO...  \n",
              "1  \\n    CREATE TABLE \"COMMENTS\" (\\n    \"ID\" INTE...  \n",
              "2  \\n    CREATE TABLE \"POSTS\" (\\n   \"ID\" INTEGER ...  \n",
              "3  \\n    CREATE TABLE \"USERS\" (\\n   \"ID\" INTEGER ...  \n",
              "4    \\n    %SQL SELECT COUNT(*) FROM COMMENTS;\\n      \n",
              "5       \\n    %SQL SELECT COUNT(*) FROM USERS;\\n      \n",
              "6       \\n    %SQL SELECT COUNT(*) FROM POSTS;\\n      \n",
              "7  \\n    %SQL SELECT * FROM POSTS WHERE ROWID IN ...  \n",
              "8  \\n    %SQL SELECT * FROM COMMENTS WHERE ROWID ...  \n",
              "9  \\n    %SQL SELECT * FROM USERS WHERE ROWID IN ...  "
            ],
            "text/html": [
              "\n",
              "\n",
              "  <div id=\"df-5ea4b6dc-fae8-4f38-b024-37754e1ff1bf\">\n",
              "    <div class=\"colab-df-container\">\n",
              "      <div>\n",
              "<style scoped>\n",
              "    .dataframe tbody tr th:only-of-type {\n",
              "        vertical-align: middle;\n",
              "    }\n",
              "\n",
              "    .dataframe tbody tr th {\n",
              "        vertical-align: top;\n",
              "    }\n",
              "\n",
              "    .dataframe thead th {\n",
              "        text-align: right;\n",
              "    }\n",
              "</style>\n",
              "<table border=\"1\" class=\"dataframe\">\n",
              "  <thead>\n",
              "    <tr style=\"text-align: right;\">\n",
              "      <th></th>\n",
              "      <th>task</th>\n",
              "      <th>action</th>\n",
              "      <th>query</th>\n",
              "    </tr>\n",
              "  </thead>\n",
              "  <tbody>\n",
              "    <tr>\n",
              "      <th>0</th>\n",
              "      <td>SINGLE TABLE QUERIES</td>\n",
              "      <td>WHICH 5 USERS HAVE VIEWED THE MOST TIMES AND W...</td>\n",
              "      <td>\\nSELECT ID, SUM(VIEWS) AS TOTALVIEWS\\n    FRO...</td>\n",
              "    </tr>\n",
              "    <tr>\n",
              "      <th>1</th>\n",
              "      <td>TASK 1</td>\n",
              "      <td>CREATE TABLE COMMENTS</td>\n",
              "      <td>\\n    CREATE TABLE \"COMMENTS\" (\\n    \"ID\" INTE...</td>\n",
              "    </tr>\n",
              "    <tr>\n",
              "      <th>2</th>\n",
              "      <td>TASK 2</td>\n",
              "      <td>CREATE TABLE POSTS</td>\n",
              "      <td>\\n    CREATE TABLE \"POSTS\" (\\n   \"ID\" INTEGER ...</td>\n",
              "    </tr>\n",
              "    <tr>\n",
              "      <th>3</th>\n",
              "      <td>TASK 3</td>\n",
              "      <td>CREATE TABLE USERS</td>\n",
              "      <td>\\n    CREATE TABLE \"USERS\" (\\n   \"ID\" INTEGER ...</td>\n",
              "    </tr>\n",
              "    <tr>\n",
              "      <th>4</th>\n",
              "      <td>TASK 4</td>\n",
              "      <td>COUNT THE NUMBER OF ROWS IN THE COMMENTS TABLE</td>\n",
              "      <td>\\n    %SQL SELECT COUNT(*) FROM COMMENTS;\\n</td>\n",
              "    </tr>\n",
              "    <tr>\n",
              "      <th>5</th>\n",
              "      <td>TASK 5</td>\n",
              "      <td>COUNT THE NUMBER OF ROWS IN THE USERS TABLE</td>\n",
              "      <td>\\n    %SQL SELECT COUNT(*) FROM USERS;\\n</td>\n",
              "    </tr>\n",
              "    <tr>\n",
              "      <th>6</th>\n",
              "      <td>TASK 6</td>\n",
              "      <td>COUNT THE NUMBER OF ROWS IN THE POSTS TABLE</td>\n",
              "      <td>\\n    %SQL SELECT COUNT(*) FROM POSTS;\\n</td>\n",
              "    </tr>\n",
              "    <tr>\n",
              "      <th>7</th>\n",
              "      <td>TASK 7</td>\n",
              "      <td>RUN THE QUERY TO SELECT 5 RANDOM ROWS FROM THE...</td>\n",
              "      <td>\\n    %SQL SELECT * FROM POSTS WHERE ROWID IN ...</td>\n",
              "    </tr>\n",
              "    <tr>\n",
              "      <th>8</th>\n",
              "      <td>TASK 8</td>\n",
              "      <td>RUN THE QUERY TO SELECT 5 RANDOM ROWS FROM THE...</td>\n",
              "      <td>\\n    %SQL SELECT * FROM COMMENTS WHERE ROWID ...</td>\n",
              "    </tr>\n",
              "    <tr>\n",
              "      <th>9</th>\n",
              "      <td>TASK 9</td>\n",
              "      <td>RUN THE QUERY TO SELECT 5 RANDOM ROWS FROM THE...</td>\n",
              "      <td>\\n    %SQL SELECT * FROM USERS WHERE ROWID IN ...</td>\n",
              "    </tr>\n",
              "  </tbody>\n",
              "</table>\n",
              "</div>\n",
              "      <button class=\"colab-df-convert\" onclick=\"convertToInteractive('df-5ea4b6dc-fae8-4f38-b024-37754e1ff1bf')\"\n",
              "              title=\"Convert this dataframe to an interactive table.\"\n",
              "              style=\"display:none;\">\n",
              "\n",
              "  <svg xmlns=\"http://www.w3.org/2000/svg\" height=\"24px\"viewBox=\"0 0 24 24\"\n",
              "       width=\"24px\">\n",
              "    <path d=\"M0 0h24v24H0V0z\" fill=\"none\"/>\n",
              "    <path d=\"M18.56 5.44l.94 2.06.94-2.06 2.06-.94-2.06-.94-.94-2.06-.94 2.06-2.06.94zm-11 1L8.5 8.5l.94-2.06 2.06-.94-2.06-.94L8.5 2.5l-.94 2.06-2.06.94zm10 10l.94 2.06.94-2.06 2.06-.94-2.06-.94-.94-2.06-.94 2.06-2.06.94z\"/><path d=\"M17.41 7.96l-1.37-1.37c-.4-.4-.92-.59-1.43-.59-.52 0-1.04.2-1.43.59L10.3 9.45l-7.72 7.72c-.78.78-.78 2.05 0 2.83L4 21.41c.39.39.9.59 1.41.59.51 0 1.02-.2 1.41-.59l7.78-7.78 2.81-2.81c.8-.78.8-2.07 0-2.86zM5.41 20L4 18.59l7.72-7.72 1.47 1.35L5.41 20z\"/>\n",
              "  </svg>\n",
              "      </button>\n",
              "\n",
              "\n",
              "\n",
              "    <div id=\"df-1b9c6cb0-e693-4379-96bc-e6fa7884c21b\">\n",
              "      <button class=\"colab-df-quickchart\" onclick=\"quickchart('df-1b9c6cb0-e693-4379-96bc-e6fa7884c21b')\"\n",
              "              title=\"Suggest charts.\"\n",
              "              style=\"display:none;\">\n",
              "\n",
              "<svg xmlns=\"http://www.w3.org/2000/svg\" height=\"24px\"viewBox=\"0 0 24 24\"\n",
              "     width=\"24px\">\n",
              "    <g>\n",
              "        <path d=\"M19 3H5c-1.1 0-2 .9-2 2v14c0 1.1.9 2 2 2h14c1.1 0 2-.9 2-2V5c0-1.1-.9-2-2-2zM9 17H7v-7h2v7zm4 0h-2V7h2v10zm4 0h-2v-4h2v4z\"/>\n",
              "    </g>\n",
              "</svg>\n",
              "      </button>\n",
              "    </div>\n",
              "\n",
              "<style>\n",
              "  .colab-df-quickchart {\n",
              "    background-color: #E8F0FE;\n",
              "    border: none;\n",
              "    border-radius: 50%;\n",
              "    cursor: pointer;\n",
              "    display: none;\n",
              "    fill: #1967D2;\n",
              "    height: 32px;\n",
              "    padding: 0 0 0 0;\n",
              "    width: 32px;\n",
              "  }\n",
              "\n",
              "  .colab-df-quickchart:hover {\n",
              "    background-color: #E2EBFA;\n",
              "    box-shadow: 0px 1px 2px rgba(60, 64, 67, 0.3), 0px 1px 3px 1px rgba(60, 64, 67, 0.15);\n",
              "    fill: #174EA6;\n",
              "  }\n",
              "\n",
              "  [theme=dark] .colab-df-quickchart {\n",
              "    background-color: #3B4455;\n",
              "    fill: #D2E3FC;\n",
              "  }\n",
              "\n",
              "  [theme=dark] .colab-df-quickchart:hover {\n",
              "    background-color: #434B5C;\n",
              "    box-shadow: 0px 1px 3px 1px rgba(0, 0, 0, 0.15);\n",
              "    filter: drop-shadow(0px 1px 2px rgba(0, 0, 0, 0.3));\n",
              "    fill: #FFFFFF;\n",
              "  }\n",
              "</style>\n",
              "\n",
              "    <script>\n",
              "      async function quickchart(key) {\n",
              "        const containerElement = document.querySelector('#' + key);\n",
              "        const charts = await google.colab.kernel.invokeFunction(\n",
              "            'suggestCharts', [key], {});\n",
              "      }\n",
              "    </script>\n",
              "\n",
              "      <script>\n",
              "\n",
              "function displayQuickchartButton(domScope) {\n",
              "  let quickchartButtonEl =\n",
              "    domScope.querySelector('#df-1b9c6cb0-e693-4379-96bc-e6fa7884c21b button.colab-df-quickchart');\n",
              "  quickchartButtonEl.style.display =\n",
              "    google.colab.kernel.accessAllowed ? 'block' : 'none';\n",
              "}\n",
              "\n",
              "        displayQuickchartButton(document);\n",
              "      </script>\n",
              "      <style>\n",
              "    .colab-df-container {\n",
              "      display:flex;\n",
              "      flex-wrap:wrap;\n",
              "      gap: 12px;\n",
              "    }\n",
              "\n",
              "    .colab-df-convert {\n",
              "      background-color: #E8F0FE;\n",
              "      border: none;\n",
              "      border-radius: 50%;\n",
              "      cursor: pointer;\n",
              "      display: none;\n",
              "      fill: #1967D2;\n",
              "      height: 32px;\n",
              "      padding: 0 0 0 0;\n",
              "      width: 32px;\n",
              "    }\n",
              "\n",
              "    .colab-df-convert:hover {\n",
              "      background-color: #E2EBFA;\n",
              "      box-shadow: 0px 1px 2px rgba(60, 64, 67, 0.3), 0px 1px 3px 1px rgba(60, 64, 67, 0.15);\n",
              "      fill: #174EA6;\n",
              "    }\n",
              "\n",
              "    [theme=dark] .colab-df-convert {\n",
              "      background-color: #3B4455;\n",
              "      fill: #D2E3FC;\n",
              "    }\n",
              "\n",
              "    [theme=dark] .colab-df-convert:hover {\n",
              "      background-color: #434B5C;\n",
              "      box-shadow: 0px 1px 3px 1px rgba(0, 0, 0, 0.15);\n",
              "      filter: drop-shadow(0px 1px 2px rgba(0, 0, 0, 0.3));\n",
              "      fill: #FFFFFF;\n",
              "    }\n",
              "  </style>\n",
              "\n",
              "      <script>\n",
              "        const buttonEl =\n",
              "          document.querySelector('#df-5ea4b6dc-fae8-4f38-b024-37754e1ff1bf button.colab-df-convert');\n",
              "        buttonEl.style.display =\n",
              "          google.colab.kernel.accessAllowed ? 'block' : 'none';\n",
              "\n",
              "        async function convertToInteractive(key) {\n",
              "          const element = document.querySelector('#df-5ea4b6dc-fae8-4f38-b024-37754e1ff1bf');\n",
              "          const dataTable =\n",
              "            await google.colab.kernel.invokeFunction('convertToInteractive',\n",
              "                                                     [key], {});\n",
              "          if (!dataTable) return;\n",
              "\n",
              "          const docLinkHtml = 'Like what you see? Visit the ' +\n",
              "            '<a target=\"_blank\" href=https://colab.research.google.com/notebooks/data_table.ipynb>data table notebook</a>'\n",
              "            + ' to learn more about interactive tables.';\n",
              "          element.innerHTML = '';\n",
              "          dataTable['output_type'] = 'display_data';\n",
              "          await google.colab.output.renderOutput(dataTable, element);\n",
              "          const docLink = document.createElement('div');\n",
              "          docLink.innerHTML = docLinkHtml;\n",
              "          element.appendChild(docLink);\n",
              "        }\n",
              "      </script>\n",
              "    </div>\n",
              "  </div>\n"
            ]
          },
          "metadata": {},
          "execution_count": 92
        }
      ],
      "source": [
        "for col in queries.columns:\n",
        "    queries[col] = queries[col].str.upper()\n",
        "\n",
        "queries"
      ]
    },
    {
      "cell_type": "code",
      "execution_count": null,
      "metadata": {
        "id": "f2keEeUMDuZT",
        "colab": {
          "base_uri": "https://localhost:8080/"
        },
        "outputId": "fe432a28-7c57-4489-baf9-0851987e04cc"
      },
      "outputs": [
        {
          "output_type": "execute_result",
          "data": {
            "text/plain": [
              "10"
            ]
          },
          "metadata": {},
          "execution_count": 93
        }
      ],
      "source": [
        "queries.to_sql('queries', con, if_exists='replace', index=False)"
      ]
    },
    {
      "cell_type": "code",
      "execution_count": null,
      "metadata": {
        "id": "ZN-C_ffuDuZV"
      },
      "outputs": [],
      "source": [
        "con.close()"
      ]
    }
  ],
  "metadata": {
    "kernelspec": {
      "display_name": "Python 3",
      "language": "python",
      "name": "python3"
    },
    "language_info": {
      "codemirror_mode": {
        "name": "ipython",
        "version": 3
      },
      "file_extension": ".py",
      "mimetype": "text/x-python",
      "name": "python",
      "nbconvert_exporter": "python",
      "pygments_lexer": "ipython3",
      "version": "3.8.8"
    },
    "toc": {
      "base_numbering": 1,
      "nav_menu": {},
      "number_sections": true,
      "sideBar": true,
      "skip_h1_title": false,
      "title_cell": "Table of Contents",
      "title_sidebar": "Contents",
      "toc_cell": false,
      "toc_position": {
        "height": "calc(100% - 180px)",
        "left": "10px",
        "top": "150px",
        "width": "293.993px"
      },
      "toc_section_display": true,
      "toc_window_display": true
    },
    "colab": {
      "provenance": []
    }
  },
  "nbformat": 4,
  "nbformat_minor": 0
}